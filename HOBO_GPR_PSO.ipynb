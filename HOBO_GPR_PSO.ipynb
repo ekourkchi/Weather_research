{
  "nbformat": 4,
  "nbformat_minor": 0,
  "metadata": {
    "colab": {
      "name": "HOBO_GPR_PSO.ipynb",
      "provenance": [],
      "collapsed_sections": [],
      "mount_file_id": "1N_zgGgf0pUAxjN3XdXOUCl9piThZsY7e",
      "authorship_tag": "ABX9TyPKkLk0Y4Pt0DMbGD3Vgbkh",
      "include_colab_link": true
    },
    "kernelspec": {
      "name": "python3",
      "display_name": "Python 3"
    }
  },
  "cells": [
    {
      "cell_type": "markdown",
      "metadata": {
        "id": "view-in-github",
        "colab_type": "text"
      },
      "source": [
        "<a href=\"https://colab.research.google.com/github/ekourkchi/Weather_research/blob/master/HOBO_GPR_PSO.ipynb\" target=\"_parent\"><img src=\"https://colab.research.google.com/assets/colab-badge.svg\" alt=\"Open In Colab\"/></a>"
      ]
    },
    {
      "cell_type": "markdown",
      "metadata": {
        "id": "P4xaWzP4bEiD"
      },
      "source": [
        "\n",
        "\n",
        "# Installing extra packages on the current session\n",
        "I use \"george packages for the Gaussian Process analysis\n",
        "Please visit here for further details: https://george.readthedocs.io/en/latest/user/kernels/\n"
      ]
    },
    {
      "cell_type": "code",
      "metadata": {
        "id": "1OnIjP9PbCF5",
        "colab": {
          "base_uri": "https://localhost:8080/"
        },
        "outputId": "fe1e587b-a46f-48bd-ccd9-cd3ad686a4a8"
      },
      "source": [
        "!pip install george"
      ],
      "execution_count": 1,
      "outputs": [
        {
          "output_type": "stream",
          "text": [
            "Collecting george\n",
            "\u001b[?25l  Downloading https://files.pythonhosted.org/packages/74/27/2dbe1b03b9bf9c2e831b63a6db4d1a39f1ea05aa39e3f52965f8371a8e59/george-0.4.0-cp37-cp37m-manylinux2014_x86_64.whl (407kB)\n",
            "\u001b[K     |████████████████████████████████| 409kB 4.0MB/s \n",
            "\u001b[?25hRequirement already satisfied: scipy in /usr/local/lib/python3.7/dist-packages (from george) (1.4.1)\n",
            "Requirement already satisfied: numpy in /usr/local/lib/python3.7/dist-packages (from george) (1.19.5)\n",
            "Installing collected packages: george\n",
            "Successfully installed george-0.4.0\n"
          ],
          "name": "stdout"
        }
      ]
    },
    {
      "cell_type": "markdown",
      "metadata": {
        "id": "CJPo4yPabY6m"
      },
      "source": [
        "\n",
        "# Importing packages\n"
      ]
    },
    {
      "cell_type": "code",
      "metadata": {
        "id": "nwWf_zgebWs0"
      },
      "source": [
        "import sys\n",
        "import time\n",
        "import os\n",
        "import subprocess\n",
        "import math\n",
        "import matplotlib.pyplot as plt\n",
        "import numpy as np\n",
        "from astropy.table import Table, Column \n",
        "from scipy.stats import linregress\n",
        "from scipy import interpolate\n",
        "from scipy import polyval, polyfit\n",
        "from scipy import odr\n",
        "import pylab as py\n",
        "from matplotlib import gridspec\n",
        "import sklearn.datasets as ds\n",
        "from sklearn.decomposition import PCA\n",
        "from sklearn.preprocessing import StandardScaler\n",
        "import scipy.optimize as op\n",
        "from scipy.linalg import cholesky, inv,det\n",
        "from scipy.optimize import minimize\n",
        "import george\n",
        "from george import kernels\n",
        "import pandas as pd\n",
        "from datetime import datetime, timedelta\n",
        "import time\n",
        "from sklearn.metrics import mean_squared_error\n",
        "from sklearn.metrics import r2_score"
      ],
      "execution_count": 2,
      "outputs": []
    },
    {
      "cell_type": "markdown",
      "metadata": {
        "id": "XABFRiJzbnlu"
      },
      "source": [
        "# Load data\n",
        "data preparation\n",
        "We generate the first 3 main principal components that capture the most useful information of the data. P1, P2 and P3 are not correalted with each other while they are epressed as the linear cominination of the available featurdes, i.e. ET0, VPD, Rn and T (air temperature)\n",
        "\n",
        "**Note:** Make sure that the data file is addressed correctly and it's already avaialble in your Google drive."
      ]
    },
    {
      "cell_type": "code",
      "metadata": {
        "colab": {
          "base_uri": "https://localhost:8080/",
          "height": 35
        },
        "id": "UGGjwQafA5KF",
        "outputId": "4d8b9a3c-bb93-43a0-e57f-913e3594545a"
      },
      "source": [
        "stationInfo = {\n",
        "    10906989:{\"timeZone\": \"US/Hawaii\", \"name\": \"ALOUN_HELEMANO\", \"GPS\": \"21 32 8.9 N 158 02 05.0 W\"},  \n",
        "    20173022:{\"timeZone\": \"US/Hawaii\", \"name\": \"HIRAKO\", \"GPS\": \"20 00 14.6 N 155 41 29.3 W\"}, \n",
        "    20009161:{\"timeZone\": \"US/Hawaii\", \"name\": \"KULA_AG_PARK\", \"GPS\": \"20 47 43.2 N 156 21 35.6 W\"}, \n",
        "    20121046:{\"timeZone\": \"Pacific/Guam\", \"name\": \"MALOJLOJ MEDA\", \"GPS\": \"13 20 21.0 N 144 45 49.0 E\"},\n",
        "    20006321:{\"timeZone\": \"US/Hawaii\", \"name\": \"MAO\", \"GPS\": \"21 27 4.9 N 158 09 25.8 W\"},\n",
        "    20173020:{\"timeZone\": \"US/Hawaii\", \"name\": \"PIONEER CORN\", \"GPS\": \"21 33 41.5 N 158 07 40.3 W\"},\n",
        "    20173019:{\"timeZone\": \"US/Hawaii\", \"name\": \"SEIZEN\", \"GPS\": \"20 01 26.2 N 155 39 00.5 W\"},\n",
        "    20824841:{\"timeZone\": \"Pacific/Guam\", \"name\": \"WATSON\", \"GPS\": \"\"},\n",
        "    20824842:{\"timeZone\": \"Pacific/Guam\", \"name\": \"WUSSTIG\", \"GPS\": \"\"},\n",
        "    20121045:{\"timeZone\": \"Pacific/Guam\", \"name\": \"YIGO\", \"GPS\": \"13 33 54.3 N 144 52 38.4 E\"},   #            \n",
        "    20121047:{\"timeZone\": \"Pacific/Samoa\", \"name\": \"MALAEIMI \", \"GPS\": \"\"},\n",
        "    20121048:{\"timeZone\": \"Pacific/Samoa\", \"name\": \"TAFETA\", \"GPS\": \"\"},\n",
        "    20173018:{\"timeZone\": \"US/Hawaii\", \"name\": \"TEXEIRA\", \"GPS\": \"\"},\n",
        "    'PH1':{\"timeZone\": \"US/Hawaii\", \"name\": \"PIONEER Gay\", \"GPS\": \"21.568543N  -158.155975W\"},\n",
        "    'PH2':{\"timeZone\": \"US/Hawaii\", \"name\": \"PIONEER Helemano\", \"GPS\": \"21.565335N  -158.097097W\"},\n",
        "    }\n",
        "\n",
        "\n",
        "\n",
        "serial = 20121048\n",
        "station = stationInfo[serial][\"name\"]\n",
        "station"
      ],
      "execution_count": 3,
      "outputs": [
        {
          "output_type": "execute_result",
          "data": {
            "application/vnd.google.colaboratory.intrinsic+json": {
              "type": "string"
            },
            "text/plain": [
              "'TAFETA'"
            ]
          },
          "metadata": {
            "tags": []
          },
          "execution_count": 3
        }
      ]
    },
    {
      "cell_type": "code",
      "metadata": {
        "colab": {
          "base_uri": "https://localhost:8080/"
        },
        "id": "dRTBf0cOA890",
        "outputId": "45d4f697-c85c-401b-965e-827474eab0ad"
      },
      "source": [
        "data = pd.read_excel('/content/drive/MyDrive/HOBO_CAMPBELL_ET0_Rain.xlsx', sheet_name=station)\n",
        "\n",
        "data.columns"
      ],
      "execution_count": 4,
      "outputs": [
        {
          "output_type": "execute_result",
          "data": {
            "text/plain": [
              "Index(['Unnamed: 0', 'Date(Pacific/Samoa)', 'ETo_PM(inch/day)',\n",
              "       'ETo_CIMIS(inch/day)', 'Rain(inch)', 'Tc', 'Tmin', 'Tmax', 'VPD', 'Rn',\n",
              "       'ETo_PM (raw)', 'ETo_CIMIS (raw)', 'Rain (raw)'],\n",
              "      dtype='object')"
            ]
          },
          "metadata": {
            "tags": []
          },
          "execution_count": 4
        }
      ]
    },
    {
      "cell_type": "code",
      "metadata": {
        "colab": {
          "base_uri": "https://localhost:8080/",
          "height": 224
        },
        "id": "RzkBTDkJMurc",
        "outputId": "c1e49ecc-a3d8-4f1c-9cb1-21a9b8f219a5"
      },
      "source": [
        "data.head()"
      ],
      "execution_count": 5,
      "outputs": [
        {
          "output_type": "execute_result",
          "data": {
            "text/html": [
              "<div>\n",
              "<style scoped>\n",
              "    .dataframe tbody tr th:only-of-type {\n",
              "        vertical-align: middle;\n",
              "    }\n",
              "\n",
              "    .dataframe tbody tr th {\n",
              "        vertical-align: top;\n",
              "    }\n",
              "\n",
              "    .dataframe thead th {\n",
              "        text-align: right;\n",
              "    }\n",
              "</style>\n",
              "<table border=\"1\" class=\"dataframe\">\n",
              "  <thead>\n",
              "    <tr style=\"text-align: right;\">\n",
              "      <th></th>\n",
              "      <th>Unnamed: 0</th>\n",
              "      <th>Date(Pacific/Samoa)</th>\n",
              "      <th>ETo_PM(inch/day)</th>\n",
              "      <th>ETo_CIMIS(inch/day)</th>\n",
              "      <th>Rain(inch)</th>\n",
              "      <th>Tc</th>\n",
              "      <th>Tmin</th>\n",
              "      <th>Tmax</th>\n",
              "      <th>VPD</th>\n",
              "      <th>Rn</th>\n",
              "      <th>ETo_PM (raw)</th>\n",
              "      <th>ETo_CIMIS (raw)</th>\n",
              "      <th>Rain (raw)</th>\n",
              "    </tr>\n",
              "  </thead>\n",
              "  <tbody>\n",
              "    <tr>\n",
              "      <th>0</th>\n",
              "      <td>0</td>\n",
              "      <td>2018-11-12</td>\n",
              "      <td>NaN</td>\n",
              "      <td>NaN</td>\n",
              "      <td>NaN</td>\n",
              "      <td>28.831482</td>\n",
              "      <td>26.694446</td>\n",
              "      <td>32.533332</td>\n",
              "      <td>0.715990</td>\n",
              "      <td>0.400366</td>\n",
              "      <td>NaN</td>\n",
              "      <td>NaN</td>\n",
              "      <td>NaN</td>\n",
              "    </tr>\n",
              "    <tr>\n",
              "      <th>1</th>\n",
              "      <td>1</td>\n",
              "      <td>2018-11-13</td>\n",
              "      <td>0.208553</td>\n",
              "      <td>0.235148</td>\n",
              "      <td>0.024</td>\n",
              "      <td>28.488426</td>\n",
              "      <td>25.449999</td>\n",
              "      <td>31.588889</td>\n",
              "      <td>0.672439</td>\n",
              "      <td>0.706686</td>\n",
              "      <td>0.209420</td>\n",
              "      <td>0.236169</td>\n",
              "      <td>0.024</td>\n",
              "    </tr>\n",
              "    <tr>\n",
              "      <th>2</th>\n",
              "      <td>2</td>\n",
              "      <td>2018-11-14</td>\n",
              "      <td>0.039773</td>\n",
              "      <td>0.045477</td>\n",
              "      <td>0.326</td>\n",
              "      <td>26.716435</td>\n",
              "      <td>25.016666</td>\n",
              "      <td>30.266669</td>\n",
              "      <td>0.310882</td>\n",
              "      <td>0.080576</td>\n",
              "      <td>0.051814</td>\n",
              "      <td>0.058811</td>\n",
              "      <td>0.326</td>\n",
              "    </tr>\n",
              "    <tr>\n",
              "      <th>3</th>\n",
              "      <td>3</td>\n",
              "      <td>2018-11-15</td>\n",
              "      <td>0.066691</td>\n",
              "      <td>0.075588</td>\n",
              "      <td>0.427</td>\n",
              "      <td>26.749074</td>\n",
              "      <td>24.727779</td>\n",
              "      <td>29.766668</td>\n",
              "      <td>0.262648</td>\n",
              "      <td>0.184259</td>\n",
              "      <td>0.084951</td>\n",
              "      <td>0.096560</td>\n",
              "      <td>0.427</td>\n",
              "    </tr>\n",
              "    <tr>\n",
              "      <th>4</th>\n",
              "      <td>4</td>\n",
              "      <td>2018-11-16</td>\n",
              "      <td>0.169222</td>\n",
              "      <td>0.200526</td>\n",
              "      <td>0.000</td>\n",
              "      <td>28.059028</td>\n",
              "      <td>25.377778</td>\n",
              "      <td>31.916665</td>\n",
              "      <td>0.455581</td>\n",
              "      <td>0.566058</td>\n",
              "      <td>0.165164</td>\n",
              "      <td>0.195206</td>\n",
              "      <td>0.000</td>\n",
              "    </tr>\n",
              "  </tbody>\n",
              "</table>\n",
              "</div>"
            ],
            "text/plain": [
              "   Unnamed: 0 Date(Pacific/Samoa)  ...  ETo_CIMIS (raw)  Rain (raw)\n",
              "0           0          2018-11-12  ...              NaN         NaN\n",
              "1           1          2018-11-13  ...         0.236169       0.024\n",
              "2           2          2018-11-14  ...         0.058811       0.326\n",
              "3           3          2018-11-15  ...         0.096560       0.427\n",
              "4           4          2018-11-16  ...         0.195206       0.000\n",
              "\n",
              "[5 rows x 13 columns]"
            ]
          },
          "metadata": {
            "tags": []
          },
          "execution_count": 5
        }
      ]
    },
    {
      "cell_type": "code",
      "metadata": {
        "id": "0aV7TYqKA9xR"
      },
      "source": [
        "mode = 'ETo' # or Rain / ETo\n",
        "\n",
        "date = 'Date('+stationInfo[serial][\"timeZone\"]+')'\n",
        "\n",
        "if mode == 'ETo':\n",
        "  Label = 'ETo_CIMIS (raw)'\n",
        "elif mode == 'Rain':\n",
        "  Label = 'Rain (raw)'\n",
        "\n",
        "if serial == 'PH1' or serial == 'PH2':\n",
        "  date = 'Date'\n",
        "  if mode == 'ETo':\n",
        "    Label = 'ETo.raw'\n",
        "  elif mode == 'Rain':\n",
        "    Label = 'Rainfall.raw'\n",
        "\n",
        "# data = data[['Date(US/Hawaii)', 'ETo_CIMIS (raw)', 'Rain(inch)', 'Tc']]\n",
        "\n",
        "data = data[[date, Label]]\n"
      ],
      "execution_count": 6,
      "outputs": []
    },
    {
      "cell_type": "code",
      "metadata": {
        "colab": {
          "base_uri": "https://localhost:8080/"
        },
        "id": "WmXGHGptL9L_",
        "outputId": "b9023943-678c-41a1-dc97-7480dc0f3f75"
      },
      "source": [
        "from google.colab import drive\n",
        "drive.mount('/content/drive')"
      ],
      "execution_count": 7,
      "outputs": [
        {
          "output_type": "stream",
          "text": [
            "Drive already mounted at /content/drive; to attempt to forcibly remount, call drive.mount(\"/content/drive\", force_remount=True).\n"
          ],
          "name": "stdout"
        }
      ]
    },
    {
      "cell_type": "code",
      "metadata": {
        "colab": {
          "base_uri": "https://localhost:8080/",
          "height": 238
        },
        "id": "59noFNn6A_X5",
        "outputId": "4d06f918-8748-472b-fd02-2e47320235fa"
      },
      "source": [
        "# revising the column names\n",
        "for col in data.columns:\n",
        "  newcol = col.split(\"(\")[0].strip()\n",
        "  data.rename(columns={col:newcol}, inplace=True)\n",
        "\n",
        "# setting up the index of the data frame\n",
        "data.set_index(\"Date\", inplace=True)\n",
        "\n",
        "Label = Label.split(\"(\")[0].strip()\n",
        "\n",
        "data.tail(5)"
      ],
      "execution_count": 8,
      "outputs": [
        {
          "output_type": "execute_result",
          "data": {
            "text/html": [
              "<div>\n",
              "<style scoped>\n",
              "    .dataframe tbody tr th:only-of-type {\n",
              "        vertical-align: middle;\n",
              "    }\n",
              "\n",
              "    .dataframe tbody tr th {\n",
              "        vertical-align: top;\n",
              "    }\n",
              "\n",
              "    .dataframe thead th {\n",
              "        text-align: right;\n",
              "    }\n",
              "</style>\n",
              "<table border=\"1\" class=\"dataframe\">\n",
              "  <thead>\n",
              "    <tr style=\"text-align: right;\">\n",
              "      <th></th>\n",
              "      <th>ETo_CIMIS</th>\n",
              "    </tr>\n",
              "    <tr>\n",
              "      <th>Date</th>\n",
              "      <th></th>\n",
              "    </tr>\n",
              "  </thead>\n",
              "  <tbody>\n",
              "    <tr>\n",
              "      <th>2019-10-27</th>\n",
              "      <td>0.021894</td>\n",
              "    </tr>\n",
              "    <tr>\n",
              "      <th>2019-10-28</th>\n",
              "      <td>0.011498</td>\n",
              "    </tr>\n",
              "    <tr>\n",
              "      <th>2019-10-29</th>\n",
              "      <td>0.099945</td>\n",
              "    </tr>\n",
              "    <tr>\n",
              "      <th>2019-10-30</th>\n",
              "      <td>0.087397</td>\n",
              "    </tr>\n",
              "    <tr>\n",
              "      <th>2019-10-31</th>\n",
              "      <td>NaN</td>\n",
              "    </tr>\n",
              "  </tbody>\n",
              "</table>\n",
              "</div>"
            ],
            "text/plain": [
              "            ETo_CIMIS\n",
              "Date                 \n",
              "2019-10-27   0.021894\n",
              "2019-10-28   0.011498\n",
              "2019-10-29   0.099945\n",
              "2019-10-30   0.087397\n",
              "2019-10-31        NaN"
            ]
          },
          "metadata": {
            "tags": []
          },
          "execution_count": 8
        }
      ]
    },
    {
      "cell_type": "code",
      "metadata": {
        "colab": {
          "base_uri": "https://localhost:8080/",
          "height": 238
        },
        "id": "PWlLL-vMJjtR",
        "outputId": "bc682adc-abf4-4e11-9367-94e382a7d9a1"
      },
      "source": [
        "if np.isnan(data.iloc[-1][Label]):\n",
        "  data = data.iloc[:-1]\n",
        "\n",
        "data.tail(5)"
      ],
      "execution_count": 9,
      "outputs": [
        {
          "output_type": "execute_result",
          "data": {
            "text/html": [
              "<div>\n",
              "<style scoped>\n",
              "    .dataframe tbody tr th:only-of-type {\n",
              "        vertical-align: middle;\n",
              "    }\n",
              "\n",
              "    .dataframe tbody tr th {\n",
              "        vertical-align: top;\n",
              "    }\n",
              "\n",
              "    .dataframe thead th {\n",
              "        text-align: right;\n",
              "    }\n",
              "</style>\n",
              "<table border=\"1\" class=\"dataframe\">\n",
              "  <thead>\n",
              "    <tr style=\"text-align: right;\">\n",
              "      <th></th>\n",
              "      <th>ETo_CIMIS</th>\n",
              "    </tr>\n",
              "    <tr>\n",
              "      <th>Date</th>\n",
              "      <th></th>\n",
              "    </tr>\n",
              "  </thead>\n",
              "  <tbody>\n",
              "    <tr>\n",
              "      <th>2019-10-26</th>\n",
              "      <td>0.092567</td>\n",
              "    </tr>\n",
              "    <tr>\n",
              "      <th>2019-10-27</th>\n",
              "      <td>0.021894</td>\n",
              "    </tr>\n",
              "    <tr>\n",
              "      <th>2019-10-28</th>\n",
              "      <td>0.011498</td>\n",
              "    </tr>\n",
              "    <tr>\n",
              "      <th>2019-10-29</th>\n",
              "      <td>0.099945</td>\n",
              "    </tr>\n",
              "    <tr>\n",
              "      <th>2019-10-30</th>\n",
              "      <td>0.087397</td>\n",
              "    </tr>\n",
              "  </tbody>\n",
              "</table>\n",
              "</div>"
            ],
            "text/plain": [
              "            ETo_CIMIS\n",
              "Date                 \n",
              "2019-10-26   0.092567\n",
              "2019-10-27   0.021894\n",
              "2019-10-28   0.011498\n",
              "2019-10-29   0.099945\n",
              "2019-10-30   0.087397"
            ]
          },
          "metadata": {
            "tags": []
          },
          "execution_count": 9
        }
      ]
    },
    {
      "cell_type": "code",
      "metadata": {
        "id": "4HBVEZGeLAS5"
      },
      "source": [
        ""
      ],
      "execution_count": 9,
      "outputs": []
    },
    {
      "cell_type": "markdown",
      "metadata": {
        "id": "OrP7M15gHMk-"
      },
      "source": [
        "# Staging some data for ML modeling\n"
      ]
    },
    {
      "cell_type": "markdown",
      "metadata": {
        "id": "5h5qVxedeU3E"
      },
      "source": [
        "Generating train and test data sets.\n",
        "For the sake of speed, we use use a fraction of data for evaluation of our algorithm. Later to get the final results, we use the entire data set."
      ]
    },
    {
      "cell_type": "code",
      "metadata": {
        "id": "ljW9DtTPdVy1",
        "colab": {
          "base_uri": "https://localhost:8080/",
          "height": 243
        },
        "outputId": "3c7e0985-c679-43f9-9c11-d5d3661a7192"
      },
      "source": [
        "fig = py.figure(figsize=(10,15), dpi=100)    \n",
        "fig.subplots_adjust(wspace=0, top=0.92, bottom=0.12, left=0.06, right=0.98)\n",
        "gs = gridspec.GridSpec(7,1) ; p=0\n",
        "\n",
        "# training\n",
        "N = len(data)\n",
        "x = data.index\n",
        "y = data[Label]\n",
        "\n",
        "# top plot \n",
        "p = 0\n",
        "\n",
        "ax = plt.subplot(gs[p]) ; p+=1\n",
        "ax.plot(x, y, color='green', label=\"train\")\n",
        "ax.legend(bbox_to_anchor=(1.01, 1))\n",
        "ax.set_ylabel(Label)\n",
        "\n",
        "ax.set_xlabel(\"Time\")"
      ],
      "execution_count": 10,
      "outputs": [
        {
          "output_type": "execute_result",
          "data": {
            "text/plain": [
              "Text(0.5, 0, 'Time')"
            ]
          },
          "metadata": {
            "tags": []
          },
          "execution_count": 10
        },
        {
          "output_type": "display_data",
          "data": {
            "image/png": "[encoded data removed]",
            "text/plain": [
              "<Figure size 1000x1500 with 1 Axes>"
            ]
          },
          "metadata": {
            "tags": [],
            "needs_background": "light"
          }
        }
      ]
    },
    {
      "cell_type": "markdown",
      "metadata": {
        "id": "1Pj-xb-MeTaF"
      },
      "source": [
        ""
      ]
    },
    {
      "cell_type": "code",
      "metadata": {
        "id": "Sb37opfcgjKO"
      },
      "source": [
        "def metrics(y1, y2):\n",
        "  '''\n",
        "  y1 and y2 are two series of the same size\n",
        "\n",
        "  This function outputs the MAE, RMSE and R^2 \n",
        "  of the cross evaluated series.\n",
        "\n",
        "  '''\n",
        "  y1 = y1.reshape(-1)\n",
        "  y2 = y2.reshape(-1)\n",
        "  RMSE = np.sqrt(np.mean((y1-y2)**2))\n",
        "  MAE = np.mean(np.abs(y1-y2))\n",
        "  R2 = r2_score(y1, y2)\n",
        "  print('MAE: %.3f'%MAE, ' RMSE: %.3f'%RMSE, ' R^2: %.2f'%R2)\n",
        "########################################\n",
        "\n",
        "def funcMAX(func, X, y, addParam = 0, maxiter=500, method='L-BFGS-B', verbose=False):\n",
        "  \n",
        "  '''\n",
        "  A function to find the optimum parameters of the input funtion \"func\",\n",
        "  where yp = func(X) and RMSE(y-yp) is minimzed\n",
        "\n",
        "  output: \"results\" is the object that contains everything about the fit\n",
        "  result.x holds the optimized parameters\n",
        "  '''\n",
        "\n",
        "  t1 =  datetime.now()  # t1 and t2 are used for timing this process\n",
        "  ###########################################\n",
        "  n = X.shape[1]\n",
        "  # Maximum Likelihood\n",
        "  Param_init = np.random.rand(n+addParam)\n",
        "  result = minimize(func(X, y), Param_init, \n",
        "                method=method, options={\"maxiter\":maxiter})\n",
        "  print(\"--------------------\")\n",
        "  if verbose:\n",
        "    print(result)\n",
        "  ###########################################\n",
        "  if not verbose: \n",
        "    print(\"Fit Success: \", result.success)\n",
        "  t2 =  datetime.now()\n",
        "  print(\"Execution time: \", t2-t1)\n",
        "  print(\"--------------------\")\n",
        "\n",
        "  return result"
      ],
      "execution_count": 11,
      "outputs": []
    },
    {
      "cell_type": "code",
      "metadata": {
        "id": "A3cYrUmmgnK0"
      },
      "source": [
        "def dataPrepare2(y, n = 3, d = 1):\n",
        "  '''\n",
        "  Generating discrete data points out of the given series\n",
        "\n",
        "  y: main signal, e.g. ET0\n",
        "  z, v, w: auxiliary signals (set these to zero (e.g z=y*0) if not interested)\n",
        "  n: the number of previous data points that are used for forcasting\n",
        "  d: the number of days ahead for forecasting\n",
        "\n",
        "  output: feature matrix XS, and target values ys\n",
        "  '''\n",
        "\n",
        "  N = len(y)\n",
        "  dd = d - 1\n",
        "\n",
        "  XS = np.zeros((N-n-dd, n))\n",
        "  ys = np.zeros(N-n-dd)\n",
        "\n",
        "  p = 0 \n",
        "\n",
        "  for i in range(0, N-n-dd):\n",
        "    if not np.isnan(y[i:i+n]).any() and not np.isnan(y[i+n+dd]):\n",
        "\n",
        "      XS[p,:n]      = y[i:i+n]     \n",
        "      ys[p] = y[i+n+dd]\n",
        "      p+=1\n",
        "\n",
        "  return XS[:p,:], ys[:p]"
      ],
      "execution_count": 12,
      "outputs": []
    },
    {
      "cell_type": "markdown",
      "metadata": {
        "id": "yyrY-eG15ycM"
      },
      "source": [
        "# Defning the Gaussain Process using George package\n",
        "\n",
        "Defning the *kernel*:\n",
        "\n",
        "$k_{ij} = k(X_i, X_j) = \\sigma^2 exp(-r^2)$,\n",
        "where $r$ is the euclidean distance between $X_i$ and $X_j$.\n",
        "\n",
        "$X$ is the parameter vector after normalization: $X=(x_1, x_2, ....)$. \n",
        "Let's assume, we use $ET0$ and $R_n$ as features. Then for each point in the feature space: $X= (ET0/L_1, R_n/L_2)$, where $L$ is the normalization factor. Vector $L$ and $\\sigma$ are the free parameters of the kernel we are interested to find.To make use of the previous data points in the series, we can extend the number of features, i.e. $X= (ET0^{(1)}/L_1, R^{(1)}_n/L_2, ET0^{(2)}/L_3, R^{(2)}_n/L_4, ...)$. $ET0^{(1)}$ is the previous data point in the series, $ET0^{(2)}$ is the second previous data point etc. $X$ can hold as many as data point as we want. It can include a mixture of different parameters, other series, and basically anything that we think our problem depends on.\n",
        "In the following function, $L$, $\\sigma$, and $y_{err}$ are all given in the same array called $\\theta$. $y_{err}$ represents the uncertainty of the target values (the present value of $ET0$) and is taken as a free parameter that basically prevents over-training."
      ]
    },
    {
      "cell_type": "code",
      "metadata": {
        "id": "t_EA5Fa3jEme"
      },
      "source": [
        "from sklearn.model_selection import train_test_split\n",
        "\n",
        "def GPR(X, y, lnlikelihood=True):\n",
        "  '''\n",
        "  The output of this function is another function, either the lnlikelihood, or \n",
        "  the gp (the gaussian process regressor that is dfined by giving theta)\n",
        "  '''\n",
        "  n = X.shape[1]\n",
        "    \n",
        "  def step(theta):\n",
        "\n",
        "        L = np.exp(theta[:n])\n",
        "        sigma = np.exp(theta[n])   \n",
        "        yerr = np.exp(theta[n+1])\n",
        "        \n",
        "        kernel = sigma * kernels.ExpSquaredKernel(np.ones(n), ndim=n)\n",
        "\n",
        "        gp = george.GP(kernel)\n",
        "\n",
        "        if lnlikelihood:\n",
        "          gp = george.GP(kernel)\n",
        "          gp.compute(X / np.vstack([L]*X.shape[0]), yerr)\n",
        "       \n",
        "          return -gp.lnlikelihood(y)\n",
        "        else:\n",
        "          X0 = X / np.vstack([L]*X.shape[0])\n",
        "          gp.compute(X0, yerr)\n",
        "          return gp\n",
        "      \n",
        "  return step"
      ],
      "execution_count": 13,
      "outputs": []
    },
    {
      "cell_type": "markdown",
      "metadata": {
        "id": "vJiaxHSB-pyZ"
      },
      "source": [
        "# Preparing the feature matrix, X, and the target vector, y\n",
        "for the given training and cross_validation sets.\n",
        "\n",
        "In the following example for mDelay=3, 3*4 features would be generated. 3-lags, four parameters each. So $X$ is 12-dimensional"
      ]
    },
    {
      "cell_type": "code",
      "metadata": {
        "id": "144XexgH-ft3"
      },
      "source": [
        "# y: ET0 \n",
        "# z: P1 (the first principal component)\n",
        "# v: T (temperature)\n",
        "# w: VPD\n",
        "\n",
        "mDelay = 3\n",
        "nAhead = 1\n",
        "\n",
        "XS2, ys2 = dataPrepare2(y, n=mDelay, d=nAhead)\n",
        "XS_test2 = y[-mDelay:].values.reshape(1,-1)\n",
        "\n",
        "n_components = mDelay"
      ],
      "execution_count": 14,
      "outputs": []
    },
    {
      "cell_type": "code",
      "metadata": {
        "colab": {
          "base_uri": "https://localhost:8080/"
        },
        "id": "oG2Av8a5_2PK",
        "outputId": "81b3d70c-e911-4fd9-ebd5-821beddde68f"
      },
      "source": [
        "XS2.shape, ys2.shape"
      ],
      "execution_count": 15,
      "outputs": [
        {
          "output_type": "execute_result",
          "data": {
            "text/plain": [
              "((349, 3), (349,))"
            ]
          },
          "metadata": {
            "tags": []
          },
          "execution_count": 15
        }
      ]
    },
    {
      "cell_type": "code",
      "metadata": {
        "colab": {
          "base_uri": "https://localhost:8080/"
        },
        "id": "_mWAPbOW_79R",
        "outputId": "5e05c535-a0f4-4def-fe0b-029e0f6976c2"
      },
      "source": [
        "XS_test2.shape"
      ],
      "execution_count": 16,
      "outputs": [
        {
          "output_type": "execute_result",
          "data": {
            "text/plain": [
              "(1, 3)"
            ]
          },
          "metadata": {
            "tags": []
          },
          "execution_count": 16
        }
      ]
    },
    {
      "cell_type": "markdown",
      "metadata": {
        "id": "-tAYE5OVAYCN"
      },
      "source": [
        "# Optional dimension reduction\n",
        "\n",
        "Since the number of dimensions could be large, we can project all paraeters to a principal compnent space with lower dimensions. \n",
        "\n",
        "For instance, running the following cell, for n_components = 5, only 5 strongest components are utilized. Another advantage is that these 5 components are independent and not correlated. If the number of features is larges, using too small number components implies information leakage. "
      ]
    },
    {
      "cell_type": "markdown",
      "metadata": {
        "id": "NPD19EA9BzhT"
      },
      "source": [
        "# Finding the optimum parameters of the GP kernel\n",
        "\n",
        "Here, we basically find the optimum parameters that maximize the likelihood of the defined GP. \n",
        "\n",
        "We can find the best parameters through the execution of an MCMC to make sure that we are not capturing the local extremums. "
      ]
    },
    {
      "cell_type": "markdown",
      "metadata": {
        "id": "P4lSuv3-IONH"
      },
      "source": [
        "# PSO with PySwarm\n",
        "Optimizing the GPR hyperparameters using the Particle Swarm Optimizer\n",
        "\n",
        "https://pyswarms.readthedocs.io/en/latest/index.html"
      ]
    },
    {
      "cell_type": "code",
      "metadata": {
        "id": "kP82LojL971n",
        "colab": {
          "base_uri": "https://localhost:8080/"
        },
        "outputId": "abbb09c7-ecf6-412b-b2d5-ecdd11b65d71"
      },
      "source": [
        "!pip install pyswarms"
      ],
      "execution_count": 17,
      "outputs": [
        {
          "output_type": "stream",
          "text": [
            "Collecting pyswarms\n",
            "\u001b[?25l  Downloading https://files.pythonhosted.org/packages/d1/fd/5c2baba82425b75baf7dbec5af57219cd252aa8a1ace4f5cd1d88e472276/pyswarms-1.3.0-py2.py3-none-any.whl (104kB)\n",
            "\u001b[K     |████████████████████████████████| 112kB 3.5MB/s \n",
            "\u001b[?25hRequirement already satisfied: matplotlib>=1.3.1 in /usr/local/lib/python3.7/dist-packages (from pyswarms) (3.2.2)\n",
            "Requirement already satisfied: attrs in /usr/local/lib/python3.7/dist-packages (from pyswarms) (21.2.0)\n",
            "Requirement already satisfied: numpy in /usr/local/lib/python3.7/dist-packages (from pyswarms) (1.19.5)\n",
            "Requirement already satisfied: future in /usr/local/lib/python3.7/dist-packages (from pyswarms) (0.16.0)\n",
            "Requirement already satisfied: pyyaml in /usr/local/lib/python3.7/dist-packages (from pyswarms) (3.13)\n",
            "Requirement already satisfied: tqdm in /usr/local/lib/python3.7/dist-packages (from pyswarms) (4.41.1)\n",
            "Requirement already satisfied: scipy in /usr/local/lib/python3.7/dist-packages (from pyswarms) (1.4.1)\n",
            "Requirement already satisfied: kiwisolver>=1.0.1 in /usr/local/lib/python3.7/dist-packages (from matplotlib>=1.3.1->pyswarms) (1.3.1)\n",
            "Requirement already satisfied: pyparsing!=2.0.4,!=2.1.2,!=2.1.6,>=2.0.1 in /usr/local/lib/python3.7/dist-packages (from matplotlib>=1.3.1->pyswarms) (2.4.7)\n",
            "Requirement already satisfied: python-dateutil>=2.1 in /usr/local/lib/python3.7/dist-packages (from matplotlib>=1.3.1->pyswarms) (2.8.1)\n",
            "Requirement already satisfied: cycler>=0.10 in /usr/local/lib/python3.7/dist-packages (from matplotlib>=1.3.1->pyswarms) (0.10.0)\n",
            "Requirement already satisfied: six>=1.5 in /usr/local/lib/python3.7/dist-packages (from python-dateutil>=2.1->matplotlib>=1.3.1->pyswarms) (1.15.0)\n",
            "Installing collected packages: pyswarms\n",
            "Successfully installed pyswarms-1.3.0\n"
          ],
          "name": "stdout"
        }
      ]
    },
    {
      "cell_type": "code",
      "metadata": {
        "id": "74EPH8O8-CDv"
      },
      "source": [
        "# Import modules\n",
        "import numpy as np\n",
        "from pyswarms.single.global_best import GlobalBestPSO\n",
        "# Import PySwarms\n",
        "import pyswarms as ps\n",
        "from pyswarms.utils.functions import single_obj as fx\n",
        "\n",
        "# Some more magic so that the notebook will reload external python modules;\n",
        "# see http://stackoverflow.com/questions/1907993/autoreload-of-modules-in-ipython\n",
        "%load_ext autoreload\n",
        "%autoreload 2"
      ],
      "execution_count": 18,
      "outputs": []
    },
    {
      "cell_type": "code",
      "metadata": {
        "colab": {
          "base_uri": "https://localhost:8080/"
        },
        "id": "LLGIoo3U_cHJ",
        "outputId": "8bbb17f6-a313-4caa-9e99-50e834934031"
      },
      "source": [
        "XS2.shape, ys2.shape"
      ],
      "execution_count": 19,
      "outputs": [
        {
          "output_type": "execute_result",
          "data": {
            "text/plain": [
              "((349, 3), (349,))"
            ]
          },
          "metadata": {
            "tags": []
          },
          "execution_count": 19
        }
      ]
    },
    {
      "cell_type": "code",
      "metadata": {
        "id": "8igaLAUk-C3u"
      },
      "source": [
        "from sklearn.model_selection import KFold\n",
        "\n",
        "kf = KFold(n_splits=3)\n",
        "kf.get_n_splits(XS2)\n",
        "\n",
        "def Xi2_swarm(x):\n",
        "  \n",
        "  nParticle = x.shape[0]\n",
        "  out = np.zeros(nParticle)\n",
        "\n",
        "  for train_index, cross_index in kf.split(XS2):\n",
        "    \n",
        "      X_train, X_cross = XS2[train_index], XS2[cross_index]\n",
        "      y_train, y_cross = ys2[train_index], ys2[cross_index]\n",
        "\n",
        "      n = X_cross.shape[1]\n",
        "      m = X_cross.shape[0]\n",
        "\n",
        "      for n_iter in range(nParticle):\n",
        "          \n",
        "          theta = x[n_iter,:]\n",
        "\n",
        "          L = np.exp(theta[:n])\n",
        "\n",
        "          gp = GPR(X_train, y_train, lnlikelihood=False)(theta)\n",
        "          gp_yp_cross, gp_yp_cross_std = gp.predict(y_train, X_cross/np.vstack([L]*m), return_var=True)\n",
        "\n",
        "          out[n_iter] += np.sum((y_cross - gp_yp_cross)**2)\n",
        "\n",
        "  return out\n"
      ],
      "execution_count": 20,
      "outputs": []
    },
    {
      "cell_type": "code",
      "metadata": {
        "id": "isYO5eFm-J9N",
        "colab": {
          "base_uri": "https://localhost:8080/"
        },
        "outputId": "0aaa3fb6-b5d0-4ec8-f973-ed4b71a8e712"
      },
      "source": [
        "\n",
        "# Set-up hyperparameters\n",
        "options = {'c1': 0.5, 'c2': 0.3, 'w':0.9}\n",
        "\n",
        "# Call instance of PSO\n",
        "optimizer = GlobalBestPSO(n_particles=20, dimensions=n_components+2, options=options)\n",
        "\n",
        "# Perform optimization\n",
        "cost, pos = optimizer.optimize(Xi2_swarm, iters=20)"
      ],
      "execution_count": 21,
      "outputs": [
        {
          "output_type": "stream",
          "text": [
            "2021-07-15 03:22:57,829 - pyswarms.single.global_best - INFO - Optimize for 20 iters with {'c1': 0.5, 'c2': 0.3, 'w': 0.9}\n",
            "pyswarms.single.global_best: 100%|██████████|20/20, best_cost=1.14\n",
            "2021-07-15 03:23:13,379 - pyswarms.single.global_best - INFO - Optimization finished | best cost: 1.1378516205359392, best pos: [ 2.8479094   1.66342479 -0.05867845  3.46623982 -2.43403185]\n"
          ],
          "name": "stderr"
        }
      ]
    },
    {
      "cell_type": "code",
      "metadata": {
        "id": "HN1qTOHu-OPN",
        "colab": {
          "base_uri": "https://localhost:8080/"
        },
        "outputId": "96227919-ef93-404c-c099-582dc084d2ac"
      },
      "source": [
        "truths = pos\n",
        "gp = GPR(XS2, ys2, lnlikelihood=False)(truths)\n",
        "\n",
        "\n",
        "n = XS2.shape[1]\n",
        "m_test = XS_test2.shape[0]\n",
        "m = XS2.shape[0]\n",
        "\n",
        "L = np.exp(truths[:n])\n",
        "\n",
        "\n",
        "gp_yp, gp_yp_std = gp.predict(ys2, XS2/np.vstack([L]*m), return_var=True)\n",
        "\n",
        "gp_yp_test, gp_yp_test_std = gp.predict(ys2, XS_test2/np.vstack([L]*m_test), return_var=True)\n",
        "\n",
        "print(gp_yp_test, gp_yp_test_std, np.mean(XS_test2))\n",
        "print(XS_test2)\n",
        "\n",
        "current_day = data.index[-1].strftime(\"%Y-%m-%d\")\n",
        "day1_ahead = (data.index[-1]+timedelta(days=1)).strftime(\"%Y-%m-%d\")\n",
        "day3_ahead = (data.index[-1]+timedelta(days=3)).strftime(\"%Y-%m-%d\")\n",
        "day5_ahead = (data.index[-1]+timedelta(days=5)).strftime(\"%Y-%m-%d\")\n",
        "\n",
        "print(current_day, day1_ahead, day3_ahead, day5_ahead)"
      ],
      "execution_count": 22,
      "outputs": [
        {
          "output_type": "stream",
          "text": [
            "[0.08307664] [8.96930896e-05] 0.06627981808321402\n",
            "[[0.01149796 0.0999447  0.0873968 ]]\n",
            "2019-10-30 2019-10-31 2019-11-02 2019-11-04\n"
          ],
          "name": "stdout"
        }
      ]
    },
    {
      "cell_type": "code",
      "metadata": {
        "id": "CSu6EUclUee7",
        "colab": {
          "base_uri": "https://localhost:8080/"
        },
        "outputId": "75d9291f-b555-4ea4-ddcf-289293f16cc1"
      },
      "source": [
        "print(\"Training set: \")\n",
        "metrics(ys2, gp_yp)\n",
        "print(\"----------------------\")\n",
        "\n"
      ],
      "execution_count": 23,
      "outputs": [
        {
          "output_type": "stream",
          "text": [
            "Training set: \n",
            "MAE: 0.043  RMSE: 0.053  R^2: 0.39\n",
            "----------------------\n"
          ],
          "name": "stdout"
        }
      ]
    },
    {
      "cell_type": "markdown",
      "metadata": {
        "id": "WMCu7K-mKaey"
      },
      "source": [
        ""
      ]
    },
    {
      "cell_type": "code",
      "metadata": {
        "id": "cPKH2nrCRwDS"
      },
      "source": [
        ""
      ],
      "execution_count": 23,
      "outputs": []
    }
  ]
}