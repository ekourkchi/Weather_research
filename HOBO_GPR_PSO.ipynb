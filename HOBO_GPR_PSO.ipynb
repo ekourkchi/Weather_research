{
  "nbformat": 4,
  "nbformat_minor": 0,
  "metadata": {
    "colab": {
      "name": "HOBO_GPR_PSO.ipynb",
      "provenance": [],
      "collapsed_sections": [],
      "mount_file_id": "1MjKZoU3_YLAJwxEwCPPSLewf7a0uNDR1",
      "authorship_tag": "ABX9TyN7YbrEfmTe9upuYKEEa9cK",
      "include_colab_link": true
    },
    "kernelspec": {
      "name": "python3",
      "display_name": "Python 3"
    }
  },
  "cells": [
    {
      "cell_type": "markdown",
      "metadata": {
        "id": "view-in-github",
        "colab_type": "text"
      },
      "source": [
        "<a href=\"https://colab.research.google.com/github/ekourkchi/Weather_research/blob/master/HOBO_GPR_PSO.ipynb\" target=\"_parent\"><img src=\"https://colab.research.google.com/assets/colab-badge.svg\" alt=\"Open In Colab\"/></a>"
      ]
    },
    {
      "cell_type": "markdown",
      "metadata": {
        "id": "P4xaWzP4bEiD"
      },
      "source": [
        "\n",
        "\n",
        "# Installing extra packages on the current session\n",
        "I use \"george packages for the Gaussian Process analysis\n",
        "Please visit here for further details: https://george.readthedocs.io/en/latest/user/kernels/\n"
      ]
    },
    {
      "cell_type": "code",
      "metadata": {
        "id": "1OnIjP9PbCF5",
        "colab": {
          "base_uri": "https://localhost:8080/"
        },
        "outputId": "f05508ca-bca3-416f-8199-45cef6738924"
      },
      "source": [
        "!pip install george"
      ],
      "execution_count": 1,
      "outputs": [
        {
          "output_type": "stream",
          "text": [
            "Requirement already satisfied: george in /usr/local/lib/python3.6/dist-packages (0.3.1)\n",
            "Requirement already satisfied: numpy in /usr/local/lib/python3.6/dist-packages (from george) (1.18.5)\n",
            "Requirement already satisfied: scipy in /usr/local/lib/python3.6/dist-packages (from george) (1.4.1)\n",
            "Requirement already satisfied: pybind11 in /usr/local/lib/python3.6/dist-packages (from george) (2.6.1)\n"
          ],
          "name": "stdout"
        }
      ]
    },
    {
      "cell_type": "markdown",
      "metadata": {
        "id": "CJPo4yPabY6m"
      },
      "source": [
        "\n",
        "# Importing packages\n"
      ]
    },
    {
      "cell_type": "code",
      "metadata": {
        "id": "nwWf_zgebWs0"
      },
      "source": [
        "import sys\n",
        "import time\n",
        "import os\n",
        "import subprocess\n",
        "import math\n",
        "import matplotlib.pyplot as plt\n",
        "import numpy as np\n",
        "from astropy.table import Table, Column \n",
        "from scipy.stats import linregress\n",
        "from scipy import interpolate\n",
        "from scipy import polyval, polyfit\n",
        "from scipy import odr\n",
        "import pylab as py\n",
        "from matplotlib import gridspec\n",
        "import sklearn.datasets as ds\n",
        "from sklearn.decomposition import PCA\n",
        "from sklearn.preprocessing import StandardScaler\n",
        "import scipy.optimize as op\n",
        "from scipy.linalg import cholesky, inv,det\n",
        "from scipy.optimize import minimize\n",
        "import george\n",
        "from george import kernels\n",
        "import pandas as pd\n",
        "from datetime import datetime\n",
        "import time\n",
        "from sklearn.metrics import mean_squared_error\n",
        "from sklearn.metrics import r2_score"
      ],
      "execution_count": 2,
      "outputs": []
    },
    {
      "cell_type": "markdown",
      "metadata": {
        "id": "XABFRiJzbnlu"
      },
      "source": [
        "# Load data\n",
        "data preparation\n",
        "We generate the first 3 main principal components that capture the most useful information of the data. P1, P2 and P3 are not correalted with each other while they are epressed as the linear cominination of the available featurdes, i.e. ET0, VPD, Rn and T (air temperature)\n",
        "\n",
        "**Note:** Make sure that the data file is addressed correctly and it's already avaialble in your Google drive."
      ]
    },
    {
      "cell_type": "code",
      "metadata": {
        "colab": {
          "base_uri": "https://localhost:8080/",
          "height": 35
        },
        "id": "UGGjwQafA5KF",
        "outputId": "63e57fdd-5f03-4612-ddab-5ab287f72b10"
      },
      "source": [
        "stationInfo = {\n",
        "    10906989:{\"timeZone\": \"US/Hawaii\", \"name\": \"ALOUN_HELEMANO\", \"GPS\": \"21 32 8.9 N 158 02 05.0 W\"},  \n",
        "    20173022:{\"timeZone\": \"US/Hawaii\", \"name\": \"HIRAKO\", \"GPS\": \"20 00 14.6 N 155 41 29.3 W\"}, \n",
        "    20009161:{\"timeZone\": \"US/Hawaii\", \"name\": \"KULA_AG_PARK\", \"GPS\": \"20 47 43.2 N 156 21 35.6 W\"}, \n",
        "    20121046:{\"timeZone\": \"Pacific/Guam\", \"name\": \"MALOJLOJ MEDA\", \"GPS\": \"13 20 21.0 N 144 45 49.0 E\"},\n",
        "    20006321:{\"timeZone\": \"US/Hawaii\", \"name\": \"MAO\", \"GPS\": \"21 27 4.9 N 158 09 25.8 W\"},\n",
        "    20173020:{\"timeZone\": \"US/Hawaii\", \"name\": \"PIONEER CORN\", \"GPS\": \"21 33 41.5 N 158 07 40.3 W\"},\n",
        "    20173019:{\"timeZone\": \"US/Hawaii\", \"name\": \"SEIZEN\", \"GPS\": \"20 01 26.2 N 155 39 00.5 W\"},\n",
        "    20824841:{\"timeZone\": \"Pacific/Guam\", \"name\": \"WATSON\", \"GPS\": \"\"},\n",
        "    20824842:{\"timeZone\": \"Pacific/Guam\", \"name\": \"WUSSTIG\", \"GPS\": \"\"},\n",
        "    20121045:{\"timeZone\": \"Pacific/Guam\", \"name\": \"YIGO\", \"GPS\": \"13 33 54.3 N 144 52 38.4 E\"},   #            \n",
        "    20121047:{\"timeZone\": \"Pacific/Samoa\", \"name\": \"MALAEIMI \", \"GPS\": \"\"},\n",
        "    20121048:{\"timeZone\": \"Pacific/Samoa\", \"name\": \"TAFETA\", \"GPS\": \"\"},\n",
        "    20173018:{\"timeZone\": \"US/Hawaii\", \"name\": \"TEXEIRA\", \"GPS\": \"\"},\n",
        "    }\n",
        "\n",
        "\n",
        "\n",
        "serial = 20009161\n",
        "station = stationInfo[serial][\"name\"]\n",
        "station"
      ],
      "execution_count": 3,
      "outputs": [
        {
          "output_type": "execute_result",
          "data": {
            "application/vnd.google.colaboratory.intrinsic+json": {
              "type": "string"
            },
            "text/plain": [
              "'KULA_AG_PARK'"
            ]
          },
          "metadata": {
            "tags": []
          },
          "execution_count": 3
        }
      ]
    },
    {
      "cell_type": "code",
      "metadata": {
        "colab": {
          "base_uri": "https://localhost:8080/"
        },
        "id": "dRTBf0cOA890",
        "outputId": "b7682931-5c7d-4e72-d52f-05889cbb97b4"
      },
      "source": [
        "data = pd.read_excel('/content/drive/MyDrive/HOBO_CAMPBELL_ET0_Rain.xlsx', sheet_name=station)\n",
        "\n",
        "data.columns"
      ],
      "execution_count": 4,
      "outputs": [
        {
          "output_type": "execute_result",
          "data": {
            "text/plain": [
              "Index(['Unnamed: 0', 'Date(US/Hawaii)', 'ETo_PM(inch/day)',\n",
              "       'ETo_CIMIS(inch/day)', 'Rain(inch)', 'Tc', 'Tmin', 'Tmax', 'VPD', 'Rn',\n",
              "       'ETo_PM (raw)', 'ETo_CIMIS (raw)', 'Rain (raw)'],\n",
              "      dtype='object')"
            ]
          },
          "metadata": {
            "tags": []
          },
          "execution_count": 4
        }
      ]
    },
    {
      "cell_type": "code",
      "metadata": {
        "colab": {
          "base_uri": "https://localhost:8080/",
          "height": 206
        },
        "id": "RzkBTDkJMurc",
        "outputId": "540f8c58-1244-4e72-82f4-f0405751c10c"
      },
      "source": [
        "data.head()"
      ],
      "execution_count": 5,
      "outputs": [
        {
          "output_type": "execute_result",
          "data": {
            "text/html": [
              "<div>\n",
              "<style scoped>\n",
              "    .dataframe tbody tr th:only-of-type {\n",
              "        vertical-align: middle;\n",
              "    }\n",
              "\n",
              "    .dataframe tbody tr th {\n",
              "        vertical-align: top;\n",
              "    }\n",
              "\n",
              "    .dataframe thead th {\n",
              "        text-align: right;\n",
              "    }\n",
              "</style>\n",
              "<table border=\"1\" class=\"dataframe\">\n",
              "  <thead>\n",
              "    <tr style=\"text-align: right;\">\n",
              "      <th></th>\n",
              "      <th>Unnamed: 0</th>\n",
              "      <th>Date(US/Hawaii)</th>\n",
              "      <th>ETo_PM(inch/day)</th>\n",
              "      <th>ETo_CIMIS(inch/day)</th>\n",
              "      <th>Rain(inch)</th>\n",
              "      <th>Tc</th>\n",
              "      <th>Tmin</th>\n",
              "      <th>Tmax</th>\n",
              "      <th>VPD</th>\n",
              "      <th>Rn</th>\n",
              "      <th>ETo_PM (raw)</th>\n",
              "      <th>ETo_CIMIS (raw)</th>\n",
              "      <th>Rain (raw)</th>\n",
              "    </tr>\n",
              "  </thead>\n",
              "  <tbody>\n",
              "    <tr>\n",
              "      <th>0</th>\n",
              "      <td>0</td>\n",
              "      <td>2017-09-07</td>\n",
              "      <td>NaN</td>\n",
              "      <td>NaN</td>\n",
              "      <td>NaN</td>\n",
              "      <td>26.100210</td>\n",
              "      <td>21.033333</td>\n",
              "      <td>32.766667</td>\n",
              "      <td>1.550233</td>\n",
              "      <td>0.557671</td>\n",
              "      <td>NaN</td>\n",
              "      <td>NaN</td>\n",
              "      <td>NaN</td>\n",
              "    </tr>\n",
              "    <tr>\n",
              "      <th>1</th>\n",
              "      <td>1</td>\n",
              "      <td>2017-09-08</td>\n",
              "      <td>0.125359</td>\n",
              "      <td>0.134207</td>\n",
              "      <td>0.0</td>\n",
              "      <td>24.568017</td>\n",
              "      <td>19.272222</td>\n",
              "      <td>30.800000</td>\n",
              "      <td>1.197391</td>\n",
              "      <td>0.272103</td>\n",
              "      <td>0.114831</td>\n",
              "      <td>0.121289</td>\n",
              "      <td>0.0</td>\n",
              "    </tr>\n",
              "    <tr>\n",
              "      <th>2</th>\n",
              "      <td>2</td>\n",
              "      <td>2017-09-09</td>\n",
              "      <td>0.105694</td>\n",
              "      <td>0.116083</td>\n",
              "      <td>0.0</td>\n",
              "      <td>24.686825</td>\n",
              "      <td>21.105556</td>\n",
              "      <td>32.405556</td>\n",
              "      <td>0.927502</td>\n",
              "      <td>0.245682</td>\n",
              "      <td>0.129839</td>\n",
              "      <td>0.142131</td>\n",
              "      <td>0.0</td>\n",
              "    </tr>\n",
              "    <tr>\n",
              "      <th>3</th>\n",
              "      <td>3</td>\n",
              "      <td>2017-09-10</td>\n",
              "      <td>0.164808</td>\n",
              "      <td>0.184693</td>\n",
              "      <td>0.0</td>\n",
              "      <td>24.356559</td>\n",
              "      <td>19.577778</td>\n",
              "      <td>32.872222</td>\n",
              "      <td>0.997667</td>\n",
              "      <td>0.428363</td>\n",
              "      <td>0.149628</td>\n",
              "      <td>0.165609</td>\n",
              "      <td>0.0</td>\n",
              "    </tr>\n",
              "    <tr>\n",
              "      <th>4</th>\n",
              "      <td>4</td>\n",
              "      <td>2017-09-11</td>\n",
              "      <td>0.184584</td>\n",
              "      <td>0.212146</td>\n",
              "      <td>0.0</td>\n",
              "      <td>24.412172</td>\n",
              "      <td>19.722222</td>\n",
              "      <td>30.444444</td>\n",
              "      <td>0.991339</td>\n",
              "      <td>0.535313</td>\n",
              "      <td>0.136360</td>\n",
              "      <td>0.149523</td>\n",
              "      <td>0.0</td>\n",
              "    </tr>\n",
              "  </tbody>\n",
              "</table>\n",
              "</div>"
            ],
            "text/plain": [
              "   Unnamed: 0 Date(US/Hawaii)  ...  ETo_CIMIS (raw)  Rain (raw)\n",
              "0           0      2017-09-07  ...              NaN         NaN\n",
              "1           1      2017-09-08  ...         0.121289         0.0\n",
              "2           2      2017-09-09  ...         0.142131         0.0\n",
              "3           3      2017-09-10  ...         0.165609         0.0\n",
              "4           4      2017-09-11  ...         0.149523         0.0\n",
              "\n",
              "[5 rows x 13 columns]"
            ]
          },
          "metadata": {
            "tags": []
          },
          "execution_count": 5
        }
      ]
    },
    {
      "cell_type": "code",
      "metadata": {
        "id": "0aV7TYqKA9xR"
      },
      "source": [
        "data = data[['Date(US/Hawaii)', 'ETo_CIMIS (raw)', 'Rain(inch)', 'Tmin', 'Tmax', 'Tc', 'Rn', 'VPD']]"
      ],
      "execution_count": 6,
      "outputs": []
    },
    {
      "cell_type": "code",
      "metadata": {
        "colab": {
          "base_uri": "https://localhost:8080/",
          "height": 394
        },
        "id": "59noFNn6A_X5",
        "outputId": "757a9cc4-9783-4303-c5f7-760f472cd71d"
      },
      "source": [
        "# revising the column names\n",
        "for col in data.columns:\n",
        "  newcol = col.split(\"(\")[0].strip()\n",
        "  data.rename(columns={col:newcol}, inplace=True)\n",
        "\n",
        "# setting up the index of the data frame\n",
        "data.set_index(\"Date\", inplace=True)\n",
        "\n",
        "# resample data daily, forward linear interpolation to fill the missing values\n",
        "data.resample('1d').mean()\n",
        "data = data.interpolate(method='linear', limit_direction='forward', axis=0)\n",
        "\n",
        "## Optional:\n",
        "## Generating the first three principal (P1, P2, P3) components basesd on ET0, VPD, Rn and T.\n",
        "# myData = data[[\"ET0\", \"VPD\", \"Rn\", \"T\"]].ffill()\n",
        "# z_scaler = StandardScaler()\n",
        "# z_data = z_scaler.fit_transform(myData)\n",
        "# pca_data = PCA().fit_transform(z_data);\n",
        "# pca_trafo = PCA().fit(z_data);\n",
        "# data[\"P1\"] = pca_data[:,0]\n",
        "# data[\"P2\"] = pca_data[:,1]\n",
        "# data[\"P3\"] = pca_data[:,3]\n",
        "\n",
        "# displaying the first couple rows of the data table\n",
        "data.tail(10)"
      ],
      "execution_count": 7,
      "outputs": [
        {
          "output_type": "execute_result",
          "data": {
            "text/html": [
              "<div>\n",
              "<style scoped>\n",
              "    .dataframe tbody tr th:only-of-type {\n",
              "        vertical-align: middle;\n",
              "    }\n",
              "\n",
              "    .dataframe tbody tr th {\n",
              "        vertical-align: top;\n",
              "    }\n",
              "\n",
              "    .dataframe thead th {\n",
              "        text-align: right;\n",
              "    }\n",
              "</style>\n",
              "<table border=\"1\" class=\"dataframe\">\n",
              "  <thead>\n",
              "    <tr style=\"text-align: right;\">\n",
              "      <th></th>\n",
              "      <th>ETo_CIMIS</th>\n",
              "      <th>Rain</th>\n",
              "      <th>Tmin</th>\n",
              "      <th>Tmax</th>\n",
              "      <th>Tc</th>\n",
              "      <th>Rn</th>\n",
              "      <th>VPD</th>\n",
              "    </tr>\n",
              "    <tr>\n",
              "      <th>Date</th>\n",
              "      <th></th>\n",
              "      <th></th>\n",
              "      <th></th>\n",
              "      <th></th>\n",
              "      <th></th>\n",
              "      <th></th>\n",
              "      <th></th>\n",
              "    </tr>\n",
              "  </thead>\n",
              "  <tbody>\n",
              "    <tr>\n",
              "      <th>2020-11-21</th>\n",
              "      <td>0.148151</td>\n",
              "      <td>0.000</td>\n",
              "      <td>19.388889</td>\n",
              "      <td>31.277778</td>\n",
              "      <td>24.173148</td>\n",
              "      <td>0.323385</td>\n",
              "      <td>0.917885</td>\n",
              "    </tr>\n",
              "    <tr>\n",
              "      <th>2020-11-22</th>\n",
              "      <td>0.101484</td>\n",
              "      <td>0.000</td>\n",
              "      <td>18.866667</td>\n",
              "      <td>30.694444</td>\n",
              "      <td>23.367824</td>\n",
              "      <td>0.184875</td>\n",
              "      <td>0.766033</td>\n",
              "    </tr>\n",
              "    <tr>\n",
              "      <th>2020-11-23</th>\n",
              "      <td>0.057340</td>\n",
              "      <td>0.000</td>\n",
              "      <td>18.888889</td>\n",
              "      <td>28.766667</td>\n",
              "      <td>22.737731</td>\n",
              "      <td>0.057504</td>\n",
              "      <td>0.695545</td>\n",
              "    </tr>\n",
              "    <tr>\n",
              "      <th>2020-11-24</th>\n",
              "      <td>0.108993</td>\n",
              "      <td>0.000</td>\n",
              "      <td>19.172222</td>\n",
              "      <td>28.394444</td>\n",
              "      <td>23.132870</td>\n",
              "      <td>0.220667</td>\n",
              "      <td>0.704894</td>\n",
              "    </tr>\n",
              "    <tr>\n",
              "      <th>2020-11-25</th>\n",
              "      <td>0.123162</td>\n",
              "      <td>0.000</td>\n",
              "      <td>18.055556</td>\n",
              "      <td>30.066667</td>\n",
              "      <td>23.169907</td>\n",
              "      <td>0.249992</td>\n",
              "      <td>0.799514</td>\n",
              "    </tr>\n",
              "    <tr>\n",
              "      <th>2020-11-26</th>\n",
              "      <td>0.087783</td>\n",
              "      <td>0.000</td>\n",
              "      <td>18.083333</td>\n",
              "      <td>29.288889</td>\n",
              "      <td>22.391204</td>\n",
              "      <td>0.126810</td>\n",
              "      <td>0.879715</td>\n",
              "    </tr>\n",
              "    <tr>\n",
              "      <th>2020-11-27</th>\n",
              "      <td>0.172131</td>\n",
              "      <td>0.008</td>\n",
              "      <td>19.244444</td>\n",
              "      <td>27.161111</td>\n",
              "      <td>22.596065</td>\n",
              "      <td>0.329932</td>\n",
              "      <td>1.066809</td>\n",
              "    </tr>\n",
              "    <tr>\n",
              "      <th>2020-11-28</th>\n",
              "      <td>0.158456</td>\n",
              "      <td>0.000</td>\n",
              "      <td>17.555556</td>\n",
              "      <td>26.183333</td>\n",
              "      <td>21.237269</td>\n",
              "      <td>0.342997</td>\n",
              "      <td>0.743463</td>\n",
              "    </tr>\n",
              "    <tr>\n",
              "      <th>2020-11-29</th>\n",
              "      <td>0.168258</td>\n",
              "      <td>0.000</td>\n",
              "      <td>16.511111</td>\n",
              "      <td>27.233333</td>\n",
              "      <td>21.269444</td>\n",
              "      <td>0.352295</td>\n",
              "      <td>0.939639</td>\n",
              "    </tr>\n",
              "    <tr>\n",
              "      <th>2020-11-30</th>\n",
              "      <td>0.168258</td>\n",
              "      <td>0.000</td>\n",
              "      <td>15.844444</td>\n",
              "      <td>17.750000</td>\n",
              "      <td>16.986508</td>\n",
              "      <td>-0.199943</td>\n",
              "      <td>0.377682</td>\n",
              "    </tr>\n",
              "  </tbody>\n",
              "</table>\n",
              "</div>"
            ],
            "text/plain": [
              "            ETo_CIMIS   Rain       Tmin  ...         Tc        Rn       VPD\n",
              "Date                                     ...                               \n",
              "2020-11-21   0.148151  0.000  19.388889  ...  24.173148  0.323385  0.917885\n",
              "2020-11-22   0.101484  0.000  18.866667  ...  23.367824  0.184875  0.766033\n",
              "2020-11-23   0.057340  0.000  18.888889  ...  22.737731  0.057504  0.695545\n",
              "2020-11-24   0.108993  0.000  19.172222  ...  23.132870  0.220667  0.704894\n",
              "2020-11-25   0.123162  0.000  18.055556  ...  23.169907  0.249992  0.799514\n",
              "2020-11-26   0.087783  0.000  18.083333  ...  22.391204  0.126810  0.879715\n",
              "2020-11-27   0.172131  0.008  19.244444  ...  22.596065  0.329932  1.066809\n",
              "2020-11-28   0.158456  0.000  17.555556  ...  21.237269  0.342997  0.743463\n",
              "2020-11-29   0.168258  0.000  16.511111  ...  21.269444  0.352295  0.939639\n",
              "2020-11-30   0.168258  0.000  15.844444  ...  16.986508 -0.199943  0.377682\n",
              "\n",
              "[10 rows x 7 columns]"
            ]
          },
          "metadata": {
            "tags": []
          },
          "execution_count": 7
        }
      ]
    },
    {
      "cell_type": "markdown",
      "metadata": {
        "id": "OrP7M15gHMk-"
      },
      "source": [
        "# Staging some data for ML modeling\n"
      ]
    },
    {
      "cell_type": "markdown",
      "metadata": {
        "id": "5h5qVxedeU3E"
      },
      "source": [
        "Generating train and test data sets.\n",
        "For the sake of speed, we use use a fraction of data for evaluation of our algorithm. Later to get the final results, we use the entire data set."
      ]
    },
    {
      "cell_type": "code",
      "metadata": {
        "id": "ljW9DtTPdVy1",
        "colab": {
          "base_uri": "https://localhost:8080/",
          "height": 245
        },
        "outputId": "d5cdcceb-4f60-4fe5-f135-4cebe71503ee"
      },
      "source": [
        "fig = py.figure(figsize=(10,15), dpi=100)    \n",
        "fig.subplots_adjust(wspace=0, top=0.92, bottom=0.12, left=0.06, right=0.98)\n",
        "gs = gridspec.GridSpec(7,1) ; p=0\n",
        "\n",
        "# training: 2010-2017\n",
        "subData = data.loc[:\"2019-12-31\"]\n",
        "N = len(subData)\n",
        "x = subData.index\n",
        "y = subData[\"ETo_CIMIS\"].ffill()\n",
        "z = 0*subData[\"Tmin\"].ffill()\n",
        "v = 0*subData[\"Tmax\"].ffill()\n",
        "w = 0*subData[\"Rn\"].ffill()\n",
        "tm = subData[\"ETo_CIMIS\"].ffill()\n",
        "tx = subData[\"ETo_CIMIS\"].ffill()\n",
        "\n",
        "# testing: 2013 onward\n",
        "subData_test = data.loc[\"2020\":]\n",
        "N_test = len(subData_test)\n",
        "x_test = subData_test.index\n",
        "y_test = subData_test[\"ETo_CIMIS\"].ffill()\n",
        "z_test = 0*subData_test[\"Tmin\"].ffill()\n",
        "v_test = 0*subData_test[\"Tmax\"].ffill()\n",
        "w_test = 0*subData_test[\"Rn\"].ffill()\n",
        "tm_test = subData_test[\"ETo_CIMIS\"].ffill()\n",
        "tx_test = subData_test[\"ETo_CIMIS\"].ffill()\n",
        "\n",
        "# top plot \n",
        "p = 0\n",
        "\n",
        "ax = plt.subplot(gs[p]) ; p+=1\n",
        "ax.plot(x, y, color='green', label=\"train\")\n",
        "ax.plot(x_test, y_test, color='red', label=\"test\")\n",
        "ax.legend(bbox_to_anchor=(1.01, 1))\n",
        "ax.set_ylabel(\"ETo_PM\")\n",
        "\n",
        "\n",
        "ax.set_xlabel(\"Time\")"
      ],
      "execution_count": 8,
      "outputs": [
        {
          "output_type": "execute_result",
          "data": {
            "text/plain": [
              "Text(0.5, 0, 'Time')"
            ]
          },
          "metadata": {
            "tags": []
          },
          "execution_count": 8
        },
        {
          "output_type": "display_data",
          "data": {
            "image/png": "[encoded data removed]",
            "text/plain": [
              "<Figure size 1000x1500 with 1 Axes>"
            ]
          },
          "metadata": {
            "tags": [],
            "needs_background": "light"
          }
        }
      ]
    },
    {
      "cell_type": "markdown",
      "metadata": {
        "id": "1Pj-xb-MeTaF"
      },
      "source": [
        ""
      ]
    },
    {
      "cell_type": "code",
      "metadata": {
        "id": "Sb37opfcgjKO"
      },
      "source": [
        "def metrics(y1, y2):\n",
        "  '''\n",
        "  y1 and y2 are two series of the same size\n",
        "\n",
        "  This function outputs the MAE, RMSE and R^2 \n",
        "  of the cross evaluated series.\n",
        "\n",
        "  '''\n",
        "  y1 = y1.reshape(-1)\n",
        "  y2 = y2.reshape(-1)\n",
        "  RMSE = np.sqrt(np.mean((y1-y2)**2))\n",
        "  MAE = np.mean(np.abs(y1-y2))\n",
        "  R2 = r2_score(y1, y2)\n",
        "  print('MAE: %.2f'%MAE, ' RMSE: %.2f'%RMSE, ' R^2: %.2f'%R2)\n",
        "########################################\n",
        "\n",
        "def funcMAX(func, X, y, addParam = 0, maxiter=500, method='L-BFGS-B', verbose=False):\n",
        "  \n",
        "  '''\n",
        "  A function to find the optimum parameters of the input funtion \"func\",\n",
        "  where yp = func(X) and RMSE(y-yp) is minimzed\n",
        "\n",
        "  output: \"results\" is the object that contains everything about the fit\n",
        "  result.x holds the optimized parameters\n",
        "  '''\n",
        "\n",
        "  t1 =  datetime.now()  # t1 and t2 are used for timing this process\n",
        "  ###########################################\n",
        "  n = X.shape[1]\n",
        "  # Maximum Likelihood\n",
        "  Param_init = np.random.rand(n+addParam)\n",
        "  result = minimize(func(X, y), Param_init, \n",
        "                method=method, options={\"maxiter\":maxiter})\n",
        "  print(\"--------------------\")\n",
        "  if verbose:\n",
        "    print(result)\n",
        "  ###########################################\n",
        "  if not verbose: \n",
        "    print(\"Fit Success: \", result.success)\n",
        "  t2 =  datetime.now()\n",
        "  print(\"Execution time: \", t2-t1)\n",
        "  print(\"--------------------\")\n",
        "\n",
        "  return result"
      ],
      "execution_count": 9,
      "outputs": []
    },
    {
      "cell_type": "code",
      "metadata": {
        "id": "A3cYrUmmgnK0"
      },
      "source": [
        "def dataPrepare2(y, z, v, w, n = 3, d = 1):\n",
        "  '''\n",
        "  Generating discrete data points out of the given series\n",
        "\n",
        "  y: main signal, e.g. ET0\n",
        "  z, v, w: auxiliary signals (set these to zero (e.g z=y*0) if not interested)\n",
        "  n: the number of previous data points that are used for forcasting\n",
        "  d: the number of days ahead for forecasting\n",
        "\n",
        "  output: feature matrix XS, and target values ys\n",
        "  '''\n",
        "\n",
        "  N = len(y)\n",
        "  dd = d - 1\n",
        "\n",
        "  XS = np.zeros((N-n-dd, 4*n))\n",
        "  ys = np.zeros(N-n-dd)\n",
        "\n",
        "  p = 0 \n",
        "\n",
        "  for i in range(0, N-n-dd):\n",
        "    if not np.isnan(y[i:i+n]).any() and not np.isnan(y[i+n+dd]) and not np.isnan(z[i:i+n]).any() and not np.isnan(v[i:i+n]).any() and not np.isnan(w[i:i+n]).any():\n",
        "\n",
        "      XS[p,:n]      = y[i:i+n]     \n",
        "      XS[p,n:2*n]   = z[i:i+n]\n",
        "      XS[p,2*n:3*n] = v[i:i+n]   \n",
        "      XS[p,3*n:4*n] = w[i:i+n] \n",
        "\n",
        "      ys[p] = y[i+n+dd]\n",
        "      p+=1\n",
        "\n",
        "  return XS[:p,:], ys[:p]"
      ],
      "execution_count": 10,
      "outputs": []
    },
    {
      "cell_type": "markdown",
      "metadata": {
        "id": "yyrY-eG15ycM"
      },
      "source": [
        "# Defning the Gaussain Process using George package\n",
        "\n",
        "Defning the *kernel*:\n",
        "\n",
        "$k_{ij} = k(X_i, X_j) = \\sigma^2 exp(-r^2)$,\n",
        "where $r$ is the euclidean distance between $X_i$ and $X_j$.\n",
        "\n",
        "$X$ is the parameter vector after normalization: $X=(x_1, x_2, ....)$. \n",
        "Let's assume, we use $ET0$ and $R_n$ as features. Then for each point in the feature space: $X= (ET0/L_1, R_n/L_2)$, where $L$ is the normalization factor. Vector $L$ and $\\sigma$ are the free parameters of the kernel we are interested to find.To make use of the previous data points in the series, we can extend the number of features, i.e. $X= (ET0^{(1)}/L_1, R^{(1)}_n/L_2, ET0^{(2)}/L_3, R^{(2)}_n/L_4, ...)$. $ET0^{(1)}$ is the previous data point in the series, $ET0^{(2)}$ is the second previous data point etc. $X$ can hold as many as data point as we want. It can include a mixture of different parameters, other series, and basically anything that we think our problem depends on.\n",
        "In the following function, $L$, $\\sigma$, and $y_{err}$ are all given in the same array called $\\theta$. $y_{err}$ represents the uncertainty of the target values (the present value of $ET0$) and is taken as a free parameter that basically prevents over-training."
      ]
    },
    {
      "cell_type": "code",
      "metadata": {
        "id": "t_EA5Fa3jEme"
      },
      "source": [
        "from sklearn.model_selection import train_test_split\n",
        "\n",
        "def GPR(X, y, lnlikelihood=True):\n",
        "  '''\n",
        "  The output of this function is another function, either the lnlikelihood, or \n",
        "  the gp (the gaussian process regressor that is dfined by giving theta)\n",
        "  '''\n",
        "  n = X.shape[1]\n",
        "    \n",
        "  def step(theta):\n",
        "\n",
        "        L = np.exp(theta[:n])\n",
        "        sigma = np.exp(theta[n])   \n",
        "        yerr = np.exp(theta[n+1])\n",
        "        \n",
        "        kernel = sigma * kernels.ExpSquaredKernel(np.ones(n), ndim=n)\n",
        "\n",
        "        gp = george.GP(kernel)\n",
        "\n",
        "        if lnlikelihood:\n",
        "          gp = george.GP(kernel)\n",
        "          gp.compute(X / np.vstack([L]*X.shape[0]), yerr)\n",
        "       \n",
        "          return -gp.lnlikelihood(y)\n",
        "        else:\n",
        "          X0 = X / np.vstack([L]*X.shape[0])\n",
        "          gp.compute(X0, yerr)\n",
        "          return gp\n",
        "      \n",
        "  return step"
      ],
      "execution_count": 11,
      "outputs": []
    },
    {
      "cell_type": "markdown",
      "metadata": {
        "id": "vJiaxHSB-pyZ"
      },
      "source": [
        "# Preparing the feature matrix, X, and the target vector, y\n",
        "for the given training and cross_validation sets.\n",
        "\n",
        "In the following example for mDelay=3, 3*4 features would be generated. 3-lags, four parameters each. So $X$ is 12-dimensional"
      ]
    },
    {
      "cell_type": "code",
      "metadata": {
        "id": "144XexgH-ft3"
      },
      "source": [
        "# y: ET0 \n",
        "# z: P1 (the first principal component)\n",
        "# v: T (temperature)\n",
        "# w: VPD\n",
        "\n",
        "mDelay = 10\n",
        "nAhead = 1\n",
        "\n",
        "XS2, ys2 = dataPrepare2(y, z, v, w, n=mDelay, d=nAhead)\n",
        "XS_test2, ys_test2 = dataPrepare2(y_test, z_test, v_test, w_test, n=mDelay, d=nAhead)\n",
        "\n",
        "n_components = 4*mDelay"
      ],
      "execution_count": 12,
      "outputs": []
    },
    {
      "cell_type": "code",
      "metadata": {
        "colab": {
          "base_uri": "https://localhost:8080/"
        },
        "id": "oG2Av8a5_2PK",
        "outputId": "5d264294-4884-4e5e-8d22-1d441774a638"
      },
      "source": [
        "XS2.shape, ys2.shape"
      ],
      "execution_count": 13,
      "outputs": [
        {
          "output_type": "execute_result",
          "data": {
            "text/plain": [
              "((835, 40), (835,))"
            ]
          },
          "metadata": {
            "tags": []
          },
          "execution_count": 13
        }
      ]
    },
    {
      "cell_type": "code",
      "metadata": {
        "colab": {
          "base_uri": "https://localhost:8080/"
        },
        "id": "jJYePO5QBit5",
        "outputId": "373002d2-36e0-460f-f9ae-0be5092ed4f2"
      },
      "source": [
        "XS2"
      ],
      "execution_count": 14,
      "outputs": [
        {
          "output_type": "execute_result",
          "data": {
            "text/plain": [
              "array([[0.12128874, 0.14213072, 0.16560852, ..., 0.        , 0.        ,\n",
              "        0.        ],\n",
              "       [0.14213072, 0.16560852, 0.14952289, ..., 0.        , 0.        ,\n",
              "        0.        ],\n",
              "       [0.16560852, 0.14952289, 0.14682683, ..., 0.        , 0.        ,\n",
              "        0.        ],\n",
              "       ...,\n",
              "       [0.14066152, 0.09793948, 0.08957146, ..., 0.        , 0.        ,\n",
              "        0.        ],\n",
              "       [0.09793948, 0.08957146, 0.02642288, ..., 0.        , 0.        ,\n",
              "        0.        ],\n",
              "       [0.08957146, 0.02642288, 0.12784078, ..., 0.        , 0.        ,\n",
              "        0.        ]])"
            ]
          },
          "metadata": {
            "tags": []
          },
          "execution_count": 14
        }
      ]
    },
    {
      "cell_type": "code",
      "metadata": {
        "colab": {
          "base_uri": "https://localhost:8080/"
        },
        "id": "ZdtqbaQOACG9",
        "outputId": "0f48461b-04de-434e-98c7-65b40ca5e9d5"
      },
      "source": [
        "XS2.min(), XS2.max()"
      ],
      "execution_count": 15,
      "outputs": [
        {
          "output_type": "execute_result",
          "data": {
            "text/plain": [
              "(0.0, 0.2784990830607805)"
            ]
          },
          "metadata": {
            "tags": []
          },
          "execution_count": 15
        }
      ]
    },
    {
      "cell_type": "code",
      "metadata": {
        "colab": {
          "base_uri": "https://localhost:8080/"
        },
        "id": "3CBxLTwMA9k7",
        "outputId": "1904c5f0-0ed1-46d6-c55d-b76228260101"
      },
      "source": [
        "XS_test2.min(), XS_test2.max()"
      ],
      "execution_count": 16,
      "outputs": [
        {
          "output_type": "execute_result",
          "data": {
            "text/plain": [
              "(0.0, 0.2935507272208374)"
            ]
          },
          "metadata": {
            "tags": []
          },
          "execution_count": 16
        }
      ]
    },
    {
      "cell_type": "code",
      "metadata": {
        "colab": {
          "base_uri": "https://localhost:8080/"
        },
        "id": "_mWAPbOW_79R",
        "outputId": "a987c5f4-6974-49a5-ad13-bb0564915d56"
      },
      "source": [
        "XS_test2.shape, ys_test2.shape"
      ],
      "execution_count": 17,
      "outputs": [
        {
          "output_type": "execute_result",
          "data": {
            "text/plain": [
              "((325, 40), (325,))"
            ]
          },
          "metadata": {
            "tags": []
          },
          "execution_count": 17
        }
      ]
    },
    {
      "cell_type": "markdown",
      "metadata": {
        "id": "-tAYE5OVAYCN"
      },
      "source": [
        "# Optional dimension reduction\n",
        "\n",
        "Since the number of dimensions could be large, we can project all paraeters to a principal compnent space with lower dimensions. \n",
        "\n",
        "For instance, running the following cell, for n_components = 5, only 5 strongest components are utilized. Another advantage is that these 5 components are independent and not correlated. If the number of features is larges, using too small number components implies information leakage. "
      ]
    },
    {
      "cell_type": "markdown",
      "metadata": {
        "id": "NPD19EA9BzhT"
      },
      "source": [
        "# Finding the optimum parameters of the GP kernel\n",
        "\n",
        "Here, we basically find the optimum parameters that maximize the likelihood of the defined GP. \n",
        "\n",
        "We can find the best parameters through the execution of an MCMC to make sure that we are not capturing the local extremums. "
      ]
    },
    {
      "cell_type": "markdown",
      "metadata": {
        "id": "P4lSuv3-IONH"
      },
      "source": [
        "# PSO with PySwarm\n",
        "Optimizing the GPR hyperparameters using the Particle Swarm Optimizer\n",
        "\n",
        "https://pyswarms.readthedocs.io/en/latest/index.html"
      ]
    },
    {
      "cell_type": "code",
      "metadata": {
        "id": "kP82LojL971n",
        "colab": {
          "base_uri": "https://localhost:8080/"
        },
        "outputId": "47e3f1a0-66e7-44c6-ce87-ecf6fdb01597"
      },
      "source": [
        "!pip install pyswarms"
      ],
      "execution_count": 18,
      "outputs": [
        {
          "output_type": "stream",
          "text": [
            "Requirement already satisfied: pyswarms in /usr/local/lib/python3.6/dist-packages (1.2.0)\n",
            "Requirement already satisfied: pyyaml in /usr/local/lib/python3.6/dist-packages (from pyswarms) (3.13)\n",
            "Requirement already satisfied: matplotlib>=1.3.1 in /usr/local/lib/python3.6/dist-packages (from pyswarms) (3.2.2)\n",
            "Requirement already satisfied: future in /usr/local/lib/python3.6/dist-packages (from pyswarms) (0.16.0)\n",
            "Requirement already satisfied: attrs in /usr/local/lib/python3.6/dist-packages (from pyswarms) (20.3.0)\n",
            "Requirement already satisfied: numpy in /usr/local/lib/python3.6/dist-packages (from pyswarms) (1.18.5)\n",
            "Requirement already satisfied: tqdm in /usr/local/lib/python3.6/dist-packages (from pyswarms) (4.41.1)\n",
            "Requirement already satisfied: scipy in /usr/local/lib/python3.6/dist-packages (from pyswarms) (1.4.1)\n",
            "Requirement already satisfied: cycler>=0.10 in /usr/local/lib/python3.6/dist-packages (from matplotlib>=1.3.1->pyswarms) (0.10.0)\n",
            "Requirement already satisfied: kiwisolver>=1.0.1 in /usr/local/lib/python3.6/dist-packages (from matplotlib>=1.3.1->pyswarms) (1.3.1)\n",
            "Requirement already satisfied: python-dateutil>=2.1 in /usr/local/lib/python3.6/dist-packages (from matplotlib>=1.3.1->pyswarms) (2.8.1)\n",
            "Requirement already satisfied: pyparsing!=2.0.4,!=2.1.2,!=2.1.6,>=2.0.1 in /usr/local/lib/python3.6/dist-packages (from matplotlib>=1.3.1->pyswarms) (2.4.7)\n",
            "Requirement already satisfied: six in /usr/local/lib/python3.6/dist-packages (from cycler>=0.10->matplotlib>=1.3.1->pyswarms) (1.15.0)\n"
          ],
          "name": "stdout"
        }
      ]
    },
    {
      "cell_type": "code",
      "metadata": {
        "id": "74EPH8O8-CDv"
      },
      "source": [
        "# Import modules\n",
        "import numpy as np\n",
        "from pyswarms.single.global_best import GlobalBestPSO\n",
        "# Import PySwarms\n",
        "import pyswarms as ps\n",
        "from pyswarms.utils.functions import single_obj as fx\n",
        "\n",
        "# Some more magic so that the notebook will reload external python modules;\n",
        "# see http://stackoverflow.com/questions/1907993/autoreload-of-modules-in-ipython\n",
        "%load_ext autoreload\n",
        "%autoreload 2"
      ],
      "execution_count": 19,
      "outputs": []
    },
    {
      "cell_type": "code",
      "metadata": {
        "colab": {
          "base_uri": "https://localhost:8080/"
        },
        "id": "LLGIoo3U_cHJ",
        "outputId": "61e61115-bbe3-4544-fdb1-f54a8ef1620e"
      },
      "source": [
        "XS2.shape, ys2.shape"
      ],
      "execution_count": 20,
      "outputs": [
        {
          "output_type": "execute_result",
          "data": {
            "text/plain": [
              "((835, 40), (835,))"
            ]
          },
          "metadata": {
            "tags": []
          },
          "execution_count": 20
        }
      ]
    },
    {
      "cell_type": "code",
      "metadata": {
        "colab": {
          "base_uri": "https://localhost:8080/"
        },
        "id": "iWQJNi6l_cMn",
        "outputId": "1fc8317e-5154-4ecf-bfa6-6c7c23bcbcfc"
      },
      "source": [
        "XS2.min(), XS2.max()"
      ],
      "execution_count": 21,
      "outputs": [
        {
          "output_type": "execute_result",
          "data": {
            "text/plain": [
              "(0.0, 0.2784990830607805)"
            ]
          },
          "metadata": {
            "tags": []
          },
          "execution_count": 21
        }
      ]
    },
    {
      "cell_type": "code",
      "metadata": {
        "id": "8igaLAUk-C3u"
      },
      "source": [
        "from sklearn.model_selection import KFold\n",
        "\n",
        "kf = KFold(n_splits=3)\n",
        "kf.get_n_splits(XS2)\n",
        "\n",
        "def Xi2_swarm(x):\n",
        "  \n",
        "  nParticle = x.shape[0]\n",
        "  out = np.zeros(nParticle)\n",
        "\n",
        "  for train_index, cross_index in kf.split(XS2):\n",
        "    \n",
        "      X_train, X_cross = XS2[train_index], XS2[cross_index]\n",
        "      y_train, y_cross = ys2[train_index], ys2[cross_index]\n",
        "\n",
        "      n = X_cross.shape[1]\n",
        "      m = X_cross.shape[0]\n",
        "\n",
        "      for n_iter in range(nParticle):\n",
        "          \n",
        "          theta = x[n_iter,:]\n",
        "\n",
        "          L = np.exp(theta[:n])\n",
        "\n",
        "          gp = GPR(X_train, y_train, lnlikelihood=False)(theta)\n",
        "          gp_yp_cross, gp_yp_cross_std = gp.predict(y_train, X_cross/np.vstack([L]*m), return_var=True)\n",
        "\n",
        "          out[n_iter] += np.sum((y_cross - gp_yp_cross)**2)\n",
        "\n",
        "  return out\n"
      ],
      "execution_count": 22,
      "outputs": []
    },
    {
      "cell_type": "code",
      "metadata": {
        "id": "isYO5eFm-J9N",
        "colab": {
          "base_uri": "https://localhost:8080/"
        },
        "outputId": "5fcc5ff8-84c1-48f0-d095-acb76d6e5cd3"
      },
      "source": [
        "\n",
        "# Set-up hyperparameters\n",
        "options = {'c1': 0.5, 'c2': 0.3, 'w':0.9}\n",
        "\n",
        "# Call instance of PSO\n",
        "optimizer = GlobalBestPSO(n_particles=20, dimensions=n_components+2, options=options)\n",
        "\n",
        "# Perform optimization\n",
        "cost, pos = optimizer.optimize(Xi2_swarm, iters=20)"
      ],
      "execution_count": 23,
      "outputs": [
        {
          "output_type": "stream",
          "text": [
            "2020-12-01 08:27:00,406 - pyswarms.single.global_best - INFO - Optimize for 20 iters with {'c1': 0.5, 'c2': 0.3, 'w': 0.9}\n",
            "pyswarms.single.global_best: 100%|██████████|20/20, best_cost=1.51\n",
            "2020-12-01 08:28:25,842 - pyswarms.single.global_best - INFO - Optimization finished | best cost: 1.5107627676522488, best pos: [-1.07157441  0.41097178  0.11690869 -0.84649347 -0.39368288  0.36736232\n",
            " -1.03705903  2.97785589 -0.049405   -0.32994509 -0.64966759 -1.06409275\n",
            "  0.49601652 -0.21439477  1.76046342 -2.38303316  0.4901707  -0.07054777\n",
            " -1.55056564 -0.79195688 -0.6918579  -2.72333053 -0.13068116 -0.34754764\n",
            "  1.06161294  0.45168726  0.66351723 -0.74568321 -0.4976163   0.96518302\n",
            " -1.59534388 -0.32312213 -1.00808921 -1.40576    -0.59716545 -0.85687371\n",
            " -0.48733654  0.07212805  0.33180725  0.25314415  0.61607855 -1.36292396]\n"
          ],
          "name": "stderr"
        }
      ]
    },
    {
      "cell_type": "code",
      "metadata": {
        "id": "yA9xjCVNUdjf",
        "colab": {
          "base_uri": "https://localhost:8080/"
        },
        "outputId": "fbf5751a-6dc2-4e78-d4f8-82da88993b9c"
      },
      "source": [
        "pos"
      ],
      "execution_count": 24,
      "outputs": [
        {
          "output_type": "execute_result",
          "data": {
            "text/plain": [
              "array([-1.07157441,  0.41097178,  0.11690869, -0.84649347, -0.39368288,\n",
              "        0.36736232, -1.03705903,  2.97785589, -0.049405  , -0.32994509,\n",
              "       -0.64966759, -1.06409275,  0.49601652, -0.21439477,  1.76046342,\n",
              "       -2.38303316,  0.4901707 , -0.07054777, -1.55056564, -0.79195688,\n",
              "       -0.6918579 , -2.72333053, -0.13068116, -0.34754764,  1.06161294,\n",
              "        0.45168726,  0.66351723, -0.74568321, -0.4976163 ,  0.96518302,\n",
              "       -1.59534388, -0.32312213, -1.00808921, -1.40576   , -0.59716545,\n",
              "       -0.85687371, -0.48733654,  0.07212805,  0.33180725,  0.25314415,\n",
              "        0.61607855, -1.36292396])"
            ]
          },
          "metadata": {
            "tags": []
          },
          "execution_count": 24
        }
      ]
    },
    {
      "cell_type": "code",
      "metadata": {
        "id": "HN1qTOHu-OPN"
      },
      "source": [
        "truths = pos\n",
        "gp = GPR(XS2, ys2, lnlikelihood=False)(truths)\n",
        "\n",
        "\n",
        "n = XS2.shape[1]\n",
        "m_test = XS_test2.shape[0]\n",
        "m = XS2.shape[0]\n",
        "\n",
        "L = np.exp(truths[:n])\n",
        "\n",
        "\n",
        "gp_yp, gp_yp_std = gp.predict(ys2, XS2/np.vstack([L]*m), return_var=True)\n",
        "\n",
        "gp_yp_test, gp_yp_test_std = gp.predict(ys2, XS_test2/np.vstack([L]*m_test), return_var=True)"
      ],
      "execution_count": 25,
      "outputs": []
    },
    {
      "cell_type": "code",
      "metadata": {
        "id": "CSu6EUclUee7",
        "colab": {
          "base_uri": "https://localhost:8080/"
        },
        "outputId": "9be8c921-ad4c-430e-8bd1-a4896edf171c"
      },
      "source": [
        "print(\"Training set: \")\n",
        "metrics(ys2, gp_yp)\n",
        "print(\"----------------------\")\n",
        "print(\"Test set: \")\n",
        "metrics(ys_test2, gp_yp_test)\n"
      ],
      "execution_count": 26,
      "outputs": [
        {
          "output_type": "stream",
          "text": [
            "Training set: \n",
            "MAE: 0.03  RMSE: 0.04  R^2: 0.35\n",
            "----------------------\n",
            "Test set: \n",
            "MAE: 0.04  RMSE: 0.05  R^2: 0.27\n"
          ],
          "name": "stdout"
        }
      ]
    },
    {
      "cell_type": "code",
      "metadata": {
        "id": "yiT7hqMxUhXV",
        "colab": {
          "base_uri": "https://localhost:8080/",
          "height": 431
        },
        "outputId": "81b66138-e559-4546-e53c-e92c9c2235fb"
      },
      "source": [
        "fig = py.figure(figsize=(15, 4), dpi=100)    \n",
        "fig.subplots_adjust(wspace=0, top=0.9, bottom=0.12, left=0.05, right=0.98)\n",
        "ax = fig.add_subplot(111)\n",
        "\n",
        "# ax.plot(gp_yp, 'r.-',  alpha=1)\n",
        "# ax.plot(ys2, 'g.-', alpha=0.8)\n",
        "\n",
        "ax.plot(gp_yp_test, 'r-',  alpha=1, label='GP prediction')\n",
        "ax.plot(ys_test2, 'g-', alpha=0.8, label='real data')\n",
        "\n",
        "## Filling \n",
        "# ax.fill_between(range(len(gp_yp_test)), gp_yp_test - 1.*np.sqrt(gp_yp_test_std), gp_yp_test + 1.*np.sqrt(gp_yp_test_std),\n",
        "#                 color=\"r\", alpha=0.2)\n",
        "\n",
        "ax.legend()\n",
        "# ax.set_xlim(0,len(gp_yp_test))\n",
        "ax.set_ylabel(\"$ET_0$\")\n",
        "ax.set_xlabel(\"Time index [day]\")\n",
        "ax.set_title(\"1 day ahead predictions (Test)\")"
      ],
      "execution_count": 27,
      "outputs": [
        {
          "output_type": "execute_result",
          "data": {
            "text/plain": [
              "Text(0.5, 1.0, '1 day ahead predictions (Test)')"
            ]
          },
          "metadata": {
            "tags": []
          },
          "execution_count": 27
        },
        {
          "output_type": "display_data",
          "data": {
            "image/png": "[encoded data removed]",
            "text/plain": [
              "<Figure size 1500x400 with 1 Axes>"
            ]
          },
          "metadata": {
            "tags": [],
            "needs_background": "light"
          }
        }
      ]
    },
    {
      "cell_type": "code",
      "metadata": {
        "id": "Jx_X36AXIJmT",
        "colab": {
          "base_uri": "https://localhost:8080/",
          "height": 312
        },
        "outputId": "e7a62f0d-9925-4cae-ff97-0b5643d160bf"
      },
      "source": [
        "plt.plot(ys_test2, gp_yp_test, 'r.')\n",
        "\n",
        "plt.plot([0, 8], [0, 8], 'k-')\n",
        "\n",
        "plt.xlabel(\"Observed ET0\")\n",
        "plt.ylabel(\"Predicted ET0\")\n",
        "\n",
        "plt.xlim(0,8)\n",
        "plt.ylim(0,8)\n",
        "plt.title(\"Changde\")"
      ],
      "execution_count": 28,
      "outputs": [
        {
          "output_type": "execute_result",
          "data": {
            "text/plain": [
              "Text(0.5, 1.0, 'Changde')"
            ]
          },
          "metadata": {
            "tags": []
          },
          "execution_count": 28
        },
        {
          "output_type": "display_data",
          "data": {
            "image/png": "[encoded data removed]",
            "text/plain": [
              "<Figure size 432x288 with 1 Axes>"
            ]
          },
          "metadata": {
            "tags": [],
            "needs_background": "light"
          }
        }
      ]
    },
    {
      "cell_type": "code",
      "metadata": {
        "id": "XBMBZu6rKrmr",
        "colab": {
          "base_uri": "https://localhost:8080/"
        },
        "outputId": "fbbf205a-5ec3-40a1-f014-feab20dc73eb"
      },
      "source": [
        "N = len(ys_test2)\n",
        "metrics(ys_test2[:N-1], ys_test2[1:])"
      ],
      "execution_count": 29,
      "outputs": [
        {
          "output_type": "stream",
          "text": [
            "MAE: 0.04  RMSE: 0.06  R^2: -0.15\n"
          ],
          "name": "stdout"
        }
      ]
    },
    {
      "cell_type": "code",
      "metadata": {
        "id": "cPKH2nrCRwDS"
      },
      "source": [
        ""
      ],
      "execution_count": 29,
      "outputs": []
    }
  ]
}