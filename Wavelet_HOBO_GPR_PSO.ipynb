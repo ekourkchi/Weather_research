{
  "nbformat": 4,
  "nbformat_minor": 0,
  "metadata": {
    "colab": {
      "name": "Wavelet_HOBO_GPR_PSO.ipynb",
      "provenance": [],
      "collapsed_sections": [],
      "mount_file_id": "1H_d4FPmjad9vvwcKONE2ROYylIgM4v06",
      "authorship_tag": "ABX9TyOFdb1zCzBDiyeHFE9n0mHv",
      "include_colab_link": true
    },
    "kernelspec": {
      "name": "python3",
      "display_name": "Python 3"
    }
  },
  "cells": [
    {
      "cell_type": "markdown",
      "metadata": {
        "id": "view-in-github",
        "colab_type": "text"
      },
      "source": [
        "<a href=\"https://colab.research.google.com/github/ekourkchi/Weather_research/blob/master/Wavelet_HOBO_GPR_PSO.ipynb\" target=\"_parent\"><img src=\"https://colab.research.google.com/assets/colab-badge.svg\" alt=\"Open In Colab\"/></a>"
      ]
    },
    {
      "cell_type": "markdown",
      "metadata": {
        "id": "P4xaWzP4bEiD"
      },
      "source": [
        "\n",
        "\n",
        "# Installing extra packages on the current session\n",
        "I use \"george packages for the Gaussian Process analysis\n",
        "Please visit here for further details: https://george.readthedocs.io/en/latest/user/kernels/\n"
      ]
    },
    {
      "cell_type": "code",
      "metadata": {
        "id": "1OnIjP9PbCF5",
        "colab": {
          "base_uri": "https://localhost:8080/"
        },
        "outputId": "7eab151b-36bc-435b-8b17-39adbf8fa144"
      },
      "source": [
        "!pip install george"
      ],
      "execution_count": 1,
      "outputs": [
        {
          "output_type": "stream",
          "text": [
            "Requirement already satisfied: george in /usr/local/lib/python3.6/dist-packages (0.3.1)\n",
            "Requirement already satisfied: numpy in /usr/local/lib/python3.6/dist-packages (from george) (1.18.5)\n",
            "Requirement already satisfied: scipy in /usr/local/lib/python3.6/dist-packages (from george) (1.4.1)\n",
            "Requirement already satisfied: pybind11 in /usr/local/lib/python3.6/dist-packages (from george) (2.6.1)\n"
          ],
          "name": "stdout"
        }
      ]
    },
    {
      "cell_type": "markdown",
      "metadata": {
        "id": "CJPo4yPabY6m"
      },
      "source": [
        "\n",
        "# Importing packages\n"
      ]
    },
    {
      "cell_type": "code",
      "metadata": {
        "id": "nwWf_zgebWs0"
      },
      "source": [
        "import sys\n",
        "import time\n",
        "import os\n",
        "import subprocess\n",
        "import math\n",
        "import matplotlib.pyplot as plt\n",
        "import numpy as np\n",
        "from astropy.table import Table, Column \n",
        "from scipy.stats import linregress\n",
        "from scipy import interpolate\n",
        "from scipy import polyval, polyfit\n",
        "from scipy import odr\n",
        "import pylab as py\n",
        "from matplotlib import gridspec\n",
        "import sklearn.datasets as ds\n",
        "from sklearn.decomposition import PCA\n",
        "from sklearn.preprocessing import StandardScaler\n",
        "import scipy.optimize as op\n",
        "from scipy.linalg import cholesky, inv,det\n",
        "from scipy.optimize import minimize\n",
        "import george\n",
        "from george import kernels\n",
        "import pandas as pd\n",
        "from datetime import datetime\n",
        "import time\n",
        "from sklearn.metrics import mean_squared_error\n",
        "from sklearn.metrics import r2_score"
      ],
      "execution_count": 2,
      "outputs": []
    },
    {
      "cell_type": "markdown",
      "metadata": {
        "id": "XABFRiJzbnlu"
      },
      "source": [
        "# Load data\n",
        "data preparation\n",
        "We generate the first 3 main principal components that capture the most useful information of the data. P1, P2 and P3 are not correalted with each other while they are epressed as the linear cominination of the available featurdes, i.e. ET0, VPD, Rn and T (air temperature)\n",
        "\n",
        "**Note:** Make sure that the data file is addressed correctly and it's already avaialble in your Google drive."
      ]
    },
    {
      "cell_type": "code",
      "metadata": {
        "colab": {
          "base_uri": "https://localhost:8080/",
          "height": 35
        },
        "id": "UGGjwQafA5KF",
        "outputId": "f93527ea-434d-4018-c2bb-8f85a400d17c"
      },
      "source": [
        "stationInfo = {\n",
        "    10906989:{\"timeZone\": \"US/Hawaii\", \"name\": \"ALOUN_HELEMANO\", \"GPS\": \"21 32 8.9 N 158 02 05.0 W\"},  \n",
        "    20173022:{\"timeZone\": \"US/Hawaii\", \"name\": \"HIRAKO\", \"GPS\": \"20 00 14.6 N 155 41 29.3 W\"}, \n",
        "    20009161:{\"timeZone\": \"US/Hawaii\", \"name\": \"KULA_AG_PARK\", \"GPS\": \"20 47 43.2 N 156 21 35.6 W\"}, \n",
        "    20121046:{\"timeZone\": \"Pacific/Guam\", \"name\": \"MALOJLOJ MEDA\", \"GPS\": \"13 20 21.0 N 144 45 49.0 E\"},\n",
        "    20006321:{\"timeZone\": \"US/Hawaii\", \"name\": \"MAO\", \"GPS\": \"21 27 4.9 N 158 09 25.8 W\"},\n",
        "    20173020:{\"timeZone\": \"US/Hawaii\", \"name\": \"PIONEER CORN\", \"GPS\": \"21 33 41.5 N 158 07 40.3 W\"},\n",
        "    20173019:{\"timeZone\": \"US/Hawaii\", \"name\": \"SEIZEN\", \"GPS\": \"20 01 26.2 N 155 39 00.5 W\"},\n",
        "    20824841:{\"timeZone\": \"Pacific/Guam\", \"name\": \"WATSON\", \"GPS\": \"\"},\n",
        "    20824842:{\"timeZone\": \"Pacific/Guam\", \"name\": \"WUSSTIG\", \"GPS\": \"\"},\n",
        "    20121045:{\"timeZone\": \"Pacific/Guam\", \"name\": \"YIGO\", \"GPS\": \"13 33 54.3 N 144 52 38.4 E\"},   #            \n",
        "    20121047:{\"timeZone\": \"Pacific/Samoa\", \"name\": \"MALAEIMI \", \"GPS\": \"\"},\n",
        "    20121048:{\"timeZone\": \"Pacific/Samoa\", \"name\": \"TAFETA\", \"GPS\": \"\"},\n",
        "    20173018:{\"timeZone\": \"US/Hawaii\", \"name\": \"TEXEIRA\", \"GPS\": \"\"},\n",
        "    }\n",
        "\n",
        "\n",
        "\n",
        "serial = 10906989\n",
        "station = stationInfo[serial][\"name\"]\n",
        "station"
      ],
      "execution_count": 3,
      "outputs": [
        {
          "output_type": "execute_result",
          "data": {
            "application/vnd.google.colaboratory.intrinsic+json": {
              "type": "string"
            },
            "text/plain": [
              "'ALOUN_HELEMANO'"
            ]
          },
          "metadata": {
            "tags": []
          },
          "execution_count": 3
        }
      ]
    },
    {
      "cell_type": "code",
      "metadata": {
        "colab": {
          "base_uri": "https://localhost:8080/"
        },
        "id": "dRTBf0cOA890",
        "outputId": "c4ecad74-3506-456b-add3-93e57100535e"
      },
      "source": [
        "data = pd.read_excel('/content/drive/MyDrive/HOBO_CAMPBELL_ET0_Rain.xlsx', sheet_name=station)\n",
        "\n",
        "data.columns"
      ],
      "execution_count": 4,
      "outputs": [
        {
          "output_type": "execute_result",
          "data": {
            "text/plain": [
              "Index(['Unnamed: 0', 'Date(US/Hawaii)', 'ETo_PM(inch/day)',\n",
              "       'ETo_CIMIS(inch/day)', 'Rain(inch)', 'Tc', 'Tmin', 'Tmax', 'VPD', 'Rn',\n",
              "       'ETo_PM (raw)', 'ETo_CIMIS (raw)', 'Rain (raw)'],\n",
              "      dtype='object')"
            ]
          },
          "metadata": {
            "tags": []
          },
          "execution_count": 4
        }
      ]
    },
    {
      "cell_type": "code",
      "metadata": {
        "colab": {
          "base_uri": "https://localhost:8080/",
          "height": 224
        },
        "id": "RzkBTDkJMurc",
        "outputId": "0c518618-e78e-414f-ed05-7d5cd3574dc8"
      },
      "source": [
        "data.head()"
      ],
      "execution_count": 5,
      "outputs": [
        {
          "output_type": "execute_result",
          "data": {
            "text/html": [
              "<div>\n",
              "<style scoped>\n",
              "    .dataframe tbody tr th:only-of-type {\n",
              "        vertical-align: middle;\n",
              "    }\n",
              "\n",
              "    .dataframe tbody tr th {\n",
              "        vertical-align: top;\n",
              "    }\n",
              "\n",
              "    .dataframe thead th {\n",
              "        text-align: right;\n",
              "    }\n",
              "</style>\n",
              "<table border=\"1\" class=\"dataframe\">\n",
              "  <thead>\n",
              "    <tr style=\"text-align: right;\">\n",
              "      <th></th>\n",
              "      <th>Unnamed: 0</th>\n",
              "      <th>Date(US/Hawaii)</th>\n",
              "      <th>ETo_PM(inch/day)</th>\n",
              "      <th>ETo_CIMIS(inch/day)</th>\n",
              "      <th>Rain(inch)</th>\n",
              "      <th>Tc</th>\n",
              "      <th>Tmin</th>\n",
              "      <th>Tmax</th>\n",
              "      <th>VPD</th>\n",
              "      <th>Rn</th>\n",
              "      <th>ETo_PM (raw)</th>\n",
              "      <th>ETo_CIMIS (raw)</th>\n",
              "      <th>Rain (raw)</th>\n",
              "    </tr>\n",
              "  </thead>\n",
              "  <tbody>\n",
              "    <tr>\n",
              "      <th>0</th>\n",
              "      <td>0</td>\n",
              "      <td>2016-03-25</td>\n",
              "      <td>NaN</td>\n",
              "      <td>NaN</td>\n",
              "      <td>NaN</td>\n",
              "      <td>24.049190</td>\n",
              "      <td>23.544444</td>\n",
              "      <td>25.305556</td>\n",
              "      <td>0.913321</td>\n",
              "      <td>-0.175800</td>\n",
              "      <td>NaN</td>\n",
              "      <td>NaN</td>\n",
              "      <td>NaN</td>\n",
              "    </tr>\n",
              "    <tr>\n",
              "      <th>1</th>\n",
              "      <td>1</td>\n",
              "      <td>2016-03-26</td>\n",
              "      <td>NaN</td>\n",
              "      <td>NaN</td>\n",
              "      <td>NaN</td>\n",
              "      <td>23.472222</td>\n",
              "      <td>23.472222</td>\n",
              "      <td>23.509102</td>\n",
              "      <td>0.832428</td>\n",
              "      <td>-0.203134</td>\n",
              "      <td>NaN</td>\n",
              "      <td>NaN</td>\n",
              "      <td>NaN</td>\n",
              "    </tr>\n",
              "    <tr>\n",
              "      <th>2</th>\n",
              "      <td>2</td>\n",
              "      <td>2016-03-27</td>\n",
              "      <td>NaN</td>\n",
              "      <td>NaN</td>\n",
              "      <td>NaN</td>\n",
              "      <td>NaN</td>\n",
              "      <td>23.264815</td>\n",
              "      <td>23.788140</td>\n",
              "      <td>0.836598</td>\n",
              "      <td>-0.210989</td>\n",
              "      <td>NaN</td>\n",
              "      <td>NaN</td>\n",
              "      <td>NaN</td>\n",
              "    </tr>\n",
              "    <tr>\n",
              "      <th>3</th>\n",
              "      <td>3</td>\n",
              "      <td>2016-03-28</td>\n",
              "      <td>NaN</td>\n",
              "      <td>NaN</td>\n",
              "      <td>NaN</td>\n",
              "      <td>NaN</td>\n",
              "      <td>23.057407</td>\n",
              "      <td>24.067179</td>\n",
              "      <td>0.840767</td>\n",
              "      <td>-0.218843</td>\n",
              "      <td>NaN</td>\n",
              "      <td>NaN</td>\n",
              "      <td>NaN</td>\n",
              "    </tr>\n",
              "    <tr>\n",
              "      <th>4</th>\n",
              "      <td>4</td>\n",
              "      <td>2016-03-29</td>\n",
              "      <td>NaN</td>\n",
              "      <td>NaN</td>\n",
              "      <td>NaN</td>\n",
              "      <td>NaN</td>\n",
              "      <td>22.850000</td>\n",
              "      <td>24.346217</td>\n",
              "      <td>0.844936</td>\n",
              "      <td>-0.226698</td>\n",
              "      <td>NaN</td>\n",
              "      <td>NaN</td>\n",
              "      <td>NaN</td>\n",
              "    </tr>\n",
              "  </tbody>\n",
              "</table>\n",
              "</div>"
            ],
            "text/plain": [
              "   Unnamed: 0 Date(US/Hawaii)  ...  ETo_CIMIS (raw)  Rain (raw)\n",
              "0           0      2016-03-25  ...              NaN         NaN\n",
              "1           1      2016-03-26  ...              NaN         NaN\n",
              "2           2      2016-03-27  ...              NaN         NaN\n",
              "3           3      2016-03-28  ...              NaN         NaN\n",
              "4           4      2016-03-29  ...              NaN         NaN\n",
              "\n",
              "[5 rows x 13 columns]"
            ]
          },
          "metadata": {
            "tags": []
          },
          "execution_count": 5
        }
      ]
    },
    {
      "cell_type": "code",
      "metadata": {
        "id": "0aV7TYqKA9xR"
      },
      "source": [
        "data = data[['Date(US/Hawaii)', 'ETo_CIMIS (raw)', 'Rain(inch)', 'Tmin', 'Tmax', 'Tc', 'Rn', 'VPD']]"
      ],
      "execution_count": 6,
      "outputs": []
    },
    {
      "cell_type": "code",
      "metadata": {
        "colab": {
          "base_uri": "https://localhost:8080/",
          "height": 394
        },
        "id": "59noFNn6A_X5",
        "outputId": "f4842d83-12ee-4685-ed41-b3e0e692489c"
      },
      "source": [
        "# revising the column names\n",
        "for col in data.columns:\n",
        "  newcol = col.split(\"(\")[0].strip()\n",
        "  data.rename(columns={col:newcol}, inplace=True)\n",
        "\n",
        "# setting up the index of the data frame\n",
        "data.set_index(\"Date\", inplace=True)\n",
        "\n",
        "# resample data daily, forward linear interpolation to fill the missing values\n",
        "data.resample('1d').mean()\n",
        "data = data.interpolate(method='linear', limit_direction='forward', axis=0)\n",
        "\n",
        "## Optional:\n",
        "## Generating the first three principal (P1, P2, P3) components basesd on ET0, VPD, Rn and T.\n",
        "# myData = data[[\"ET0\", \"VPD\", \"Rn\", \"T\"]].ffill()\n",
        "# z_scaler = StandardScaler()\n",
        "# z_data = z_scaler.fit_transform(myData)\n",
        "# pca_data = PCA().fit_transform(z_data);\n",
        "# pca_trafo = PCA().fit(z_data);\n",
        "# data[\"P1\"] = pca_data[:,0]\n",
        "# data[\"P2\"] = pca_data[:,1]\n",
        "# data[\"P3\"] = pca_data[:,3]\n",
        "\n",
        "# displaying the first couple rows of the data table\n",
        "data.tail(10)"
      ],
      "execution_count": 7,
      "outputs": [
        {
          "output_type": "execute_result",
          "data": {
            "text/html": [
              "<div>\n",
              "<style scoped>\n",
              "    .dataframe tbody tr th:only-of-type {\n",
              "        vertical-align: middle;\n",
              "    }\n",
              "\n",
              "    .dataframe tbody tr th {\n",
              "        vertical-align: top;\n",
              "    }\n",
              "\n",
              "    .dataframe thead th {\n",
              "        text-align: right;\n",
              "    }\n",
              "</style>\n",
              "<table border=\"1\" class=\"dataframe\">\n",
              "  <thead>\n",
              "    <tr style=\"text-align: right;\">\n",
              "      <th></th>\n",
              "      <th>ETo_CIMIS</th>\n",
              "      <th>Rain</th>\n",
              "      <th>Tmin</th>\n",
              "      <th>Tmax</th>\n",
              "      <th>Tc</th>\n",
              "      <th>Rn</th>\n",
              "      <th>VPD</th>\n",
              "    </tr>\n",
              "    <tr>\n",
              "      <th>Date</th>\n",
              "      <th></th>\n",
              "      <th></th>\n",
              "      <th></th>\n",
              "      <th></th>\n",
              "      <th></th>\n",
              "      <th></th>\n",
              "      <th></th>\n",
              "    </tr>\n",
              "  </thead>\n",
              "  <tbody>\n",
              "    <tr>\n",
              "      <th>2020-11-21</th>\n",
              "      <td>0.076100</td>\n",
              "      <td>0.0</td>\n",
              "      <td>21.555556</td>\n",
              "      <td>25.500000</td>\n",
              "      <td>23.097222</td>\n",
              "      <td>0.123525</td>\n",
              "      <td>0.454270</td>\n",
              "    </tr>\n",
              "    <tr>\n",
              "      <th>2020-11-22</th>\n",
              "      <td>0.089718</td>\n",
              "      <td>0.0</td>\n",
              "      <td>21.511111</td>\n",
              "      <td>25.038889</td>\n",
              "      <td>22.740278</td>\n",
              "      <td>0.163113</td>\n",
              "      <td>0.452129</td>\n",
              "    </tr>\n",
              "    <tr>\n",
              "      <th>2020-11-23</th>\n",
              "      <td>0.101128</td>\n",
              "      <td>0.0</td>\n",
              "      <td>21.105556</td>\n",
              "      <td>25.838889</td>\n",
              "      <td>22.765046</td>\n",
              "      <td>0.181547</td>\n",
              "      <td>0.478613</td>\n",
              "    </tr>\n",
              "    <tr>\n",
              "      <th>2020-11-24</th>\n",
              "      <td>0.079844</td>\n",
              "      <td>0.0</td>\n",
              "      <td>20.316667</td>\n",
              "      <td>25.233333</td>\n",
              "      <td>22.196991</td>\n",
              "      <td>0.135294</td>\n",
              "      <td>0.319859</td>\n",
              "    </tr>\n",
              "    <tr>\n",
              "      <th>2020-11-25</th>\n",
              "      <td>0.036264</td>\n",
              "      <td>0.0</td>\n",
              "      <td>21.200000</td>\n",
              "      <td>24.872222</td>\n",
              "      <td>22.637037</td>\n",
              "      <td>0.008537</td>\n",
              "      <td>0.367656</td>\n",
              "    </tr>\n",
              "    <tr>\n",
              "      <th>2020-11-26</th>\n",
              "      <td>0.081620</td>\n",
              "      <td>0.0</td>\n",
              "      <td>19.461111</td>\n",
              "      <td>26.305556</td>\n",
              "      <td>21.979398</td>\n",
              "      <td>0.159426</td>\n",
              "      <td>0.427247</td>\n",
              "    </tr>\n",
              "    <tr>\n",
              "      <th>2020-11-27</th>\n",
              "      <td>0.067013</td>\n",
              "      <td>0.0</td>\n",
              "      <td>19.461111</td>\n",
              "      <td>25.016667</td>\n",
              "      <td>21.161111</td>\n",
              "      <td>0.114299</td>\n",
              "      <td>0.382137</td>\n",
              "    </tr>\n",
              "    <tr>\n",
              "      <th>2020-11-28</th>\n",
              "      <td>0.113043</td>\n",
              "      <td>0.0</td>\n",
              "      <td>18.388889</td>\n",
              "      <td>24.772222</td>\n",
              "      <td>21.088426</td>\n",
              "      <td>0.260906</td>\n",
              "      <td>0.493722</td>\n",
              "    </tr>\n",
              "    <tr>\n",
              "      <th>2020-11-29</th>\n",
              "      <td>0.103777</td>\n",
              "      <td>0.0</td>\n",
              "      <td>17.750000</td>\n",
              "      <td>24.411111</td>\n",
              "      <td>20.493287</td>\n",
              "      <td>0.248111</td>\n",
              "      <td>0.289457</td>\n",
              "    </tr>\n",
              "    <tr>\n",
              "      <th>2020-11-30</th>\n",
              "      <td>0.103777</td>\n",
              "      <td>0.0</td>\n",
              "      <td>17.461111</td>\n",
              "      <td>20.338889</td>\n",
              "      <td>18.387654</td>\n",
              "      <td>-0.120085</td>\n",
              "      <td>0.121298</td>\n",
              "    </tr>\n",
              "  </tbody>\n",
              "</table>\n",
              "</div>"
            ],
            "text/plain": [
              "            ETo_CIMIS  Rain       Tmin  ...         Tc        Rn       VPD\n",
              "Date                                    ...                               \n",
              "2020-11-21   0.076100   0.0  21.555556  ...  23.097222  0.123525  0.454270\n",
              "2020-11-22   0.089718   0.0  21.511111  ...  22.740278  0.163113  0.452129\n",
              "2020-11-23   0.101128   0.0  21.105556  ...  22.765046  0.181547  0.478613\n",
              "2020-11-24   0.079844   0.0  20.316667  ...  22.196991  0.135294  0.319859\n",
              "2020-11-25   0.036264   0.0  21.200000  ...  22.637037  0.008537  0.367656\n",
              "2020-11-26   0.081620   0.0  19.461111  ...  21.979398  0.159426  0.427247\n",
              "2020-11-27   0.067013   0.0  19.461111  ...  21.161111  0.114299  0.382137\n",
              "2020-11-28   0.113043   0.0  18.388889  ...  21.088426  0.260906  0.493722\n",
              "2020-11-29   0.103777   0.0  17.750000  ...  20.493287  0.248111  0.289457\n",
              "2020-11-30   0.103777   0.0  17.461111  ...  18.387654 -0.120085  0.121298\n",
              "\n",
              "[10 rows x 7 columns]"
            ]
          },
          "metadata": {
            "tags": []
          },
          "execution_count": 7
        }
      ]
    },
    {
      "cell_type": "code",
      "metadata": {
        "colab": {
          "base_uri": "https://localhost:8080/",
          "height": 238
        },
        "id": "1rlBs0SqhE6B",
        "outputId": "07ffd236-0371-49dd-d55b-1d1626ef79cf"
      },
      "source": [
        "import pywt\n",
        "\n",
        "n_take = len(data)\n",
        "n_level = 3\n",
        "waveletname = 'db4'\n",
        "SharpData = data['ETo_CIMIS'].values\n",
        "\n",
        "data3 = pywt.downcoef('a', SharpData, waveletname, level=n_level)\n",
        "data[\"Wa3\"] = pywt.upcoef('a', data3, waveletname, level=n_level, take=n_take)\n",
        "\n",
        "for i in range(n_level): \n",
        "  res = pywt.downcoef('d', SharpData, waveletname, level=i+1)\n",
        "  data['Wd'+str(i+1)] = pywt.upcoef('d', res, waveletname, level=i+1, take=n_take)\n",
        "\n",
        "data.head()"
      ],
      "execution_count": 8,
      "outputs": [
        {
          "output_type": "execute_result",
          "data": {
            "text/html": [
              "<div>\n",
              "<style scoped>\n",
              "    .dataframe tbody tr th:only-of-type {\n",
              "        vertical-align: middle;\n",
              "    }\n",
              "\n",
              "    .dataframe tbody tr th {\n",
              "        vertical-align: top;\n",
              "    }\n",
              "\n",
              "    .dataframe thead th {\n",
              "        text-align: right;\n",
              "    }\n",
              "</style>\n",
              "<table border=\"1\" class=\"dataframe\">\n",
              "  <thead>\n",
              "    <tr style=\"text-align: right;\">\n",
              "      <th></th>\n",
              "      <th>ETo_CIMIS</th>\n",
              "      <th>Rain</th>\n",
              "      <th>Tmin</th>\n",
              "      <th>Tmax</th>\n",
              "      <th>Tc</th>\n",
              "      <th>Rn</th>\n",
              "      <th>VPD</th>\n",
              "      <th>Wa3</th>\n",
              "      <th>Wd1</th>\n",
              "      <th>Wd2</th>\n",
              "      <th>Wd3</th>\n",
              "    </tr>\n",
              "    <tr>\n",
              "      <th>Date</th>\n",
              "      <th></th>\n",
              "      <th></th>\n",
              "      <th></th>\n",
              "      <th></th>\n",
              "      <th></th>\n",
              "      <th></th>\n",
              "      <th></th>\n",
              "      <th></th>\n",
              "      <th></th>\n",
              "      <th></th>\n",
              "      <th></th>\n",
              "    </tr>\n",
              "  </thead>\n",
              "  <tbody>\n",
              "    <tr>\n",
              "      <th>2016-03-25</th>\n",
              "      <td>NaN</td>\n",
              "      <td>NaN</td>\n",
              "      <td>23.544444</td>\n",
              "      <td>25.305556</td>\n",
              "      <td>24.049190</td>\n",
              "      <td>-0.175800</td>\n",
              "      <td>0.913321</td>\n",
              "      <td>NaN</td>\n",
              "      <td>NaN</td>\n",
              "      <td>NaN</td>\n",
              "      <td>NaN</td>\n",
              "    </tr>\n",
              "    <tr>\n",
              "      <th>2016-03-26</th>\n",
              "      <td>NaN</td>\n",
              "      <td>NaN</td>\n",
              "      <td>23.472222</td>\n",
              "      <td>23.509102</td>\n",
              "      <td>23.472222</td>\n",
              "      <td>-0.203134</td>\n",
              "      <td>0.832428</td>\n",
              "      <td>NaN</td>\n",
              "      <td>NaN</td>\n",
              "      <td>NaN</td>\n",
              "      <td>NaN</td>\n",
              "    </tr>\n",
              "    <tr>\n",
              "      <th>2016-03-27</th>\n",
              "      <td>NaN</td>\n",
              "      <td>NaN</td>\n",
              "      <td>23.264815</td>\n",
              "      <td>23.788140</td>\n",
              "      <td>23.456410</td>\n",
              "      <td>-0.210989</td>\n",
              "      <td>0.836598</td>\n",
              "      <td>NaN</td>\n",
              "      <td>NaN</td>\n",
              "      <td>NaN</td>\n",
              "      <td>NaN</td>\n",
              "    </tr>\n",
              "    <tr>\n",
              "      <th>2016-03-28</th>\n",
              "      <td>NaN</td>\n",
              "      <td>NaN</td>\n",
              "      <td>23.057407</td>\n",
              "      <td>24.067179</td>\n",
              "      <td>23.440598</td>\n",
              "      <td>-0.218843</td>\n",
              "      <td>0.840767</td>\n",
              "      <td>NaN</td>\n",
              "      <td>NaN</td>\n",
              "      <td>NaN</td>\n",
              "      <td>NaN</td>\n",
              "    </tr>\n",
              "    <tr>\n",
              "      <th>2016-03-29</th>\n",
              "      <td>NaN</td>\n",
              "      <td>NaN</td>\n",
              "      <td>22.850000</td>\n",
              "      <td>24.346217</td>\n",
              "      <td>23.424786</td>\n",
              "      <td>-0.226698</td>\n",
              "      <td>0.844936</td>\n",
              "      <td>NaN</td>\n",
              "      <td>NaN</td>\n",
              "      <td>NaN</td>\n",
              "      <td>NaN</td>\n",
              "    </tr>\n",
              "  </tbody>\n",
              "</table>\n",
              "</div>"
            ],
            "text/plain": [
              "            ETo_CIMIS  Rain       Tmin       Tmax  ...  Wa3  Wd1  Wd2  Wd3\n",
              "Date                                               ...                    \n",
              "2016-03-25        NaN   NaN  23.544444  25.305556  ...  NaN  NaN  NaN  NaN\n",
              "2016-03-26        NaN   NaN  23.472222  23.509102  ...  NaN  NaN  NaN  NaN\n",
              "2016-03-27        NaN   NaN  23.264815  23.788140  ...  NaN  NaN  NaN  NaN\n",
              "2016-03-28        NaN   NaN  23.057407  24.067179  ...  NaN  NaN  NaN  NaN\n",
              "2016-03-29        NaN   NaN  22.850000  24.346217  ...  NaN  NaN  NaN  NaN\n",
              "\n",
              "[5 rows x 11 columns]"
            ]
          },
          "metadata": {
            "tags": []
          },
          "execution_count": 8
        }
      ]
    },
    {
      "cell_type": "code",
      "metadata": {
        "colab": {
          "base_uri": "https://localhost:8080/",
          "height": 296
        },
        "id": "m66owRSohj80",
        "outputId": "010f809b-8a18-4d27-f359-fb6837dfe140"
      },
      "source": [
        "data[\"Wa3\"].plot()"
      ],
      "execution_count": 9,
      "outputs": [
        {
          "output_type": "execute_result",
          "data": {
            "text/plain": [
              "<matplotlib.axes._subplots.AxesSubplot at 0x7f1507193908>"
            ]
          },
          "metadata": {
            "tags": []
          },
          "execution_count": 9
        },
        {
          "output_type": "display_data",
          "data": {
            "image/png": "[encoded data removed]",
            "text/plain": [
              "<Figure size 432x288 with 1 Axes>"
            ]
          },
          "metadata": {
            "tags": [],
            "needs_background": "light"
          }
        }
      ]
    },
    {
      "cell_type": "markdown",
      "metadata": {
        "id": "OrP7M15gHMk-"
      },
      "source": [
        "# Staging some data for ML modeling\n"
      ]
    },
    {
      "cell_type": "markdown",
      "metadata": {
        "id": "5h5qVxedeU3E"
      },
      "source": [
        "Generating train and test data sets.\n",
        "For the sake of speed, we use use a fraction of data for evaluation of our algorithm. Later to get the final results, we use the entire data set."
      ]
    },
    {
      "cell_type": "code",
      "metadata": {
        "id": "ljW9DtTPdVy1",
        "colab": {
          "base_uri": "https://localhost:8080/",
          "height": 243
        },
        "outputId": "836184eb-5ece-4e48-c22a-4c972612f572"
      },
      "source": [
        "fig = py.figure(figsize=(10,15), dpi=100)    \n",
        "fig.subplots_adjust(wspace=0, top=0.92, bottom=0.12, left=0.06, right=0.98)\n",
        "gs = gridspec.GridSpec(7,1) ; p=0\n",
        "\n",
        "# training: 2010-2017\n",
        "subData = data.loc[:\"2019-12-31\"]\n",
        "N = len(subData)\n",
        "x = subData.index\n",
        "y = subData[\"ETo_CIMIS\"].ffill()\n",
        "z = subData[\"Wa3\"].ffill()\n",
        "v = subData[\"Wd3\"].ffill()\n",
        "w = subData[\"Wd2\"].ffill()\n",
        "tm = subData[\"ETo_CIMIS\"].ffill()\n",
        "tx = subData[\"ETo_CIMIS\"].ffill()\n",
        "\n",
        "# testing: 2013 onward\n",
        "subData_test = data.loc[\"2020\":]\n",
        "N_test = len(subData_test)\n",
        "x_test = subData_test.index\n",
        "y_test = subData_test[\"ETo_CIMIS\"].ffill()\n",
        "z_test = subData_test[\"Wa3\"].ffill()\n",
        "v_test = subData_test[\"Wd3\"].ffill()\n",
        "w_test = subData_test[\"Wd2\"].ffill()\n",
        "tm_test = subData_test[\"ETo_CIMIS\"].ffill()\n",
        "tx_test = subData_test[\"ETo_CIMIS\"].ffill()\n",
        "\n",
        "# top plot \n",
        "p = 0\n",
        "\n",
        "ax = plt.subplot(gs[p]) ; p+=1\n",
        "ax.plot(x, y, color='green', label=\"train\")\n",
        "ax.plot(x_test, y_test, color='red', label=\"test\")\n",
        "ax.legend(bbox_to_anchor=(1.01, 1))\n",
        "ax.set_ylabel(\"ETo_PM\")\n",
        "\n",
        "\n",
        "ax.set_xlabel(\"Time\")"
      ],
      "execution_count": 10,
      "outputs": [
        {
          "output_type": "execute_result",
          "data": {
            "text/plain": [
              "Text(0.5, 0, 'Time')"
            ]
          },
          "metadata": {
            "tags": []
          },
          "execution_count": 10
        },
        {
          "output_type": "display_data",
          "data": {
            "image/png": "[encoded data removed]",
            "text/plain": [
              "<Figure size 1000x1500 with 1 Axes>"
            ]
          },
          "metadata": {
            "tags": [],
            "needs_background": "light"
          }
        }
      ]
    },
    {
      "cell_type": "markdown",
      "metadata": {
        "id": "1Pj-xb-MeTaF"
      },
      "source": [
        ""
      ]
    },
    {
      "cell_type": "code",
      "metadata": {
        "id": "Sb37opfcgjKO"
      },
      "source": [
        "def metrics(y1, y2):\n",
        "  '''\n",
        "  y1 and y2 are two series of the same size\n",
        "\n",
        "  This function outputs the MAE, RMSE and R^2 \n",
        "  of the cross evaluated series.\n",
        "\n",
        "  '''\n",
        "  y1 = y1.reshape(-1)\n",
        "  y2 = y2.reshape(-1)\n",
        "  RMSE = np.sqrt(np.mean((y1-y2)**2))\n",
        "  MAE = np.mean(np.abs(y1-y2))\n",
        "  R2 = r2_score(y1, y2)\n",
        "  print('MAE: %.2f'%MAE, ' RMSE: %.2f'%RMSE, ' R^2: %.2f'%R2)\n",
        "########################################\n",
        "\n",
        "def funcMAX(func, X, y, addParam = 0, maxiter=500, method='L-BFGS-B', verbose=False):\n",
        "  \n",
        "  '''\n",
        "  A function to find the optimum parameters of the input funtion \"func\",\n",
        "  where yp = func(X) and RMSE(y-yp) is minimzed\n",
        "\n",
        "  output: \"results\" is the object that contains everything about the fit\n",
        "  result.x holds the optimized parameters\n",
        "  '''\n",
        "\n",
        "  t1 =  datetime.now()  # t1 and t2 are used for timing this process\n",
        "  ###########################################\n",
        "  n = X.shape[1]\n",
        "  # Maximum Likelihood\n",
        "  Param_init = np.random.rand(n+addParam)\n",
        "  result = minimize(func(X, y), Param_init, \n",
        "                method=method, options={\"maxiter\":maxiter})\n",
        "  print(\"--------------------\")\n",
        "  if verbose:\n",
        "    print(result)\n",
        "  ###########################################\n",
        "  if not verbose: \n",
        "    print(\"Fit Success: \", result.success)\n",
        "  t2 =  datetime.now()\n",
        "  print(\"Execution time: \", t2-t1)\n",
        "  print(\"--------------------\")\n",
        "\n",
        "  return result"
      ],
      "execution_count": 11,
      "outputs": []
    },
    {
      "cell_type": "code",
      "metadata": {
        "id": "A3cYrUmmgnK0"
      },
      "source": [
        "def dataPrepare2(y, z, v, w, n = 3, d = 1):\n",
        "  '''\n",
        "  Generating discrete data points out of the given series\n",
        "\n",
        "  y: main signal, e.g. ET0\n",
        "  z, v, w: auxiliary signals (set these to zero (e.g z=y*0) if not interested)\n",
        "  n: the number of previous data points that are used for forcasting\n",
        "  d: the number of days ahead for forecasting\n",
        "\n",
        "  output: feature matrix XS, and target values ys\n",
        "  '''\n",
        "\n",
        "  N = len(y)\n",
        "  dd = d - 1\n",
        "\n",
        "  XS = np.zeros((N-n-dd, 3*n))\n",
        "  ys = np.zeros(N-n-dd)\n",
        "\n",
        "  p = 0 \n",
        "\n",
        "  for i in range(0, N-n-dd):\n",
        "    if not np.isnan(y[i:i+n]).any() and not np.isnan(y[i+n+dd]) and not np.isnan(z[i:i+n]).any() and not np.isnan(v[i:i+n]).any() and not np.isnan(w[i:i+n]).any():\n",
        "\n",
        "      XS[p,:n]      = z[i:i+n]     \n",
        "      XS[p,n:2*n]   = v[i:i+n]\n",
        "      XS[p,2*n:3*n] = w[i:i+n]   \n",
        "      # XS[p,3*n:4*n] = u[i:i+n] \n",
        "\n",
        "      ys[p] = y[i+n+dd]\n",
        "      p+=1\n",
        "\n",
        "  return XS[:p,:], ys[:p]"
      ],
      "execution_count": 12,
      "outputs": []
    },
    {
      "cell_type": "markdown",
      "metadata": {
        "id": "yyrY-eG15ycM"
      },
      "source": [
        "# Defning the Gaussain Process using George package\n",
        "\n",
        "Defning the *kernel*:\n",
        "\n",
        "$k_{ij} = k(X_i, X_j) = \\sigma^2 exp(-r^2)$,\n",
        "where $r$ is the euclidean distance between $X_i$ and $X_j$.\n",
        "\n",
        "$X$ is the parameter vector after normalization: $X=(x_1, x_2, ....)$. \n",
        "Let's assume, we use $ET0$ and $R_n$ as features. Then for each point in the feature space: $X= (ET0/L_1, R_n/L_2)$, where $L$ is the normalization factor. Vector $L$ and $\\sigma$ are the free parameters of the kernel we are interested to find.To make use of the previous data points in the series, we can extend the number of features, i.e. $X= (ET0^{(1)}/L_1, R^{(1)}_n/L_2, ET0^{(2)}/L_3, R^{(2)}_n/L_4, ...)$. $ET0^{(1)}$ is the previous data point in the series, $ET0^{(2)}$ is the second previous data point etc. $X$ can hold as many as data point as we want. It can include a mixture of different parameters, other series, and basically anything that we think our problem depends on.\n",
        "In the following function, $L$, $\\sigma$, and $y_{err}$ are all given in the same array called $\\theta$. $y_{err}$ represents the uncertainty of the target values (the present value of $ET0$) and is taken as a free parameter that basically prevents over-training."
      ]
    },
    {
      "cell_type": "code",
      "metadata": {
        "id": "t_EA5Fa3jEme"
      },
      "source": [
        "from sklearn.model_selection import train_test_split\n",
        "\n",
        "def GPR(X, y, lnlikelihood=True):\n",
        "  '''\n",
        "  The output of this function is another function, either the lnlikelihood, or \n",
        "  the gp (the gaussian process regressor that is dfined by giving theta)\n",
        "  '''\n",
        "  n = X.shape[1]\n",
        "    \n",
        "  def step(theta):\n",
        "\n",
        "        L = np.exp(theta[:n])\n",
        "        sigma = np.exp(theta[n])   \n",
        "        yerr = np.exp(theta[n+1])\n",
        "        \n",
        "        kernel = sigma * kernels.ExpSquaredKernel(np.ones(n), ndim=n)\n",
        "\n",
        "        gp = george.GP(kernel)\n",
        "\n",
        "        if lnlikelihood:\n",
        "          gp = george.GP(kernel)\n",
        "          gp.compute(X / np.vstack([L]*X.shape[0]), yerr)\n",
        "       \n",
        "          return -gp.lnlikelihood(y)\n",
        "        else:\n",
        "          X0 = X / np.vstack([L]*X.shape[0])\n",
        "          gp.compute(X0, yerr)\n",
        "          return gp\n",
        "      \n",
        "  return step"
      ],
      "execution_count": 13,
      "outputs": []
    },
    {
      "cell_type": "markdown",
      "metadata": {
        "id": "vJiaxHSB-pyZ"
      },
      "source": [
        "# Preparing the feature matrix, X, and the target vector, y\n",
        "for the given training and cross_validation sets.\n",
        "\n",
        "In the following example for mDelay=3, 3*4 features would be generated. 3-lags, four parameters each. So $X$ is 12-dimensional"
      ]
    },
    {
      "cell_type": "code",
      "metadata": {
        "id": "144XexgH-ft3"
      },
      "source": [
        "# y: ET0 \n",
        "# z: P1 (the first principal component)\n",
        "# v: T (temperature)\n",
        "# w: VPD\n",
        "\n",
        "mDelay = 10\n",
        "nAhead = 1\n",
        "\n",
        "XS2, ys2 = dataPrepare2(y, z, v, w, n=mDelay, d=nAhead)\n",
        "XS_test2, ys_test2 = dataPrepare2(y_test, z_test, v_test, w_test, n=mDelay, d=nAhead)\n",
        "\n",
        "n_components = 3*mDelay"
      ],
      "execution_count": 14,
      "outputs": []
    },
    {
      "cell_type": "code",
      "metadata": {
        "colab": {
          "base_uri": "https://localhost:8080/"
        },
        "id": "oG2Av8a5_2PK",
        "outputId": "bbef6a12-0533-4db4-a838-5e25dd2c2405"
      },
      "source": [
        "XS2.shape, ys2.shape"
      ],
      "execution_count": 15,
      "outputs": [
        {
          "output_type": "execute_result",
          "data": {
            "text/plain": [
              "((746, 30), (746,))"
            ]
          },
          "metadata": {
            "tags": []
          },
          "execution_count": 15
        }
      ]
    },
    {
      "cell_type": "code",
      "metadata": {
        "colab": {
          "base_uri": "https://localhost:8080/"
        },
        "id": "jJYePO5QBit5",
        "outputId": "5c88cc1f-e64d-4de7-be29-babfe8139a5b"
      },
      "source": [
        "XS2"
      ],
      "execution_count": 16,
      "outputs": [
        {
          "output_type": "execute_result",
          "data": {
            "text/plain": [
              "array([[ 0.09800583,  0.09418438,  0.09065738, ...,  0.01233582,\n",
              "         0.006933  , -0.01539588],\n",
              "       [ 0.09418438,  0.09065738,  0.08758093, ...,  0.006933  ,\n",
              "        -0.01539588, -0.00880898],\n",
              "       [ 0.09065738,  0.08758093,  0.08223086, ..., -0.01539588,\n",
              "        -0.00880898,  0.02411372],\n",
              "       ...,\n",
              "       [ 0.05316872,  0.05391077,  0.05827968, ..., -0.01112964,\n",
              "        -0.01786325, -0.0105917 ],\n",
              "       [ 0.05391077,  0.05827968,  0.06205833, ..., -0.01786325,\n",
              "        -0.0105917 ,  0.01551121],\n",
              "       [ 0.05827968,  0.06205833,  0.0650524 , ..., -0.0105917 ,\n",
              "         0.01551121,  0.02412912]])"
            ]
          },
          "metadata": {
            "tags": []
          },
          "execution_count": 16
        }
      ]
    },
    {
      "cell_type": "code",
      "metadata": {
        "colab": {
          "base_uri": "https://localhost:8080/"
        },
        "id": "ZdtqbaQOACG9",
        "outputId": "5557d5c0-13ab-4b8f-ff50-e3600abcf2e7"
      },
      "source": [
        "XS2.min(), XS2.max()"
      ],
      "execution_count": 17,
      "outputs": [
        {
          "output_type": "execute_result",
          "data": {
            "text/plain": [
              "(-0.08787203858411123, 0.21106762426383738)"
            ]
          },
          "metadata": {
            "tags": []
          },
          "execution_count": 17
        }
      ]
    },
    {
      "cell_type": "code",
      "metadata": {
        "colab": {
          "base_uri": "https://localhost:8080/"
        },
        "id": "3CBxLTwMA9k7",
        "outputId": "7f48965c-5e51-492b-e0da-fdf60e8f8c5b"
      },
      "source": [
        "XS_test2.min(), XS_test2.max()"
      ],
      "execution_count": 18,
      "outputs": [
        {
          "output_type": "execute_result",
          "data": {
            "text/plain": [
              "(-0.05051085292910696, 0.20466846768761482)"
            ]
          },
          "metadata": {
            "tags": []
          },
          "execution_count": 18
        }
      ]
    },
    {
      "cell_type": "code",
      "metadata": {
        "colab": {
          "base_uri": "https://localhost:8080/"
        },
        "id": "_mWAPbOW_79R",
        "outputId": "f167067b-97a8-4057-dfa6-74c01d927002"
      },
      "source": [
        "XS_test2.shape, ys_test2.shape"
      ],
      "execution_count": 19,
      "outputs": [
        {
          "output_type": "execute_result",
          "data": {
            "text/plain": [
              "((325, 30), (325,))"
            ]
          },
          "metadata": {
            "tags": []
          },
          "execution_count": 19
        }
      ]
    },
    {
      "cell_type": "markdown",
      "metadata": {
        "id": "-tAYE5OVAYCN"
      },
      "source": [
        "# Optional dimension reduction\n",
        "\n",
        "Since the number of dimensions could be large, we can project all paraeters to a principal compnent space with lower dimensions. \n",
        "\n",
        "For instance, running the following cell, for n_components = 5, only 5 strongest components are utilized. Another advantage is that these 5 components are independent and not correlated. If the number of features is larges, using too small number components implies information leakage. "
      ]
    },
    {
      "cell_type": "markdown",
      "metadata": {
        "id": "NPD19EA9BzhT"
      },
      "source": [
        "# Finding the optimum parameters of the GP kernel\n",
        "\n",
        "Here, we basically find the optimum parameters that maximize the likelihood of the defined GP. \n",
        "\n",
        "We can find the best parameters through the execution of an MCMC to make sure that we are not capturing the local extremums. "
      ]
    },
    {
      "cell_type": "markdown",
      "metadata": {
        "id": "P4lSuv3-IONH"
      },
      "source": [
        "# PSO with PySwarm\n",
        "Optimizing the GPR hyperparameters using the Particle Swarm Optimizer\n",
        "\n",
        "https://pyswarms.readthedocs.io/en/latest/index.html"
      ]
    },
    {
      "cell_type": "code",
      "metadata": {
        "id": "kP82LojL971n",
        "colab": {
          "base_uri": "https://localhost:8080/"
        },
        "outputId": "5e263df8-66d2-4e74-bfe2-ef1453bcd732"
      },
      "source": [
        "!pip install pyswarms"
      ],
      "execution_count": 20,
      "outputs": [
        {
          "output_type": "stream",
          "text": [
            "Requirement already satisfied: pyswarms in /usr/local/lib/python3.6/dist-packages (1.2.0)\n",
            "Requirement already satisfied: attrs in /usr/local/lib/python3.6/dist-packages (from pyswarms) (20.3.0)\n",
            "Requirement already satisfied: pyyaml in /usr/local/lib/python3.6/dist-packages (from pyswarms) (3.13)\n",
            "Requirement already satisfied: future in /usr/local/lib/python3.6/dist-packages (from pyswarms) (0.16.0)\n",
            "Requirement already satisfied: scipy in /usr/local/lib/python3.6/dist-packages (from pyswarms) (1.4.1)\n",
            "Requirement already satisfied: numpy in /usr/local/lib/python3.6/dist-packages (from pyswarms) (1.18.5)\n",
            "Requirement already satisfied: tqdm in /usr/local/lib/python3.6/dist-packages (from pyswarms) (4.41.1)\n",
            "Requirement already satisfied: matplotlib>=1.3.1 in /usr/local/lib/python3.6/dist-packages (from pyswarms) (3.2.2)\n",
            "Requirement already satisfied: python-dateutil>=2.1 in /usr/local/lib/python3.6/dist-packages (from matplotlib>=1.3.1->pyswarms) (2.8.1)\n",
            "Requirement already satisfied: pyparsing!=2.0.4,!=2.1.2,!=2.1.6,>=2.0.1 in /usr/local/lib/python3.6/dist-packages (from matplotlib>=1.3.1->pyswarms) (2.4.7)\n",
            "Requirement already satisfied: kiwisolver>=1.0.1 in /usr/local/lib/python3.6/dist-packages (from matplotlib>=1.3.1->pyswarms) (1.3.1)\n",
            "Requirement already satisfied: cycler>=0.10 in /usr/local/lib/python3.6/dist-packages (from matplotlib>=1.3.1->pyswarms) (0.10.0)\n",
            "Requirement already satisfied: six>=1.5 in /usr/local/lib/python3.6/dist-packages (from python-dateutil>=2.1->matplotlib>=1.3.1->pyswarms) (1.15.0)\n"
          ],
          "name": "stdout"
        }
      ]
    },
    {
      "cell_type": "code",
      "metadata": {
        "id": "74EPH8O8-CDv"
      },
      "source": [
        "# Import modules\n",
        "import numpy as np\n",
        "from pyswarms.single.global_best import GlobalBestPSO\n",
        "# Import PySwarms\n",
        "import pyswarms as ps\n",
        "from pyswarms.utils.functions import single_obj as fx\n",
        "\n",
        "# Some more magic so that the notebook will reload external python modules;\n",
        "# see http://stackoverflow.com/questions/1907993/autoreload-of-modules-in-ipython\n",
        "%load_ext autoreload\n",
        "%autoreload 2"
      ],
      "execution_count": 21,
      "outputs": []
    },
    {
      "cell_type": "code",
      "metadata": {
        "colab": {
          "base_uri": "https://localhost:8080/"
        },
        "id": "LLGIoo3U_cHJ",
        "outputId": "0b3baf2f-f8ea-4009-c2fd-051b2823629c"
      },
      "source": [
        "XS2.shape, ys2.shape"
      ],
      "execution_count": 22,
      "outputs": [
        {
          "output_type": "execute_result",
          "data": {
            "text/plain": [
              "((746, 30), (746,))"
            ]
          },
          "metadata": {
            "tags": []
          },
          "execution_count": 22
        }
      ]
    },
    {
      "cell_type": "code",
      "metadata": {
        "colab": {
          "base_uri": "https://localhost:8080/"
        },
        "id": "iWQJNi6l_cMn",
        "outputId": "ff7cb45e-ca59-4dad-8d13-980bc5525239"
      },
      "source": [
        "XS2.min(), XS2.max()"
      ],
      "execution_count": 23,
      "outputs": [
        {
          "output_type": "execute_result",
          "data": {
            "text/plain": [
              "(-0.08787203858411123, 0.21106762426383738)"
            ]
          },
          "metadata": {
            "tags": []
          },
          "execution_count": 23
        }
      ]
    },
    {
      "cell_type": "code",
      "metadata": {
        "id": "8igaLAUk-C3u"
      },
      "source": [
        "from sklearn.model_selection import KFold\n",
        "\n",
        "kf = KFold(n_splits=3)\n",
        "kf.get_n_splits(XS2)\n",
        "\n",
        "def Xi2_swarm(x):\n",
        "  \n",
        "  nParticle = x.shape[0]\n",
        "  out = np.zeros(nParticle)\n",
        "\n",
        "  for train_index, cross_index in kf.split(XS2):\n",
        "    \n",
        "      X_train, X_cross = XS2[train_index], XS2[cross_index]\n",
        "      y_train, y_cross = ys2[train_index], ys2[cross_index]\n",
        "\n",
        "      n = X_cross.shape[1]\n",
        "      m = X_cross.shape[0]\n",
        "\n",
        "      for n_iter in range(nParticle):\n",
        "          \n",
        "          theta = x[n_iter,:]\n",
        "\n",
        "          L = np.exp(theta[:n])\n",
        "\n",
        "          gp = GPR(X_train, y_train, lnlikelihood=False)(theta)\n",
        "          gp_yp_cross, gp_yp_cross_std = gp.predict(y_train, X_cross/np.vstack([L]*m), return_var=True)\n",
        "\n",
        "          out[n_iter] += np.sum((y_cross - gp_yp_cross)**2)\n",
        "\n",
        "  return out\n"
      ],
      "execution_count": 24,
      "outputs": []
    },
    {
      "cell_type": "code",
      "metadata": {
        "id": "isYO5eFm-J9N",
        "colab": {
          "base_uri": "https://localhost:8080/"
        },
        "outputId": "f391d3f7-3f16-4877-d433-40182e2a5c98"
      },
      "source": [
        "\n",
        "# Set-up hyperparameters\n",
        "options = {'c1': 0.5, 'c2': 0.3, 'w':0.9}\n",
        "\n",
        "# Call instance of PSO\n",
        "optimizer = GlobalBestPSO(n_particles=20, dimensions=n_components+2, options=options)\n",
        "\n",
        "# Perform optimization\n",
        "cost, pos = optimizer.optimize(Xi2_swarm, iters=20)"
      ],
      "execution_count": 25,
      "outputs": [
        {
          "output_type": "stream",
          "text": [
            "2020-12-02 03:44:10,360 - pyswarms.single.global_best - INFO - Optimize for 20 iters with {'c1': 0.5, 'c2': 0.3, 'w': 0.9}\n",
            "pyswarms.single.global_best: 100%|██████████|20/20, best_cost=0.311\n",
            "2020-12-02 03:45:14,839 - pyswarms.single.global_best - INFO - Optimization finished | best cost: 0.31058217735249505, best pos: [ 1.22749711  1.31994452  0.62459855  0.63713332  0.05894471  0.99404876\n",
            "  0.72255043 -0.4913872   0.21931912  0.76377892  0.77783806 -0.5153005\n",
            "  0.24342757 -1.22556174  0.49346147 -0.342145   -0.30142175 -1.15552833\n",
            "  0.58194355 -0.33081107 -0.38459236  1.97746431  1.25664422 -0.87143438\n",
            "  0.36705182  0.61774947  0.31278288 -0.2393264   0.06032942 -1.11125387\n",
            " -0.13442849 -1.62163276]\n"
          ],
          "name": "stderr"
        }
      ]
    },
    {
      "cell_type": "code",
      "metadata": {
        "id": "yA9xjCVNUdjf",
        "colab": {
          "base_uri": "https://localhost:8080/"
        },
        "outputId": "e9ac566d-9f51-4c8b-f59d-c82986f48528"
      },
      "source": [
        "pos"
      ],
      "execution_count": 26,
      "outputs": [
        {
          "output_type": "execute_result",
          "data": {
            "text/plain": [
              "array([ 1.22749711,  1.31994452,  0.62459855,  0.63713332,  0.05894471,\n",
              "        0.99404876,  0.72255043, -0.4913872 ,  0.21931912,  0.76377892,\n",
              "        0.77783806, -0.5153005 ,  0.24342757, -1.22556174,  0.49346147,\n",
              "       -0.342145  , -0.30142175, -1.15552833,  0.58194355, -0.33081107,\n",
              "       -0.38459236,  1.97746431,  1.25664422, -0.87143438,  0.36705182,\n",
              "        0.61774947,  0.31278288, -0.2393264 ,  0.06032942, -1.11125387,\n",
              "       -0.13442849, -1.62163276])"
            ]
          },
          "metadata": {
            "tags": []
          },
          "execution_count": 26
        }
      ]
    },
    {
      "cell_type": "code",
      "metadata": {
        "id": "HN1qTOHu-OPN"
      },
      "source": [
        "truths = pos\n",
        "gp = GPR(XS2, ys2, lnlikelihood=False)(truths)\n",
        "\n",
        "\n",
        "n = XS2.shape[1]\n",
        "m_test = XS_test2.shape[0]\n",
        "m = XS2.shape[0]\n",
        "\n",
        "L = np.exp(truths[:n])\n",
        "\n",
        "\n",
        "gp_yp, gp_yp_std = gp.predict(ys2, XS2/np.vstack([L]*m), return_var=True)\n",
        "\n",
        "gp_yp_test, gp_yp_test_std = gp.predict(ys2, XS_test2/np.vstack([L]*m_test), return_var=True)"
      ],
      "execution_count": 27,
      "outputs": []
    },
    {
      "cell_type": "code",
      "metadata": {
        "id": "CSu6EUclUee7",
        "colab": {
          "base_uri": "https://localhost:8080/"
        },
        "outputId": "a93dfec6-12f9-468d-ff7e-7b9b8fb50267"
      },
      "source": [
        "print(\"Training set: \")\n",
        "metrics(ys2, gp_yp)\n",
        "print(\"----------------------\")\n",
        "print(\"Test set: \")\n",
        "metrics(ys_test2, gp_yp_test)\n"
      ],
      "execution_count": 28,
      "outputs": [
        {
          "output_type": "stream",
          "text": [
            "Training set: \n",
            "MAE: 0.01  RMSE: 0.02  R^2: 0.88\n",
            "----------------------\n",
            "Test set: \n",
            "MAE: 0.02  RMSE: 0.02  R^2: 0.82\n"
          ],
          "name": "stdout"
        }
      ]
    },
    {
      "cell_type": "code",
      "metadata": {
        "id": "yiT7hqMxUhXV",
        "colab": {
          "base_uri": "https://localhost:8080/",
          "height": 395
        },
        "outputId": "4cbfe22d-512d-48d7-b0e2-9f3adb245b7f"
      },
      "source": [
        "fig = py.figure(figsize=(15, 4), dpi=100)    \n",
        "fig.subplots_adjust(wspace=0, top=0.9, bottom=0.12, left=0.05, right=0.98)\n",
        "ax = fig.add_subplot(111)\n",
        "\n",
        "# ax.plot(gp_yp, 'r.-',  alpha=1)\n",
        "# ax.plot(ys2, 'g.-', alpha=0.8)\n",
        "\n",
        "ax.plot(gp_yp_test, 'r-',  alpha=1, label='GP prediction')\n",
        "ax.plot(ys_test2, 'g-', alpha=0.8, label='real data')\n",
        "\n",
        "## Filling \n",
        "# ax.fill_between(range(len(gp_yp_test)), gp_yp_test - 1.*np.sqrt(gp_yp_test_std), gp_yp_test + 1.*np.sqrt(gp_yp_test_std),\n",
        "#                 color=\"r\", alpha=0.2)\n",
        "\n",
        "ax.legend()\n",
        "# ax.set_xlim(0,len(gp_yp_test))\n",
        "ax.set_ylabel(\"$ET_0$\")\n",
        "ax.set_xlabel(\"Time index [day]\")\n",
        "ax.set_title(\"1 day ahead predictions (Test)\")"
      ],
      "execution_count": 29,
      "outputs": [
        {
          "output_type": "execute_result",
          "data": {
            "text/plain": [
              "Text(0.5, 1.0, '1 day ahead predictions (Test)')"
            ]
          },
          "metadata": {
            "tags": []
          },
          "execution_count": 29
        },
        {
          "output_type": "display_data",
          "data": {
            "image/png": "[encoded data removed]",
            "text/plain": [
              "<Figure size 1500x400 with 1 Axes>"
            ]
          },
          "metadata": {
            "tags": [],
            "needs_background": "light"
          }
        }
      ]
    },
    {
      "cell_type": "code",
      "metadata": {
        "id": "Jx_X36AXIJmT",
        "colab": {
          "base_uri": "https://localhost:8080/",
          "height": 312
        },
        "outputId": "3abf4114-5bc6-4bb7-e14c-a8fb89c77d25"
      },
      "source": [
        "plt.plot(ys_test2, gp_yp_test, 'r.')\n",
        "\n",
        "plt.plot([0, 8], [0, 8], 'k-')\n",
        "\n",
        "plt.xlabel(\"Observed ET0\")\n",
        "plt.ylabel(\"Predicted ET0\")\n",
        "\n",
        "plt.xlim(0,8)\n",
        "plt.ylim(0,8)\n",
        "plt.title(\"Changde\")"
      ],
      "execution_count": 30,
      "outputs": [
        {
          "output_type": "execute_result",
          "data": {
            "text/plain": [
              "Text(0.5, 1.0, 'Changde')"
            ]
          },
          "metadata": {
            "tags": []
          },
          "execution_count": 30
        },
        {
          "output_type": "display_data",
          "data": {
            "image/png": "[encoded data removed]",
            "text/plain": [
              "<Figure size 432x288 with 1 Axes>"
            ]
          },
          "metadata": {
            "tags": [],
            "needs_background": "light"
          }
        }
      ]
    },
    {
      "cell_type": "code",
      "metadata": {
        "id": "XBMBZu6rKrmr",
        "colab": {
          "base_uri": "https://localhost:8080/"
        },
        "outputId": "fc6e3bf6-c8e8-4708-f760-2f52c4299a5a"
      },
      "source": [
        "N = len(ys_test2)\n",
        "metrics(ys_test2[:N-1], ys_test2[1:])"
      ],
      "execution_count": 31,
      "outputs": [
        {
          "output_type": "stream",
          "text": [
            "MAE: 0.04  RMSE: 0.05  R^2: 0.26\n"
          ],
          "name": "stdout"
        }
      ]
    },
    {
      "cell_type": "code",
      "metadata": {
        "id": "cPKH2nrCRwDS"
      },
      "source": [
        ""
      ],
      "execution_count": 31,
      "outputs": []
    }
  ]
}