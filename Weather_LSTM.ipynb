{
  "nbformat": 4,
  "nbformat_minor": 0,
  "metadata": {
    "colab": {
      "name": "Weather_LSTM",
      "provenance": [],
      "mount_file_id": "17kB0Wew3WaoEIW61_NXAFnUl760VXMXX",
      "authorship_tag": "ABX9TyMlRjggugCpTlxRDO9+FA9W",
      "include_colab_link": true
    },
    "kernelspec": {
      "name": "python3",
      "display_name": "Python 3"
    }
  },
  "cells": [
    {
      "cell_type": "markdown",
      "metadata": {
        "id": "view-in-github",
        "colab_type": "text"
      },
      "source": [
        "<a href=\"https://colab.research.google.com/github/ekourkchi/Weather_research/blob/master/Weather_LSTM.ipynb\" target=\"_parent\"><img src=\"https://colab.research.google.com/assets/colab-badge.svg\" alt=\"Open In Colab\"/></a>"
      ]
    },
    {
      "cell_type": "code",
      "metadata": {
        "id": "ujjP1ZtVKFtZ",
        "colab_type": "code",
        "colab": {
          "base_uri": "https://localhost:8080/",
          "height": 450
        },
        "outputId": "d9377653-f2ec-43ed-f2df-00b806f7e601"
      },
      "source": [
        "import numpy\n",
        "import matplotlib.pyplot as plt\n",
        "import pandas\n",
        "import math\n",
        "from keras.models import Sequential\n",
        "from keras.layers import Dense\n",
        "from keras.layers import LSTM, GRU, SimpleRNN, Dropout\n",
        "from sklearn.preprocessing import MinMaxScaler\n",
        "from sklearn.metrics import mean_squared_error\n",
        "import pandas as pd\n",
        "\n",
        "data = pd.read_excel('/content/drive/My Drive/50136-Mohe.xlsx')\n",
        "\n",
        "for col in data.columns:\n",
        "  newcol = col.split(\"(\")[0]\n",
        "  data.rename(columns={col:newcol}, inplace=True)\n",
        "\n",
        "data.set_index(\"TIMESTAMP\", inplace=True)\n",
        "\n",
        "data = data.resample('1d').mean()\n",
        "data[\"MA\"] = data[\"ET0\"].rolling('7d').mean()\n",
        "\n",
        "data = data.interpolate(method='linear', limit_direction='forward', axis=0)\n",
        "\n",
        "data[\"ET1\"] = data.shift(+1, freq='d')[\"ET0\"]\n",
        "data[\"delta\"] = data[\"ET0\"] - data[\"ET1\"]\n",
        "\n",
        "data[\"ET0\"] = data[\"ET0\"].ffill()\n",
        "data = data.dropna()\n",
        "\n",
        "\n",
        "\n",
        "\n",
        "# dataframe = pandas.read_csv('https://raw.githubusercontent.com/jbrownlee/Datasets/master/airline-passengers.csv', usecols=[1], engine='python')\n",
        "\n",
        "\n",
        "dataframe = data.reset_index()[[\"ET0\"]]\n",
        "print(dataframe.head(10))\n",
        "\n",
        "plt.plot(dataframe)\n",
        "plt.show()"
      ],
      "execution_count": 1,
      "outputs": [
        {
          "output_type": "stream",
          "text": [
            "        ET0\n",
            "0  1.267761\n",
            "1  1.276866\n",
            "2  0.480895\n",
            "3  1.288056\n",
            "4  1.267654\n",
            "5  0.522783\n",
            "6  1.226870\n",
            "7  1.359143\n",
            "8  0.823787\n",
            "9  0.896871\n"
          ],
          "name": "stdout"
        },
        {
          "output_type": "display_data",
          "data": {
            "image/png": "[encoded data removed]",
            "text/plain": [
              "<Figure size 432x288 with 1 Axes>"
            ]
          },
          "metadata": {
            "tags": [],
            "needs_background": "light"
          }
        }
      ]
    },
    {
      "cell_type": "code",
      "metadata": {
        "id": "LKsfFPCJKGHq",
        "colab_type": "code",
        "colab": {}
      },
      "source": [
        "dataframe.head()\n",
        "dataset = dataframe.values\n",
        "dataset = dataset.astype('float32')"
      ],
      "execution_count": 44,
      "outputs": []
    },
    {
      "cell_type": "code",
      "metadata": {
        "id": "Xymv0j1uKPZv",
        "colab_type": "code",
        "colab": {}
      },
      "source": [
        "# scaler = MinMaxScaler(feature_range=(0, 1))\n",
        "# dataset = scaler.fit_transform(dataset)"
      ],
      "execution_count": 45,
      "outputs": []
    },
    {
      "cell_type": "code",
      "metadata": {
        "id": "ScqTagvBKsn7",
        "colab_type": "code",
        "colab": {
          "base_uri": "https://localhost:8080/",
          "height": 34
        },
        "outputId": "58f89546-9efb-45a5-eb71-1ad2aed84921"
      },
      "source": [
        "# split into train and test sets\n",
        "train_size = int(len(dataset) * 0.90)\n",
        "test_size = len(dataset) - train_size\n",
        "train, test = dataset[0:train_size,:], dataset[train_size:len(dataset),:]\n",
        "print(len(train), len(test))"
      ],
      "execution_count": 46,
      "outputs": [
        {
          "output_type": "stream",
          "text": [
            "9860 1096\n"
          ],
          "name": "stdout"
        }
      ]
    },
    {
      "cell_type": "code",
      "metadata": {
        "id": "7zShmwlMK1ta",
        "colab_type": "code",
        "colab": {}
      },
      "source": [
        "# convert an array of values into a dataset matrix\n",
        "def create_dataset(dataset, look_back=1):\n",
        "\tdataX, dataY = [], []\n",
        "\tfor i in range(len(dataset)-look_back-1):\n",
        "\t\ta = dataset[i:(i+look_back), 0]\n",
        "\t\tb = dataset[i+1:(i+look_back+1), 0]\n",
        "\t\tdataX.append(a)\n",
        "\t\tdataY.append(b)\n",
        "\treturn numpy.array(dataX), numpy.array(dataY)"
      ],
      "execution_count": 194,
      "outputs": []
    },
    {
      "cell_type": "code",
      "metadata": {
        "id": "Pg3JcAOZK5Ly",
        "colab_type": "code",
        "colab": {}
      },
      "source": [
        "# reshape into X=t and Y=t+1\n",
        "look_back = 1\n",
        "trainX, trainY = create_dataset(train, look_back)\n",
        "testX, testY = create_dataset(test, look_back)"
      ],
      "execution_count": 195,
      "outputs": []
    },
    {
      "cell_type": "code",
      "metadata": {
        "id": "CEBOJMrTWf1S",
        "colab_type": "code",
        "colab": {}
      },
      "source": [
        ""
      ],
      "execution_count": 195,
      "outputs": []
    },
    {
      "cell_type": "code",
      "metadata": {
        "id": "H4NWA_PZK8nq",
        "colab_type": "code",
        "colab": {}
      },
      "source": [
        "# reshape input to be [samples, time steps, features]\n",
        "trainX = numpy.reshape(trainX, (trainX.shape[0], 1, trainX.shape[1]))\n",
        "testX = numpy.reshape(testX, (testX.shape[0], 1, testX.shape[1]))\n",
        "\n",
        "trainY = numpy.reshape(trainY, (trainY.shape[0], trainY.shape[1]))\n",
        "testY = numpy.reshape(testY, (testY.shape[0], testY.shape[1]))"
      ],
      "execution_count": 196,
      "outputs": []
    },
    {
      "cell_type": "code",
      "metadata": {
        "id": "CItHgyCkjD14",
        "colab_type": "code",
        "colab": {
          "base_uri": "https://localhost:8080/",
          "height": 101
        },
        "outputId": "3186a249-fd70-47e6-c99d-9c835a17a4b9"
      },
      "source": [
        "trainX[:2,:,:]"
      ],
      "execution_count": 197,
      "outputs": [
        {
          "output_type": "execute_result",
          "data": {
            "text/plain": [
              "array([[[1.2677612 , 1.276866  , 0.48089507, 1.2880563 , 1.2676541 ,\n",
              "         0.52278346, 1.2268697 , 1.3591427 ]],\n",
              "\n",
              "       [[1.276866  , 0.48089507, 1.2880563 , 1.2676541 , 0.52278346,\n",
              "         1.2268697 , 1.3591427 , 0.8237866 ]]], dtype=float32)"
            ]
          },
          "metadata": {
            "tags": []
          },
          "execution_count": 197
        }
      ]
    },
    {
      "cell_type": "code",
      "metadata": {
        "id": "b5Dk5w65jNCk",
        "colab_type": "code",
        "colab": {
          "base_uri": "https://localhost:8080/",
          "height": 84
        },
        "outputId": "1080e1f8-baa4-425a-fc6c-34e0b6275203"
      },
      "source": [
        "trainY[:2,:]"
      ],
      "execution_count": 198,
      "outputs": [
        {
          "output_type": "execute_result",
          "data": {
            "text/plain": [
              "array([[1.276866  , 0.48089507, 1.2880563 , 1.2676541 , 0.52278346,\n",
              "        1.2268697 , 1.3591427 , 0.8237866 ],\n",
              "       [0.48089507, 1.2880563 , 1.2676541 , 0.52278346, 1.2268697 ,\n",
              "        1.3591427 , 0.8237866 , 0.89687145]], dtype=float32)"
            ]
          },
          "metadata": {
            "tags": []
          },
          "execution_count": 198
        }
      ]
    },
    {
      "cell_type": "code",
      "metadata": {
        "id": "QwQi6iCOmIuQ",
        "colab_type": "code",
        "colab": {
          "base_uri": "https://localhost:8080/",
          "height": 34
        },
        "outputId": "65f6efcc-432f-467b-8cd1-985ab7ec2622"
      },
      "source": [
        "trainY.shape"
      ],
      "execution_count": 199,
      "outputs": [
        {
          "output_type": "execute_result",
          "data": {
            "text/plain": [
              "(9851, 8)"
            ]
          },
          "metadata": {
            "tags": []
          },
          "execution_count": 199
        }
      ]
    },
    {
      "cell_type": "code",
      "metadata": {
        "id": "IasuT1r5fYwz",
        "colab_type": "code",
        "colab": {
          "base_uri": "https://localhost:8080/",
          "height": 1000
        },
        "outputId": "d3727db2-dab1-4374-fd88-64838fa5a11e"
      },
      "source": [
        "from keras.models import Model\n",
        "from keras.layers import Input, LSTM, Dense\n",
        "import tensorflow as tf\n",
        "import keras.backend as K\n",
        "\n",
        "def custom_loss(y_true, y_pred):\n",
        "\n",
        "    # calculate loss, using y_pred\n",
        "    # alfa = y_true[:,:7]/y_pred[:,:7]\n",
        "    # alfa = K.mean(alfa, axis=1)\n",
        "    # loss = K.mean((y_true[:,7] - alfa * y_pred[:,7])**2)\n",
        "\n",
        "    loss = K.mean((y_true - y_pred)**2, axis=1)\n",
        "       \n",
        "    return  K.sqrt(K.mean(loss))\n",
        "\n",
        "\n",
        "\n",
        "# Define an input sequence and process it.\n",
        "encoder_inputs = Input(shape=(None, 8))\n",
        "encoder1 = LSTM(8, return_state=True, activation='linear', go_backwards=False)\n",
        "# encoder2 = LSTM(8, return_state=True)\n",
        "\n",
        "encoder_outputs1, state_h1, state_c1 = encoder1(encoder_inputs)\n",
        "# encoder_outputs2, state_h2, state_c2 = encoder2(encoder_outputs1)\n",
        "\n",
        "model = Model(encoder_inputs, encoder_outputs1, name='test')\n",
        "# tf.keras.losses.CosineSimilarity()\n",
        "model.compile(loss=custom_loss, optimizer='adam', metrics=[custom_loss])\n",
        "model.fit(trainX, trainY, epochs=150, batch_size=100,  \n",
        "                                  validation_data=(testX, testY), verbose=2)\n"
      ],
      "execution_count": 277,
      "outputs": [
        {
          "output_type": "stream",
          "text": [
            "Epoch 1/150\n",
            "99/99 - 0s - loss: 3.4171 - custom_loss: 3.4141 - val_loss: 2.5635 - val_custom_loss: 2.5489\n",
            "Epoch 2/150\n",
            "99/99 - 0s - loss: 2.5046 - custom_loss: 2.5022 - val_loss: 2.0348 - val_custom_loss: 2.0234\n",
            "Epoch 3/150\n",
            "99/99 - 0s - loss: 1.8771 - custom_loss: 1.8764 - val_loss: 1.6046 - val_custom_loss: 1.5957\n",
            "Epoch 4/150\n",
            "99/99 - 0s - loss: 1.7530 - custom_loss: 1.7529 - val_loss: 1.5478 - val_custom_loss: 1.5390\n",
            "Epoch 5/150\n",
            "99/99 - 0s - loss: 1.1800 - custom_loss: 1.1788 - val_loss: 0.7699 - val_custom_loss: 0.7655\n",
            "Epoch 6/150\n",
            "99/99 - 0s - loss: 0.7861 - custom_loss: 0.7849 - val_loss: 0.6182 - val_custom_loss: 0.6150\n",
            "Epoch 7/150\n",
            "99/99 - 0s - loss: 0.6392 - custom_loss: 0.6386 - val_loss: 0.5244 - val_custom_loss: 0.5215\n",
            "Epoch 8/150\n",
            "99/99 - 0s - loss: 0.5596 - custom_loss: 0.5595 - val_loss: 0.4692 - val_custom_loss: 0.4665\n",
            "Epoch 9/150\n",
            "99/99 - 0s - loss: 0.5123 - custom_loss: 0.5121 - val_loss: 0.4370 - val_custom_loss: 0.4345\n",
            "Epoch 10/150\n",
            "99/99 - 0s - loss: 0.4849 - custom_loss: 0.4847 - val_loss: 0.4213 - val_custom_loss: 0.4189\n",
            "Epoch 11/150\n",
            "99/99 - 0s - loss: 0.4685 - custom_loss: 0.4683 - val_loss: 0.4072 - val_custom_loss: 0.4048\n",
            "Epoch 12/150\n",
            "99/99 - 0s - loss: 0.4577 - custom_loss: 0.4579 - val_loss: 0.4001 - val_custom_loss: 0.3978\n",
            "Epoch 13/150\n",
            "99/99 - 0s - loss: 0.4501 - custom_loss: 0.4499 - val_loss: 0.3940 - val_custom_loss: 0.3917\n",
            "Epoch 14/150\n",
            "99/99 - 0s - loss: 0.4442 - custom_loss: 0.4444 - val_loss: 0.3895 - val_custom_loss: 0.3872\n",
            "Epoch 15/150\n",
            "99/99 - 0s - loss: 0.4399 - custom_loss: 0.4401 - val_loss: 0.3903 - val_custom_loss: 0.3881\n",
            "Epoch 16/150\n",
            "99/99 - 0s - loss: 0.4368 - custom_loss: 0.4369 - val_loss: 0.3837 - val_custom_loss: 0.3814\n",
            "Epoch 17/150\n",
            "99/99 - 0s - loss: 0.4338 - custom_loss: 0.4337 - val_loss: 0.3817 - val_custom_loss: 0.3794\n",
            "Epoch 18/150\n",
            "99/99 - 0s - loss: 0.4314 - custom_loss: 0.4314 - val_loss: 0.3796 - val_custom_loss: 0.3773\n",
            "Epoch 19/150\n",
            "99/99 - 0s - loss: 0.4292 - custom_loss: 0.4290 - val_loss: 0.3793 - val_custom_loss: 0.3771\n",
            "Epoch 20/150\n",
            "99/99 - 0s - loss: 0.4275 - custom_loss: 0.4273 - val_loss: 0.3765 - val_custom_loss: 0.3742\n",
            "Epoch 21/150\n",
            "99/99 - 0s - loss: 0.4265 - custom_loss: 0.4265 - val_loss: 0.3760 - val_custom_loss: 0.3737\n",
            "Epoch 22/150\n",
            "99/99 - 0s - loss: 0.4249 - custom_loss: 0.4249 - val_loss: 0.3740 - val_custom_loss: 0.3717\n",
            "Epoch 23/150\n",
            "99/99 - 0s - loss: 0.4236 - custom_loss: 0.4237 - val_loss: 0.3729 - val_custom_loss: 0.3706\n",
            "Epoch 24/150\n",
            "99/99 - 0s - loss: 0.4227 - custom_loss: 0.4230 - val_loss: 0.3724 - val_custom_loss: 0.3701\n",
            "Epoch 25/150\n",
            "99/99 - 0s - loss: 0.4221 - custom_loss: 0.4223 - val_loss: 0.3722 - val_custom_loss: 0.3699\n",
            "Epoch 26/150\n",
            "99/99 - 0s - loss: 0.4205 - custom_loss: 0.4204 - val_loss: 0.3713 - val_custom_loss: 0.3691\n",
            "Epoch 27/150\n",
            "99/99 - 0s - loss: 0.4200 - custom_loss: 0.4205 - val_loss: 0.3695 - val_custom_loss: 0.3672\n",
            "Epoch 28/150\n",
            "99/99 - 0s - loss: 0.4195 - custom_loss: 0.4190 - val_loss: 0.3694 - val_custom_loss: 0.3671\n",
            "Epoch 29/150\n",
            "99/99 - 0s - loss: 0.4186 - custom_loss: 0.4187 - val_loss: 0.3681 - val_custom_loss: 0.3658\n",
            "Epoch 30/150\n",
            "99/99 - 0s - loss: 0.4183 - custom_loss: 0.4181 - val_loss: 0.3677 - val_custom_loss: 0.3654\n",
            "Epoch 31/150\n",
            "99/99 - 0s - loss: 0.4175 - custom_loss: 0.4175 - val_loss: 0.3669 - val_custom_loss: 0.3645\n",
            "Epoch 32/150\n",
            "99/99 - 0s - loss: 0.4167 - custom_loss: 0.4171 - val_loss: 0.3663 - val_custom_loss: 0.3639\n",
            "Epoch 33/150\n",
            "99/99 - 0s - loss: 0.4162 - custom_loss: 0.4164 - val_loss: 0.3665 - val_custom_loss: 0.3642\n",
            "Epoch 34/150\n",
            "99/99 - 0s - loss: 0.4157 - custom_loss: 0.4157 - val_loss: 0.3651 - val_custom_loss: 0.3628\n",
            "Epoch 35/150\n",
            "99/99 - 0s - loss: 0.4152 - custom_loss: 0.4155 - val_loss: 0.3647 - val_custom_loss: 0.3624\n",
            "Epoch 36/150\n",
            "99/99 - 0s - loss: 0.4145 - custom_loss: 0.4146 - val_loss: 0.3643 - val_custom_loss: 0.3620\n",
            "Epoch 37/150\n",
            "99/99 - 0s - loss: 0.4145 - custom_loss: 0.4143 - val_loss: 0.3637 - val_custom_loss: 0.3614\n",
            "Epoch 38/150\n",
            "99/99 - 0s - loss: 0.4139 - custom_loss: 0.4139 - val_loss: 0.3631 - val_custom_loss: 0.3608\n",
            "Epoch 39/150\n",
            "99/99 - 0s - loss: 0.4131 - custom_loss: 0.4137 - val_loss: 0.3627 - val_custom_loss: 0.3603\n",
            "Epoch 40/150\n",
            "99/99 - 0s - loss: 0.4129 - custom_loss: 0.4127 - val_loss: 0.3623 - val_custom_loss: 0.3600\n",
            "Epoch 41/150\n",
            "99/99 - 0s - loss: 0.4130 - custom_loss: 0.4132 - val_loss: 0.3635 - val_custom_loss: 0.3613\n",
            "Epoch 42/150\n",
            "99/99 - 0s - loss: 0.4124 - custom_loss: 0.4121 - val_loss: 0.3627 - val_custom_loss: 0.3604\n",
            "Epoch 43/150\n",
            "99/99 - 0s - loss: 0.4123 - custom_loss: 0.4125 - val_loss: 0.3629 - val_custom_loss: 0.3606\n",
            "Epoch 44/150\n",
            "99/99 - 0s - loss: 0.4123 - custom_loss: 0.4124 - val_loss: 0.3613 - val_custom_loss: 0.3589\n",
            "Epoch 45/150\n",
            "99/99 - 0s - loss: 0.4117 - custom_loss: 0.4121 - val_loss: 0.3614 - val_custom_loss: 0.3591\n",
            "Epoch 46/150\n",
            "99/99 - 0s - loss: 0.4119 - custom_loss: 0.4115 - val_loss: 0.3627 - val_custom_loss: 0.3605\n",
            "Epoch 47/150\n",
            "99/99 - 0s - loss: 0.4117 - custom_loss: 0.4117 - val_loss: 0.3610 - val_custom_loss: 0.3587\n",
            "Epoch 48/150\n",
            "99/99 - 0s - loss: 0.4116 - custom_loss: 0.4114 - val_loss: 0.3608 - val_custom_loss: 0.3585\n",
            "Epoch 49/150\n",
            "99/99 - 0s - loss: 0.4115 - custom_loss: 0.4110 - val_loss: 0.3618 - val_custom_loss: 0.3596\n",
            "Epoch 50/150\n",
            "99/99 - 0s - loss: 0.4112 - custom_loss: 0.4116 - val_loss: 0.3604 - val_custom_loss: 0.3581\n",
            "Epoch 51/150\n",
            "99/99 - 0s - loss: 0.4112 - custom_loss: 0.4112 - val_loss: 0.3608 - val_custom_loss: 0.3585\n",
            "Epoch 52/150\n",
            "99/99 - 0s - loss: 0.4106 - custom_loss: 0.4109 - val_loss: 0.3608 - val_custom_loss: 0.3586\n",
            "Epoch 53/150\n",
            "99/99 - 0s - loss: 0.4105 - custom_loss: 0.4107 - val_loss: 0.3608 - val_custom_loss: 0.3586\n",
            "Epoch 54/150\n",
            "99/99 - 0s - loss: 0.4106 - custom_loss: 0.4106 - val_loss: 0.3601 - val_custom_loss: 0.3578\n",
            "Epoch 55/150\n",
            "99/99 - 0s - loss: 0.4104 - custom_loss: 0.4101 - val_loss: 0.3619 - val_custom_loss: 0.3597\n",
            "Epoch 56/150\n",
            "99/99 - 0s - loss: 0.4108 - custom_loss: 0.4105 - val_loss: 0.3600 - val_custom_loss: 0.3577\n",
            "Epoch 57/150\n",
            "99/99 - 0s - loss: 0.4105 - custom_loss: 0.4101 - val_loss: 0.3596 - val_custom_loss: 0.3572\n",
            "Epoch 58/150\n",
            "99/99 - 0s - loss: 0.4105 - custom_loss: 0.4103 - val_loss: 0.3606 - val_custom_loss: 0.3584\n",
            "Epoch 59/150\n",
            "99/99 - 0s - loss: 0.4106 - custom_loss: 0.4106 - val_loss: 0.3616 - val_custom_loss: 0.3594\n",
            "Epoch 60/150\n",
            "99/99 - 0s - loss: 0.4105 - custom_loss: 0.4103 - val_loss: 0.3594 - val_custom_loss: 0.3571\n",
            "Epoch 61/150\n",
            "99/99 - 0s - loss: 0.4105 - custom_loss: 0.4103 - val_loss: 0.3598 - val_custom_loss: 0.3575\n",
            "Epoch 62/150\n",
            "99/99 - 0s - loss: 0.4103 - custom_loss: 0.4105 - val_loss: 0.3590 - val_custom_loss: 0.3567\n",
            "Epoch 63/150\n",
            "99/99 - 0s - loss: 0.4099 - custom_loss: 0.4101 - val_loss: 0.3599 - val_custom_loss: 0.3576\n",
            "Epoch 64/150\n",
            "99/99 - 0s - loss: 0.4102 - custom_loss: 0.4098 - val_loss: 0.3593 - val_custom_loss: 0.3570\n",
            "Epoch 65/150\n",
            "99/99 - 0s - loss: 0.4106 - custom_loss: 0.4105 - val_loss: 0.3589 - val_custom_loss: 0.3566\n",
            "Epoch 66/150\n",
            "99/99 - 0s - loss: 0.4101 - custom_loss: 0.4098 - val_loss: 0.3588 - val_custom_loss: 0.3565\n",
            "Epoch 67/150\n",
            "99/99 - 0s - loss: 0.4095 - custom_loss: 0.4100 - val_loss: 0.3596 - val_custom_loss: 0.3574\n",
            "Epoch 68/150\n",
            "99/99 - 0s - loss: 0.4097 - custom_loss: 0.4095 - val_loss: 0.3586 - val_custom_loss: 0.3563\n",
            "Epoch 69/150\n",
            "99/99 - 0s - loss: 0.4097 - custom_loss: 0.4092 - val_loss: 0.3593 - val_custom_loss: 0.3571\n",
            "Epoch 70/150\n",
            "99/99 - 0s - loss: 0.4097 - custom_loss: 0.4094 - val_loss: 0.3591 - val_custom_loss: 0.3569\n",
            "Epoch 71/150\n",
            "99/99 - 0s - loss: 0.4097 - custom_loss: 0.4100 - val_loss: 0.3593 - val_custom_loss: 0.3570\n",
            "Epoch 72/150\n",
            "99/99 - 0s - loss: 0.4095 - custom_loss: 0.4094 - val_loss: 0.3588 - val_custom_loss: 0.3566\n",
            "Epoch 73/150\n",
            "99/99 - 0s - loss: 0.4094 - custom_loss: 0.4094 - val_loss: 0.3601 - val_custom_loss: 0.3579\n",
            "Epoch 74/150\n",
            "99/99 - 0s - loss: 0.4092 - custom_loss: 0.4091 - val_loss: 0.3592 - val_custom_loss: 0.3570\n",
            "Epoch 75/150\n",
            "99/99 - 0s - loss: 0.4095 - custom_loss: 0.4098 - val_loss: 0.3586 - val_custom_loss: 0.3563\n",
            "Epoch 76/150\n",
            "99/99 - 0s - loss: 0.4097 - custom_loss: 0.4094 - val_loss: 0.3583 - val_custom_loss: 0.3560\n",
            "Epoch 77/150\n",
            "99/99 - 0s - loss: 0.4091 - custom_loss: 0.4089 - val_loss: 0.3589 - val_custom_loss: 0.3566\n",
            "Epoch 78/150\n",
            "99/99 - 0s - loss: 0.4094 - custom_loss: 0.4092 - val_loss: 0.3582 - val_custom_loss: 0.3559\n",
            "Epoch 79/150\n",
            "99/99 - 0s - loss: 0.4094 - custom_loss: 0.4093 - val_loss: 0.3584 - val_custom_loss: 0.3562\n",
            "Epoch 80/150\n",
            "99/99 - 0s - loss: 0.4089 - custom_loss: 0.4090 - val_loss: 0.3583 - val_custom_loss: 0.3560\n",
            "Epoch 81/150\n",
            "99/99 - 0s - loss: 0.4091 - custom_loss: 0.4092 - val_loss: 0.3580 - val_custom_loss: 0.3557\n",
            "Epoch 82/150\n",
            "99/99 - 0s - loss: 0.4095 - custom_loss: 0.4094 - val_loss: 0.3586 - val_custom_loss: 0.3563\n",
            "Epoch 83/150\n",
            "99/99 - 0s - loss: 0.4093 - custom_loss: 0.4094 - val_loss: 0.3591 - val_custom_loss: 0.3569\n",
            "Epoch 84/150\n",
            "99/99 - 0s - loss: 0.4091 - custom_loss: 0.4085 - val_loss: 0.3579 - val_custom_loss: 0.3556\n",
            "Epoch 85/150\n",
            "99/99 - 0s - loss: 0.4089 - custom_loss: 0.4089 - val_loss: 0.3592 - val_custom_loss: 0.3569\n",
            "Epoch 86/150\n",
            "99/99 - 0s - loss: 0.4087 - custom_loss: 0.4086 - val_loss: 0.3581 - val_custom_loss: 0.3557\n",
            "Epoch 87/150\n",
            "99/99 - 0s - loss: 0.4089 - custom_loss: 0.4089 - val_loss: 0.3586 - val_custom_loss: 0.3563\n",
            "Epoch 88/150\n",
            "99/99 - 0s - loss: 0.4084 - custom_loss: 0.4080 - val_loss: 0.3580 - val_custom_loss: 0.3557\n",
            "Epoch 89/150\n",
            "99/99 - 0s - loss: 0.4090 - custom_loss: 0.4084 - val_loss: 0.3606 - val_custom_loss: 0.3584\n",
            "Epoch 90/150\n",
            "99/99 - 0s - loss: 0.4091 - custom_loss: 0.4088 - val_loss: 0.3591 - val_custom_loss: 0.3568\n",
            "Epoch 91/150\n",
            "99/99 - 0s - loss: 0.4084 - custom_loss: 0.4084 - val_loss: 0.3589 - val_custom_loss: 0.3567\n",
            "Epoch 92/150\n",
            "99/99 - 0s - loss: 0.4085 - custom_loss: 0.4085 - val_loss: 0.3577 - val_custom_loss: 0.3554\n",
            "Epoch 93/150\n",
            "99/99 - 0s - loss: 0.4088 - custom_loss: 0.4092 - val_loss: 0.3598 - val_custom_loss: 0.3576\n",
            "Epoch 94/150\n",
            "99/99 - 0s - loss: 0.4086 - custom_loss: 0.4083 - val_loss: 0.3598 - val_custom_loss: 0.3576\n",
            "Epoch 95/150\n",
            "99/99 - 0s - loss: 0.4085 - custom_loss: 0.4083 - val_loss: 0.3580 - val_custom_loss: 0.3557\n",
            "Epoch 96/150\n",
            "99/99 - 0s - loss: 0.4088 - custom_loss: 0.4085 - val_loss: 0.3577 - val_custom_loss: 0.3554\n",
            "Epoch 97/150\n",
            "99/99 - 0s - loss: 0.4087 - custom_loss: 0.4091 - val_loss: 0.3590 - val_custom_loss: 0.3568\n",
            "Epoch 98/150\n",
            "99/99 - 0s - loss: 0.4089 - custom_loss: 0.4087 - val_loss: 0.3584 - val_custom_loss: 0.3562\n",
            "Epoch 99/150\n",
            "99/99 - 0s - loss: 0.4088 - custom_loss: 0.4089 - val_loss: 0.3584 - val_custom_loss: 0.3561\n",
            "Epoch 100/150\n",
            "99/99 - 0s - loss: 0.4089 - custom_loss: 0.4093 - val_loss: 0.3577 - val_custom_loss: 0.3555\n",
            "Epoch 101/150\n",
            "99/99 - 0s - loss: 0.4087 - custom_loss: 0.4089 - val_loss: 0.3589 - val_custom_loss: 0.3567\n",
            "Epoch 102/150\n",
            "99/99 - 0s - loss: 0.4086 - custom_loss: 0.4080 - val_loss: 0.3584 - val_custom_loss: 0.3561\n",
            "Epoch 103/150\n",
            "99/99 - 0s - loss: 0.4086 - custom_loss: 0.4090 - val_loss: 0.3579 - val_custom_loss: 0.3555\n",
            "Epoch 104/150\n",
            "99/99 - 0s - loss: 0.4090 - custom_loss: 0.4090 - val_loss: 0.3580 - val_custom_loss: 0.3557\n",
            "Epoch 105/150\n",
            "99/99 - 0s - loss: 0.4085 - custom_loss: 0.4083 - val_loss: 0.3576 - val_custom_loss: 0.3554\n",
            "Epoch 106/150\n",
            "99/99 - 0s - loss: 0.4083 - custom_loss: 0.4085 - val_loss: 0.3573 - val_custom_loss: 0.3550\n",
            "Epoch 107/150\n",
            "99/99 - 0s - loss: 0.4087 - custom_loss: 0.4088 - val_loss: 0.3573 - val_custom_loss: 0.3550\n",
            "Epoch 108/150\n",
            "99/99 - 0s - loss: 0.4084 - custom_loss: 0.4085 - val_loss: 0.3577 - val_custom_loss: 0.3554\n",
            "Epoch 109/150\n",
            "99/99 - 0s - loss: 0.4078 - custom_loss: 0.4078 - val_loss: 0.3576 - val_custom_loss: 0.3553\n",
            "Epoch 110/150\n",
            "99/99 - 0s - loss: 0.4086 - custom_loss: 0.4084 - val_loss: 0.3575 - val_custom_loss: 0.3552\n",
            "Epoch 111/150\n",
            "99/99 - 0s - loss: 0.4080 - custom_loss: 0.4081 - val_loss: 0.3573 - val_custom_loss: 0.3550\n",
            "Epoch 112/150\n",
            "99/99 - 0s - loss: 0.4085 - custom_loss: 0.4086 - val_loss: 0.3575 - val_custom_loss: 0.3552\n",
            "Epoch 113/150\n",
            "99/99 - 0s - loss: 0.4083 - custom_loss: 0.4087 - val_loss: 0.3596 - val_custom_loss: 0.3573\n",
            "Epoch 114/150\n",
            "99/99 - 0s - loss: 0.4084 - custom_loss: 0.4088 - val_loss: 0.3572 - val_custom_loss: 0.3549\n",
            "Epoch 115/150\n",
            "99/99 - 0s - loss: 0.4086 - custom_loss: 0.4086 - val_loss: 0.3572 - val_custom_loss: 0.3548\n",
            "Epoch 116/150\n",
            "99/99 - 0s - loss: 0.4084 - custom_loss: 0.4086 - val_loss: 0.3573 - val_custom_loss: 0.3551\n",
            "Epoch 117/150\n",
            "99/99 - 0s - loss: 0.4085 - custom_loss: 0.4080 - val_loss: 0.3574 - val_custom_loss: 0.3551\n",
            "Epoch 118/150\n",
            "99/99 - 0s - loss: 0.4087 - custom_loss: 0.4085 - val_loss: 0.3583 - val_custom_loss: 0.3561\n",
            "Epoch 119/150\n",
            "99/99 - 0s - loss: 0.4081 - custom_loss: 0.4081 - val_loss: 0.3625 - val_custom_loss: 0.3603\n",
            "Epoch 120/150\n",
            "99/99 - 0s - loss: 0.4086 - custom_loss: 0.4087 - val_loss: 0.3583 - val_custom_loss: 0.3561\n",
            "Epoch 121/150\n",
            "99/99 - 0s - loss: 0.4085 - custom_loss: 0.4090 - val_loss: 0.3587 - val_custom_loss: 0.3565\n",
            "Epoch 122/150\n",
            "99/99 - 0s - loss: 0.4083 - custom_loss: 0.4085 - val_loss: 0.3571 - val_custom_loss: 0.3548\n",
            "Epoch 123/150\n",
            "99/99 - 0s - loss: 0.4085 - custom_loss: 0.4086 - val_loss: 0.3581 - val_custom_loss: 0.3559\n",
            "Epoch 124/150\n",
            "99/99 - 0s - loss: 0.4081 - custom_loss: 0.4077 - val_loss: 0.3577 - val_custom_loss: 0.3555\n",
            "Epoch 125/150\n",
            "99/99 - 0s - loss: 0.4084 - custom_loss: 0.4084 - val_loss: 0.3606 - val_custom_loss: 0.3584\n",
            "Epoch 126/150\n",
            "99/99 - 0s - loss: 0.4085 - custom_loss: 0.4088 - val_loss: 0.3587 - val_custom_loss: 0.3564\n",
            "Epoch 127/150\n",
            "99/99 - 0s - loss: 0.4079 - custom_loss: 0.4078 - val_loss: 0.3571 - val_custom_loss: 0.3548\n",
            "Epoch 128/150\n",
            "99/99 - 0s - loss: 0.4084 - custom_loss: 0.4084 - val_loss: 0.3577 - val_custom_loss: 0.3554\n",
            "Epoch 129/150\n",
            "99/99 - 0s - loss: 0.4084 - custom_loss: 0.4083 - val_loss: 0.3588 - val_custom_loss: 0.3566\n",
            "Epoch 130/150\n",
            "99/99 - 0s - loss: 0.4084 - custom_loss: 0.4089 - val_loss: 0.3585 - val_custom_loss: 0.3563\n",
            "Epoch 131/150\n",
            "99/99 - 0s - loss: 0.4082 - custom_loss: 0.4086 - val_loss: 0.3594 - val_custom_loss: 0.3572\n",
            "Epoch 132/150\n",
            "99/99 - 0s - loss: 0.4081 - custom_loss: 0.4084 - val_loss: 0.3592 - val_custom_loss: 0.3569\n",
            "Epoch 133/150\n",
            "99/99 - 0s - loss: 0.4077 - custom_loss: 0.4080 - val_loss: 0.3581 - val_custom_loss: 0.3559\n",
            "Epoch 134/150\n",
            "99/99 - 0s - loss: 0.4082 - custom_loss: 0.4079 - val_loss: 0.3569 - val_custom_loss: 0.3546\n",
            "Epoch 135/150\n",
            "99/99 - 0s - loss: 0.4079 - custom_loss: 0.4083 - val_loss: 0.3570 - val_custom_loss: 0.3547\n",
            "Epoch 136/150\n",
            "99/99 - 0s - loss: 0.4082 - custom_loss: 0.4083 - val_loss: 0.3575 - val_custom_loss: 0.3553\n",
            "Epoch 137/150\n",
            "99/99 - 0s - loss: 0.4084 - custom_loss: 0.4084 - val_loss: 0.3570 - val_custom_loss: 0.3547\n",
            "Epoch 138/150\n",
            "99/99 - 0s - loss: 0.4085 - custom_loss: 0.4085 - val_loss: 0.3587 - val_custom_loss: 0.3565\n",
            "Epoch 139/150\n",
            "99/99 - 0s - loss: 0.4089 - custom_loss: 0.4091 - val_loss: 0.3581 - val_custom_loss: 0.3559\n",
            "Epoch 140/150\n",
            "99/99 - 0s - loss: 0.4081 - custom_loss: 0.4083 - val_loss: 0.3576 - val_custom_loss: 0.3552\n",
            "Epoch 141/150\n",
            "99/99 - 0s - loss: 0.4082 - custom_loss: 0.4077 - val_loss: 0.3574 - val_custom_loss: 0.3550\n",
            "Epoch 142/150\n",
            "99/99 - 0s - loss: 0.4087 - custom_loss: 0.4085 - val_loss: 0.3583 - val_custom_loss: 0.3560\n",
            "Epoch 143/150\n",
            "99/99 - 0s - loss: 0.4083 - custom_loss: 0.4081 - val_loss: 0.3569 - val_custom_loss: 0.3546\n",
            "Epoch 144/150\n",
            "99/99 - 0s - loss: 0.4081 - custom_loss: 0.4080 - val_loss: 0.3573 - val_custom_loss: 0.3550\n",
            "Epoch 145/150\n",
            "99/99 - 0s - loss: 0.4083 - custom_loss: 0.4080 - val_loss: 0.3579 - val_custom_loss: 0.3557\n",
            "Epoch 146/150\n",
            "99/99 - 0s - loss: 0.4080 - custom_loss: 0.4079 - val_loss: 0.3569 - val_custom_loss: 0.3545\n",
            "Epoch 147/150\n",
            "99/99 - 0s - loss: 0.4086 - custom_loss: 0.4086 - val_loss: 0.3571 - val_custom_loss: 0.3547\n",
            "Epoch 148/150\n",
            "99/99 - 0s - loss: 0.4084 - custom_loss: 0.4083 - val_loss: 0.3577 - val_custom_loss: 0.3555\n",
            "Epoch 149/150\n",
            "99/99 - 0s - loss: 0.4082 - custom_loss: 0.4080 - val_loss: 0.3578 - val_custom_loss: 0.3556\n",
            "Epoch 150/150\n",
            "99/99 - 0s - loss: 0.4082 - custom_loss: 0.4083 - val_loss: 0.3572 - val_custom_loss: 0.3549\n"
          ],
          "name": "stdout"
        },
        {
          "output_type": "execute_result",
          "data": {
            "text/plain": [
              "<tensorflow.python.keras.callbacks.History at 0x7fb87478e748>"
            ]
          },
          "metadata": {
            "tags": []
          },
          "execution_count": 277
        }
      ]
    },
    {
      "cell_type": "code",
      "metadata": {
        "id": "TckgAYz2lGd6",
        "colab_type": "code",
        "colab": {}
      },
      "source": [
        ""
      ],
      "execution_count": 277,
      "outputs": []
    },
    {
      "cell_type": "code",
      "metadata": {
        "id": "qN7eOJDOLADB",
        "colab_type": "code",
        "colab": {}
      },
      "source": [
        "# # create and fit the LSTM network\n",
        "# model = Sequential()\n",
        "# # model.add(SimpleRNN(8, return_sequences=True))\n",
        "# # model.add(GRU(8, return_sequences=True))\n",
        "# model.add(LSTM(8, return_sequences=True))\n",
        "\n",
        "# # model.add(Dropout(0.1))\n",
        "# # model.add(Dense(16, activation = 'relu'))\n",
        "# # model.add(Dropout(0.1))\n",
        "# # model.add(Dense(16, activation = 'relu'))\n",
        "# # model.add(Dropout(0.1))\n",
        "# # model.add(Dense(1, activation='linear'))\n",
        "\n",
        "# model.add(Dense(units=1))\n",
        "# model.compile(loss='mse', optimizer='adam', metrics=[\"mse\", 'mae'])\n",
        "# model.fit(trainX, trainY, epochs=2, batch_size=100,  \n",
        "#                                   validation_data=(testX, testY), verbose=2)"
      ],
      "execution_count": 278,
      "outputs": []
    },
    {
      "cell_type": "code",
      "metadata": {
        "id": "ENljU5hBSnjU",
        "colab_type": "code",
        "colab": {
          "base_uri": "https://localhost:8080/",
          "height": 218
        },
        "outputId": "c0864ddf-9686-4482-e90d-8b9df0def04c"
      },
      "source": [
        "model.summary()\n"
      ],
      "execution_count": 279,
      "outputs": [
        {
          "output_type": "stream",
          "text": [
            "Model: \"test\"\n",
            "_________________________________________________________________\n",
            "Layer (type)                 Output Shape              Param #   \n",
            "=================================================================\n",
            "input_48 (InputLayer)        [(None, None, 8)]         0         \n",
            "_________________________________________________________________\n",
            "lstm_78 (LSTM)               [(None, 8), (None, 8), (N 544       \n",
            "=================================================================\n",
            "Total params: 544\n",
            "Trainable params: 544\n",
            "Non-trainable params: 0\n",
            "_________________________________________________________________\n"
          ],
          "name": "stdout"
        }
      ]
    },
    {
      "cell_type": "code",
      "metadata": {
        "id": "l0EwSv9sLDGJ",
        "colab_type": "code",
        "colab": {
          "base_uri": "https://localhost:8080/",
          "height": 67
        },
        "outputId": "037291f8-f4e7-4acf-cdfb-e02fc6940cd5"
      },
      "source": [
        "# make predictions\n",
        "trainPredict = model.predict(trainX)\n",
        "testPredict = model.predict(testX)\n",
        "\n",
        "print(trainPredict.shape)\n",
        "print(testPredict.shape)\n",
        "print(testY.shape)"
      ],
      "execution_count": 280,
      "outputs": [
        {
          "output_type": "stream",
          "text": [
            "(9851, 8)\n",
            "(1087, 8)\n",
            "(1087, 8)\n"
          ],
          "name": "stdout"
        }
      ]
    },
    {
      "cell_type": "code",
      "metadata": {
        "id": "SIIrSiSho6WB",
        "colab_type": "code",
        "colab": {
          "base_uri": "https://localhost:8080/",
          "height": 84
        },
        "outputId": "689ae5d0-a144-4fd1-b069-4de4181593dc"
      },
      "source": [
        "print(testY[1,:])\n",
        "print(testX[1,:,:])\n",
        "# print(testPredict[1,:]/testY[1,:])"
      ],
      "execution_count": 281,
      "outputs": [
        {
          "output_type": "stream",
          "text": [
            "[1.0123527  0.66552776 1.0655718  1.0112255  1.1106526  0.49434406\n",
            " 0.5017166  0.5712688 ]\n",
            "[[1.0054134  1.0123527  0.66552776 1.0655718  1.0112255  1.1106526\n",
            "  0.49434406 0.5017166 ]]\n"
          ],
          "name": "stdout"
        }
      ]
    },
    {
      "cell_type": "code",
      "metadata": {
        "id": "vVMPzAIltZab",
        "colab_type": "code",
        "colab": {
          "base_uri": "https://localhost:8080/",
          "height": 50
        },
        "outputId": "687541e9-9cdb-4bf7-93ab-4cf06fd6d7f4"
      },
      "source": [
        "YS = testY[:,7]\n",
        "# alfa = testX[:,0,1:] / testPredict[:,:7]\n",
        "# print(alfa[:3,:])\n",
        "\n",
        "import numpy as np\n",
        "# alfa = np.median(alfa, axis=1)\n",
        "\n",
        "# print(alfa[:3])\n",
        "print(YS[:3])\n",
        "\n",
        "YSp = testPredict[:,7] #* alfa\n",
        "\n",
        "print(YSp[:3])"
      ],
      "execution_count": 282,
      "outputs": [
        {
          "output_type": "stream",
          "text": [
            "[0.5017166 0.5712688 1.1500304]\n",
            "[0.8508892  0.78280604 0.76287115]\n"
          ],
          "name": "stdout"
        }
      ]
    },
    {
      "cell_type": "code",
      "metadata": {
        "id": "Riec-X5tLPJJ",
        "colab_type": "code",
        "colab": {
          "base_uri": "https://localhost:8080/",
          "height": 34
        },
        "outputId": "d151a72b-ba78-416e-a4c6-14657cba5f63"
      },
      "source": [
        "from sklearn.metrics import mean_squared_error\n",
        "from sklearn.metrics import r2_score\n",
        "\n",
        "RMSE = mean_squared_error(YS, YSp, squared=False)\n",
        "R2 = r2_score(YS, YSp)\n",
        "\n",
        "print(\"Test: \", RMSE, R2)\n",
        "\n",
        "\n"
      ],
      "execution_count": 283,
      "outputs": [
        {
          "output_type": "stream",
          "text": [
            "Test:  1.0974592 0.736272513121841\n"
          ],
          "name": "stdout"
        }
      ]
    },
    {
      "cell_type": "code",
      "metadata": {
        "id": "oXLOUuAGOchb",
        "colab_type": "code",
        "colab": {}
      },
      "source": [
        ""
      ],
      "execution_count": 1,
      "outputs": []
    },
    {
      "cell_type": "code",
      "metadata": {
        "id": "SqkHVGXclVNK",
        "colab_type": "code",
        "colab": {}
      },
      "source": [
        ""
      ],
      "execution_count": 1,
      "outputs": []
    },
    {
      "cell_type": "code",
      "metadata": {
        "id": "MD-jQDNglVP-",
        "colab_type": "code",
        "colab": {}
      },
      "source": [
        ""
      ],
      "execution_count": null,
      "outputs": []
    },
    {
      "cell_type": "code",
      "metadata": {
        "id": "ctnUqoO2lVSy",
        "colab_type": "code",
        "colab": {}
      },
      "source": [
        ""
      ],
      "execution_count": null,
      "outputs": []
    }
  ]
}